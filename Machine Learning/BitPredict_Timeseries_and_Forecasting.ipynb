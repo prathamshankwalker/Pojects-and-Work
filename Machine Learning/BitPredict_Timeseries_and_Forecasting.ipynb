{
  "nbformat": 4,
  "nbformat_minor": 0,
  "metadata": {
    "colab": {
      "provenance": []
    },
    "kernelspec": {
      "name": "python3",
      "display_name": "Python 3"
    },
    "language_info": {
      "name": "python"
    },
    "gpuClass": "standard"
  },
  "cells": [
    {
      "cell_type": "markdown",
      "source": [
        "BitPredict : timeseries forecasting model to predict price of bitcoin"
      ],
      "metadata": {
        "id": "bUdUuPu3VBLP"
      }
    },
    {
      "cell_type": "code",
      "source": [
        "#get the data of bitcoin and visualize it\n",
        "!wget https://raw.githubusercontent.com/mrdbourke/tensorflow-deep-learning/main/extras/BTC_USD_2013-10-01_2021-05-18-CoinDesk.csv"
      ],
      "metadata": {
        "colab": {
          "base_uri": "https://localhost:8080/"
        },
        "id": "e7ffqpKHmq3W",
        "outputId": "dfff1eb6-078b-42ee-a107-089d6d7df731"
      },
      "execution_count": null,
      "outputs": [
        {
          "output_type": "stream",
          "name": "stdout",
          "text": [
            "--2022-12-27 07:25:32--  https://raw.githubusercontent.com/mrdbourke/tensorflow-deep-learning/main/extras/BTC_USD_2013-10-01_2021-05-18-CoinDesk.csv\n",
            "Resolving raw.githubusercontent.com (raw.githubusercontent.com)... 185.199.108.133, 185.199.111.133, 185.199.109.133, ...\n",
            "Connecting to raw.githubusercontent.com (raw.githubusercontent.com)|185.199.108.133|:443... connected.\n",
            "HTTP request sent, awaiting response... 200 OK\n",
            "Length: 178509 (174K) [text/plain]\n",
            "Saving to: ‘BTC_USD_2013-10-01_2021-05-18-CoinDesk.csv’\n",
            "\n",
            "\r          BTC_USD_2   0%[                    ]       0  --.-KB/s               \rBTC_USD_2013-10-01_ 100%[===================>] 174.33K  --.-KB/s    in 0.02s   \n",
            "\n",
            "2022-12-27 07:25:33 (7.25 MB/s) - ‘BTC_USD_2013-10-01_2021-05-18-CoinDesk.csv’ saved [178509/178509]\n",
            "\n"
          ]
        }
      ]
    },
    {
      "cell_type": "code",
      "source": [
        "import pandas as pd\n",
        "df=pd.read_csv(\"/content/BTC_USD_2013-10-01_2021-05-18-CoinDesk.csv\",\n",
        "               parse_dates=[\"Date\"],\n",
        "               index_col=[\"Date\"])\n",
        "df.head()"
      ],
      "metadata": {
        "colab": {
          "base_uri": "https://localhost:8080/",
          "height": 237
        },
        "id": "R6EnXAcKmz0q",
        "outputId": "28dc40b5-154f-4654-ca6f-4b209ec7810c"
      },
      "execution_count": null,
      "outputs": [
        {
          "output_type": "execute_result",
          "data": {
            "text/plain": [
              "           Currency  Closing Price (USD)  24h Open (USD)  24h High (USD)  \\\n",
              "Date                                                                       \n",
              "2013-10-01      BTC            123.65499       124.30466       124.75166   \n",
              "2013-10-02      BTC            125.45500       123.65499       125.75850   \n",
              "2013-10-03      BTC            108.58483       125.45500       125.66566   \n",
              "2013-10-04      BTC            118.67466       108.58483       118.67500   \n",
              "2013-10-05      BTC            121.33866       118.67466       121.93633   \n",
              "\n",
              "            24h Low (USD)  \n",
              "Date                       \n",
              "2013-10-01      122.56349  \n",
              "2013-10-02      123.63383  \n",
              "2013-10-03       83.32833  \n",
              "2013-10-04      107.05816  \n",
              "2013-10-05      118.00566  "
            ],
            "text/html": [
              "\n",
              "  <div id=\"df-1b0a5306-2a47-47d3-b417-373239742a75\">\n",
              "    <div class=\"colab-df-container\">\n",
              "      <div>\n",
              "<style scoped>\n",
              "    .dataframe tbody tr th:only-of-type {\n",
              "        vertical-align: middle;\n",
              "    }\n",
              "\n",
              "    .dataframe tbody tr th {\n",
              "        vertical-align: top;\n",
              "    }\n",
              "\n",
              "    .dataframe thead th {\n",
              "        text-align: right;\n",
              "    }\n",
              "</style>\n",
              "<table border=\"1\" class=\"dataframe\">\n",
              "  <thead>\n",
              "    <tr style=\"text-align: right;\">\n",
              "      <th></th>\n",
              "      <th>Currency</th>\n",
              "      <th>Closing Price (USD)</th>\n",
              "      <th>24h Open (USD)</th>\n",
              "      <th>24h High (USD)</th>\n",
              "      <th>24h Low (USD)</th>\n",
              "    </tr>\n",
              "    <tr>\n",
              "      <th>Date</th>\n",
              "      <th></th>\n",
              "      <th></th>\n",
              "      <th></th>\n",
              "      <th></th>\n",
              "      <th></th>\n",
              "    </tr>\n",
              "  </thead>\n",
              "  <tbody>\n",
              "    <tr>\n",
              "      <th>2013-10-01</th>\n",
              "      <td>BTC</td>\n",
              "      <td>123.65499</td>\n",
              "      <td>124.30466</td>\n",
              "      <td>124.75166</td>\n",
              "      <td>122.56349</td>\n",
              "    </tr>\n",
              "    <tr>\n",
              "      <th>2013-10-02</th>\n",
              "      <td>BTC</td>\n",
              "      <td>125.45500</td>\n",
              "      <td>123.65499</td>\n",
              "      <td>125.75850</td>\n",
              "      <td>123.63383</td>\n",
              "    </tr>\n",
              "    <tr>\n",
              "      <th>2013-10-03</th>\n",
              "      <td>BTC</td>\n",
              "      <td>108.58483</td>\n",
              "      <td>125.45500</td>\n",
              "      <td>125.66566</td>\n",
              "      <td>83.32833</td>\n",
              "    </tr>\n",
              "    <tr>\n",
              "      <th>2013-10-04</th>\n",
              "      <td>BTC</td>\n",
              "      <td>118.67466</td>\n",
              "      <td>108.58483</td>\n",
              "      <td>118.67500</td>\n",
              "      <td>107.05816</td>\n",
              "    </tr>\n",
              "    <tr>\n",
              "      <th>2013-10-05</th>\n",
              "      <td>BTC</td>\n",
              "      <td>121.33866</td>\n",
              "      <td>118.67466</td>\n",
              "      <td>121.93633</td>\n",
              "      <td>118.00566</td>\n",
              "    </tr>\n",
              "  </tbody>\n",
              "</table>\n",
              "</div>\n",
              "      <button class=\"colab-df-convert\" onclick=\"convertToInteractive('df-1b0a5306-2a47-47d3-b417-373239742a75')\"\n",
              "              title=\"Convert this dataframe to an interactive table.\"\n",
              "              style=\"display:none;\">\n",
              "        \n",
              "  <svg xmlns=\"http://www.w3.org/2000/svg\" height=\"24px\"viewBox=\"0 0 24 24\"\n",
              "       width=\"24px\">\n",
              "    <path d=\"M0 0h24v24H0V0z\" fill=\"none\"/>\n",
              "    <path d=\"M18.56 5.44l.94 2.06.94-2.06 2.06-.94-2.06-.94-.94-2.06-.94 2.06-2.06.94zm-11 1L8.5 8.5l.94-2.06 2.06-.94-2.06-.94L8.5 2.5l-.94 2.06-2.06.94zm10 10l.94 2.06.94-2.06 2.06-.94-2.06-.94-.94-2.06-.94 2.06-2.06.94z\"/><path d=\"M17.41 7.96l-1.37-1.37c-.4-.4-.92-.59-1.43-.59-.52 0-1.04.2-1.43.59L10.3 9.45l-7.72 7.72c-.78.78-.78 2.05 0 2.83L4 21.41c.39.39.9.59 1.41.59.51 0 1.02-.2 1.41-.59l7.78-7.78 2.81-2.81c.8-.78.8-2.07 0-2.86zM5.41 20L4 18.59l7.72-7.72 1.47 1.35L5.41 20z\"/>\n",
              "  </svg>\n",
              "      </button>\n",
              "      \n",
              "  <style>\n",
              "    .colab-df-container {\n",
              "      display:flex;\n",
              "      flex-wrap:wrap;\n",
              "      gap: 12px;\n",
              "    }\n",
              "\n",
              "    .colab-df-convert {\n",
              "      background-color: #E8F0FE;\n",
              "      border: none;\n",
              "      border-radius: 50%;\n",
              "      cursor: pointer;\n",
              "      display: none;\n",
              "      fill: #1967D2;\n",
              "      height: 32px;\n",
              "      padding: 0 0 0 0;\n",
              "      width: 32px;\n",
              "    }\n",
              "\n",
              "    .colab-df-convert:hover {\n",
              "      background-color: #E2EBFA;\n",
              "      box-shadow: 0px 1px 2px rgba(60, 64, 67, 0.3), 0px 1px 3px 1px rgba(60, 64, 67, 0.15);\n",
              "      fill: #174EA6;\n",
              "    }\n",
              "\n",
              "    [theme=dark] .colab-df-convert {\n",
              "      background-color: #3B4455;\n",
              "      fill: #D2E3FC;\n",
              "    }\n",
              "\n",
              "    [theme=dark] .colab-df-convert:hover {\n",
              "      background-color: #434B5C;\n",
              "      box-shadow: 0px 1px 3px 1px rgba(0, 0, 0, 0.15);\n",
              "      filter: drop-shadow(0px 1px 2px rgba(0, 0, 0, 0.3));\n",
              "      fill: #FFFFFF;\n",
              "    }\n",
              "  </style>\n",
              "\n",
              "      <script>\n",
              "        const buttonEl =\n",
              "          document.querySelector('#df-1b0a5306-2a47-47d3-b417-373239742a75 button.colab-df-convert');\n",
              "        buttonEl.style.display =\n",
              "          google.colab.kernel.accessAllowed ? 'block' : 'none';\n",
              "\n",
              "        async function convertToInteractive(key) {\n",
              "          const element = document.querySelector('#df-1b0a5306-2a47-47d3-b417-373239742a75');\n",
              "          const dataTable =\n",
              "            await google.colab.kernel.invokeFunction('convertToInteractive',\n",
              "                                                     [key], {});\n",
              "          if (!dataTable) return;\n",
              "\n",
              "          const docLinkHtml = 'Like what you see? Visit the ' +\n",
              "            '<a target=\"_blank\" href=https://colab.research.google.com/notebooks/data_table.ipynb>data table notebook</a>'\n",
              "            + ' to learn more about interactive tables.';\n",
              "          element.innerHTML = '';\n",
              "          dataTable['output_type'] = 'display_data';\n",
              "          await google.colab.output.renderOutput(dataTable, element);\n",
              "          const docLink = document.createElement('div');\n",
              "          docLink.innerHTML = docLinkHtml;\n",
              "          element.appendChild(docLink);\n",
              "        }\n",
              "      </script>\n",
              "    </div>\n",
              "  </div>\n",
              "  "
            ]
          },
          "metadata": {},
          "execution_count": 2
        }
      ]
    },
    {
      "cell_type": "code",
      "source": [
        "len(df)"
      ],
      "metadata": {
        "colab": {
          "base_uri": "https://localhost:8080/"
        },
        "id": "xpBb31ldoXOw",
        "outputId": "1de4b8df-b40e-4b63-a367-042f72b044fd"
      },
      "execution_count": null,
      "outputs": [
        {
          "output_type": "execute_result",
          "data": {
            "text/plain": [
              "2787"
            ]
          },
          "metadata": {},
          "execution_count": 3
        }
      ]
    },
    {
      "cell_type": "code",
      "source": [
        "# in timeseries data problems, the data set is usually less\n",
        "#in this case , the data is daily data => 365*8 years == \n",
        "\n",
        "#seasonality :it has seasonality of daily or value of 365 (per day)\n",
        "# we only want closing price for each day"
      ],
      "metadata": {
        "id": "G3aO8_JgocKd"
      },
      "execution_count": null,
      "outputs": []
    },
    {
      "cell_type": "code",
      "source": [
        "bitcoin_prices= pd.DataFrame(df[\"Closing Price (USD)\"])\n",
        "bitcoin_prices"
      ],
      "metadata": {
        "colab": {
          "base_uri": "https://localhost:8080/",
          "height": 455
        },
        "id": "bXwp6IpPux53",
        "outputId": "9e4355ba-783f-4b4f-c3c7-bf23b40191d3"
      },
      "execution_count": null,
      "outputs": [
        {
          "output_type": "execute_result",
          "data": {
            "text/plain": [
              "            Closing Price (USD)\n",
              "Date                           \n",
              "2013-10-01           123.654990\n",
              "2013-10-02           125.455000\n",
              "2013-10-03           108.584830\n",
              "2013-10-04           118.674660\n",
              "2013-10-05           121.338660\n",
              "...                         ...\n",
              "2021-05-14         49764.132082\n",
              "2021-05-15         50032.693137\n",
              "2021-05-16         47885.625255\n",
              "2021-05-17         45604.615754\n",
              "2021-05-18         43144.471291\n",
              "\n",
              "[2787 rows x 1 columns]"
            ],
            "text/html": [
              "\n",
              "  <div id=\"df-7df59a42-a5a0-495c-b401-b9934c0a1846\">\n",
              "    <div class=\"colab-df-container\">\n",
              "      <div>\n",
              "<style scoped>\n",
              "    .dataframe tbody tr th:only-of-type {\n",
              "        vertical-align: middle;\n",
              "    }\n",
              "\n",
              "    .dataframe tbody tr th {\n",
              "        vertical-align: top;\n",
              "    }\n",
              "\n",
              "    .dataframe thead th {\n",
              "        text-align: right;\n",
              "    }\n",
              "</style>\n",
              "<table border=\"1\" class=\"dataframe\">\n",
              "  <thead>\n",
              "    <tr style=\"text-align: right;\">\n",
              "      <th></th>\n",
              "      <th>Closing Price (USD)</th>\n",
              "    </tr>\n",
              "    <tr>\n",
              "      <th>Date</th>\n",
              "      <th></th>\n",
              "    </tr>\n",
              "  </thead>\n",
              "  <tbody>\n",
              "    <tr>\n",
              "      <th>2013-10-01</th>\n",
              "      <td>123.654990</td>\n",
              "    </tr>\n",
              "    <tr>\n",
              "      <th>2013-10-02</th>\n",
              "      <td>125.455000</td>\n",
              "    </tr>\n",
              "    <tr>\n",
              "      <th>2013-10-03</th>\n",
              "      <td>108.584830</td>\n",
              "    </tr>\n",
              "    <tr>\n",
              "      <th>2013-10-04</th>\n",
              "      <td>118.674660</td>\n",
              "    </tr>\n",
              "    <tr>\n",
              "      <th>2013-10-05</th>\n",
              "      <td>121.338660</td>\n",
              "    </tr>\n",
              "    <tr>\n",
              "      <th>...</th>\n",
              "      <td>...</td>\n",
              "    </tr>\n",
              "    <tr>\n",
              "      <th>2021-05-14</th>\n",
              "      <td>49764.132082</td>\n",
              "    </tr>\n",
              "    <tr>\n",
              "      <th>2021-05-15</th>\n",
              "      <td>50032.693137</td>\n",
              "    </tr>\n",
              "    <tr>\n",
              "      <th>2021-05-16</th>\n",
              "      <td>47885.625255</td>\n",
              "    </tr>\n",
              "    <tr>\n",
              "      <th>2021-05-17</th>\n",
              "      <td>45604.615754</td>\n",
              "    </tr>\n",
              "    <tr>\n",
              "      <th>2021-05-18</th>\n",
              "      <td>43144.471291</td>\n",
              "    </tr>\n",
              "  </tbody>\n",
              "</table>\n",
              "<p>2787 rows × 1 columns</p>\n",
              "</div>\n",
              "      <button class=\"colab-df-convert\" onclick=\"convertToInteractive('df-7df59a42-a5a0-495c-b401-b9934c0a1846')\"\n",
              "              title=\"Convert this dataframe to an interactive table.\"\n",
              "              style=\"display:none;\">\n",
              "        \n",
              "  <svg xmlns=\"http://www.w3.org/2000/svg\" height=\"24px\"viewBox=\"0 0 24 24\"\n",
              "       width=\"24px\">\n",
              "    <path d=\"M0 0h24v24H0V0z\" fill=\"none\"/>\n",
              "    <path d=\"M18.56 5.44l.94 2.06.94-2.06 2.06-.94-2.06-.94-.94-2.06-.94 2.06-2.06.94zm-11 1L8.5 8.5l.94-2.06 2.06-.94-2.06-.94L8.5 2.5l-.94 2.06-2.06.94zm10 10l.94 2.06.94-2.06 2.06-.94-2.06-.94-.94-2.06-.94 2.06-2.06.94z\"/><path d=\"M17.41 7.96l-1.37-1.37c-.4-.4-.92-.59-1.43-.59-.52 0-1.04.2-1.43.59L10.3 9.45l-7.72 7.72c-.78.78-.78 2.05 0 2.83L4 21.41c.39.39.9.59 1.41.59.51 0 1.02-.2 1.41-.59l7.78-7.78 2.81-2.81c.8-.78.8-2.07 0-2.86zM5.41 20L4 18.59l7.72-7.72 1.47 1.35L5.41 20z\"/>\n",
              "  </svg>\n",
              "      </button>\n",
              "      \n",
              "  <style>\n",
              "    .colab-df-container {\n",
              "      display:flex;\n",
              "      flex-wrap:wrap;\n",
              "      gap: 12px;\n",
              "    }\n",
              "\n",
              "    .colab-df-convert {\n",
              "      background-color: #E8F0FE;\n",
              "      border: none;\n",
              "      border-radius: 50%;\n",
              "      cursor: pointer;\n",
              "      display: none;\n",
              "      fill: #1967D2;\n",
              "      height: 32px;\n",
              "      padding: 0 0 0 0;\n",
              "      width: 32px;\n",
              "    }\n",
              "\n",
              "    .colab-df-convert:hover {\n",
              "      background-color: #E2EBFA;\n",
              "      box-shadow: 0px 1px 2px rgba(60, 64, 67, 0.3), 0px 1px 3px 1px rgba(60, 64, 67, 0.15);\n",
              "      fill: #174EA6;\n",
              "    }\n",
              "\n",
              "    [theme=dark] .colab-df-convert {\n",
              "      background-color: #3B4455;\n",
              "      fill: #D2E3FC;\n",
              "    }\n",
              "\n",
              "    [theme=dark] .colab-df-convert:hover {\n",
              "      background-color: #434B5C;\n",
              "      box-shadow: 0px 1px 3px 1px rgba(0, 0, 0, 0.15);\n",
              "      filter: drop-shadow(0px 1px 2px rgba(0, 0, 0, 0.3));\n",
              "      fill: #FFFFFF;\n",
              "    }\n",
              "  </style>\n",
              "\n",
              "      <script>\n",
              "        const buttonEl =\n",
              "          document.querySelector('#df-7df59a42-a5a0-495c-b401-b9934c0a1846 button.colab-df-convert');\n",
              "        buttonEl.style.display =\n",
              "          google.colab.kernel.accessAllowed ? 'block' : 'none';\n",
              "\n",
              "        async function convertToInteractive(key) {\n",
              "          const element = document.querySelector('#df-7df59a42-a5a0-495c-b401-b9934c0a1846');\n",
              "          const dataTable =\n",
              "            await google.colab.kernel.invokeFunction('convertToInteractive',\n",
              "                                                     [key], {});\n",
              "          if (!dataTable) return;\n",
              "\n",
              "          const docLinkHtml = 'Like what you see? Visit the ' +\n",
              "            '<a target=\"_blank\" href=https://colab.research.google.com/notebooks/data_table.ipynb>data table notebook</a>'\n",
              "            + ' to learn more about interactive tables.';\n",
              "          element.innerHTML = '';\n",
              "          dataTable['output_type'] = 'display_data';\n",
              "          await google.colab.output.renderOutput(dataTable, element);\n",
              "          const docLink = document.createElement('div');\n",
              "          docLink.innerHTML = docLinkHtml;\n",
              "          element.appendChild(docLink);\n",
              "        }\n",
              "      </script>\n",
              "    </div>\n",
              "  </div>\n",
              "  "
            ]
          },
          "metadata": {},
          "execution_count": 5
        }
      ]
    },
    {
      "cell_type": "code",
      "source": [
        "import matplotlib.pyplot as plt\n",
        "bitcoin_prices.plot()"
      ],
      "metadata": {
        "colab": {
          "base_uri": "https://localhost:8080/",
          "height": 296
        },
        "id": "oNbAEejGve3J",
        "outputId": "5bf29173-dd8a-4ffe-eaa6-4567801f0d0e"
      },
      "execution_count": null,
      "outputs": [
        {
          "output_type": "execute_result",
          "data": {
            "text/plain": [
              "<matplotlib.axes._subplots.AxesSubplot at 0x7f595d0213a0>"
            ]
          },
          "metadata": {},
          "execution_count": 6
        },
        {
          "output_type": "display_data",
          "data": {
            "text/plain": [
              "<Figure size 432x288 with 1 Axes>"
            ],
            "image/png": "[encoded data removed]"
          },
          "metadata": {
            "needs_background": "light"
          }
        }
      ]
    },
    {
      "cell_type": "code",
      "source": [
        "# importing timeseries data with pythons csv module\n",
        "import csv\n",
        "from datetime import datetime\n",
        "\n",
        "timesteps=[]\n",
        "btc_price=[]\n",
        "with open(\"/content/BTC_USD_2013-10-01_2021-05-18-CoinDesk.csv\",\"r\") as f:\n",
        "  csv_reader=csv.reader(f,delimiter=\",\")\n",
        "  next(csv_reader) #skips first line ie the column titles\n",
        "  for line in csv_reader:\n",
        "    timesteps.append(datetime.strptime(line[1],\"%Y-%m-%d\")) #get the dates as date and not strings\n",
        "    btc_price.append(float(line[2]))\n",
        "\n",
        "# view 10 of each\n",
        "timesteps[:10],btc_price[:10]"
      ],
      "metadata": {
        "colab": {
          "base_uri": "https://localhost:8080/"
        },
        "id": "k91RKe7OwQPG",
        "outputId": "28bf5469-a0b8-40fa-afd1-f2a97324a584"
      },
      "execution_count": null,
      "outputs": [
        {
          "output_type": "execute_result",
          "data": {
            "text/plain": [
              "([datetime.datetime(2013, 10, 1, 0, 0),\n",
              "  datetime.datetime(2013, 10, 2, 0, 0),\n",
              "  datetime.datetime(2013, 10, 3, 0, 0),\n",
              "  datetime.datetime(2013, 10, 4, 0, 0),\n",
              "  datetime.datetime(2013, 10, 5, 0, 0),\n",
              "  datetime.datetime(2013, 10, 6, 0, 0),\n",
              "  datetime.datetime(2013, 10, 7, 0, 0),\n",
              "  datetime.datetime(2013, 10, 8, 0, 0),\n",
              "  datetime.datetime(2013, 10, 9, 0, 0),\n",
              "  datetime.datetime(2013, 10, 10, 0, 0)],\n",
              " [123.65499,\n",
              "  125.455,\n",
              "  108.58483,\n",
              "  118.67466,\n",
              "  121.33866,\n",
              "  120.65533,\n",
              "  121.795,\n",
              "  123.033,\n",
              "  124.049,\n",
              "  125.96116])"
            ]
          },
          "metadata": {},
          "execution_count": 7
        }
      ]
    },
    {
      "cell_type": "code",
      "source": [
        "# plot from csv\n",
        "import numpy as np\n",
        "plt.plot(timesteps,btc_price)"
      ],
      "metadata": {
        "colab": {
          "base_uri": "https://localhost:8080/",
          "height": 282
        },
        "id": "Xio-cTWSzf9o",
        "outputId": "7990ca41-9cfb-4bd7-d62c-6abff5cc6f47"
      },
      "execution_count": null,
      "outputs": [
        {
          "output_type": "execute_result",
          "data": {
            "text/plain": [
              "[<matplotlib.lines.Line2D at 0x7f595ca19910>]"
            ]
          },
          "metadata": {},
          "execution_count": 8
        },
        {
          "output_type": "display_data",
          "data": {
            "text/plain": [
              "<Figure size 432x288 with 1 Axes>"
            ],
            "image/png": "[encoded data removed]"
          },
          "metadata": {
            "needs_background": "light"
          }
        }
      ]
    },
    {
      "cell_type": "code",
      "source": [
        "# Get bitcoin date array\n",
        "timesteps = bitcoin_prices.index.to_numpy()\n",
        "prices = bitcoin_prices[\"Closing Price (USD)\"].to_numpy()\n",
        "\n",
        "timesteps[:10], prices[:10]"
      ],
      "metadata": {
        "colab": {
          "base_uri": "https://localhost:8080/"
        },
        "id": "0YWcRHVpgqD1",
        "outputId": "f9d862e1-aa84-4419-a594-77ff0f98ec32"
      },
      "execution_count": null,
      "outputs": [
        {
          "output_type": "execute_result",
          "data": {
            "text/plain": [
              "(array(['2013-10-01T00:00:00.000000000', '2013-10-02T00:00:00.000000000',\n",
              "        '2013-10-03T00:00:00.000000000', '2013-10-04T00:00:00.000000000',\n",
              "        '2013-10-05T00:00:00.000000000', '2013-10-06T00:00:00.000000000',\n",
              "        '2013-10-07T00:00:00.000000000', '2013-10-08T00:00:00.000000000',\n",
              "        '2013-10-09T00:00:00.000000000', '2013-10-10T00:00:00.000000000'],\n",
              "       dtype='datetime64[ns]'),\n",
              " array([123.65499, 125.455  , 108.58483, 118.67466, 121.33866, 120.65533,\n",
              "        121.795  , 123.033  , 124.049  , 125.96116]))"
            ]
          },
          "metadata": {},
          "execution_count": 9
        }
      ]
    },
    {
      "cell_type": "code",
      "source": [
        "# # wrong way to make splits\n",
        "\n",
        "# # this will randomly split the data, hence the test samples will be mixed with the training data=> data leakage\n",
        "\n",
        "# from sklearn.model_selection import train_test_split\n",
        "\n",
        "# X_train,X_test,y_train,y_test= train_test_split(timesteps,\n",
        "#                                                 prices,\n",
        "#                                                 test_size=0.2,\n",
        "#                                                 random_state=42)\n",
        "# X_train.shape,X_test.shape,y_train.shape,y_test.shape"
      ],
      "metadata": {
        "id": "1-e-iAmB1yXP"
      },
      "execution_count": null,
      "outputs": []
    },
    {
      "cell_type": "code",
      "source": [
        "# we need to split the data by dividing the time with two ranges, one for training(2013-2019) and test(2019-2021)\n",
        "split_size=int(0.8*len(prices))\n",
        "\n",
        "#create train data splits (everything before the split)\n",
        "X_train,y_train= timesteps[:split_size],prices[:split_size]\n",
        "\n",
        "\n",
        "#create train data splits (everything after the split)\n",
        "X_test,y_test=timesteps[split_size:],prices[split_size:]\n",
        "\n"
      ],
      "metadata": {
        "id": "0OLxF2Wnf0PE"
      },
      "execution_count": null,
      "outputs": []
    },
    {
      "cell_type": "code",
      "source": [
        "# plot correctly made splits\n",
        "plt.scatter(X_train,y_train,s=5,label=\"training_data\")\n",
        "plt.scatter(X_test,y_test,s=5,label=\"testing_data\")\n",
        "plt.xlabel(\"Date\")\n",
        "plt.ylabel(\"Price\")\n",
        "plt.show();"
      ],
      "metadata": {
        "colab": {
          "base_uri": "https://localhost:8080/",
          "height": 279
        },
        "id": "LzGkfG2yh2IS",
        "outputId": "db5b9efa-17ce-42ac-b43c-e7b8c2f8bc6a"
      },
      "execution_count": null,
      "outputs": [
        {
          "output_type": "display_data",
          "data": {
            "text/plain": [
              "<Figure size 432x288 with 1 Axes>"
            ],
            "image/png": "[encoded data removed]"
          },
          "metadata": {
            "needs_background": "light"
          }
        }
      ]
    },
    {
      "cell_type": "code",
      "source": [
        "# Create a function to plot time series data\n",
        "def plot_time_series(timesteps, values, format='.', start=0, end=None, label=None):\n",
        "  \"\"\"\n",
        "  Plots a timesteps (a series of points in time) against values (a series of values across timesteps).\n",
        "  \n",
        "  Parameters\n",
        "  ---------\n",
        "  timesteps : array of timesteps\n",
        "  values : array of values across time\n",
        "  format : style of plot, default \".\"\n",
        "  start : where to start the plot (setting a value will index from start of timesteps & values)\n",
        "  end : where to end the plot (setting a value will index from end of timesteps & values)\n",
        "  label : label to show on plot of values\n",
        "  \"\"\"\n",
        "  # Plot the series\n",
        "  plt.plot(timesteps[start:end], values[start:end], format, label=label)\n",
        "  plt.xlabel(\"Time\")\n",
        "  plt.ylabel(\"BTC Price\")\n",
        "  if label:\n",
        "    plt.legend(fontsize=14) # make label bigger\n",
        "  plt.grid(True)\n",
        "     \n"
      ],
      "metadata": {
        "id": "gx7ItpgZjG3S"
      },
      "execution_count": null,
      "outputs": []
    },
    {
      "cell_type": "code",
      "source": [
        "# Try out our plotting function\n",
        "plt.figure(figsize=(10, 7))\n",
        "plot_time_series(timesteps=X_train, values=y_train, label=\"Train data\")\n",
        "plot_time_series(timesteps=X_test, values=y_test, label=\"Test data\")"
      ],
      "metadata": {
        "colab": {
          "base_uri": "https://localhost:8080/",
          "height": 442
        },
        "id": "dRkkfnwejPSD",
        "outputId": "c0c53957-5088-4ce3-8ab9-acfbed81ee40"
      },
      "execution_count": null,
      "outputs": [
        {
          "output_type": "display_data",
          "data": {
            "text/plain": [
              "<Figure size 720x504 with 1 Axes>"
            ],
            "image/png": "[encoded data removed]"
          },
          "metadata": {
            "needs_background": "light"
          }
        }
      ]
    },
    {
      "cell_type": "markdown",
      "source": [
        "Baseline model 0 : naive model"
      ],
      "metadata": {
        "id": "miHoNK4-kiKT"
      }
    },
    {
      "cell_type": "markdown",
      "source": [
        "naive model states that the prediction will simply be the previous timestep value.ie y(prediction) on 4th april = y on 3rd april"
      ],
      "metadata": {
        "id": "QTEwtXWsknS_"
      }
    },
    {
      "cell_type": "code",
      "source": [
        "#create a naive forecast\n",
        "naive_forecast= y_test[:-1] #naive_forecast will have all the values of y_test except for the last one\n",
        "naive_forecast[-10:],y_test[-10:]"
      ],
      "metadata": {
        "colab": {
          "base_uri": "https://localhost:8080/"
        },
        "id": "9YZRwugOlcCc",
        "outputId": "1c642c3c-fd1f-44d8-b840-edf8abc34deb"
      },
      "execution_count": null,
      "outputs": [
        {
          "output_type": "execute_result",
          "data": {
            "text/plain": [
              "(array([57107.12067189, 58788.20967893, 58102.19142623, 55715.54665129,\n",
              "        56573.5554719 , 52147.82118698, 49764.1320816 , 50032.69313676,\n",
              "        47885.62525472, 45604.61575361]),\n",
              " array([58788.20967893, 58102.19142623, 55715.54665129, 56573.5554719 ,\n",
              "        52147.82118698, 49764.1320816 , 50032.69313676, 47885.62525472,\n",
              "        45604.61575361, 43144.47129086]))"
            ]
          },
          "metadata": {},
          "execution_count": 15
        }
      ]
    },
    {
      "cell_type": "code",
      "source": [
        "# plot_time_series(X_train,y_train,label=\"train_data\")\n",
        "plot_time_series(X_test,y_test,label=\"test_data\",format=\"-\",start=450)\n",
        "plot_time_series(X_test[1:],naive_forecast,label=\"naive_forecast\",format=\"-\",start=450)\n",
        "\n",
        "# the naive forecast just has a lag of value,hence the lines dont perfectly match\n"
      ],
      "metadata": {
        "colab": {
          "base_uri": "https://localhost:8080/",
          "height": 279
        },
        "id": "w6ljZAoLmo17",
        "outputId": "9bc059fc-fc12-435c-df99-8036c7035ab3"
      },
      "execution_count": null,
      "outputs": [
        {
          "output_type": "display_data",
          "data": {
            "text/plain": [
              "<Figure size 432x288 with 1 Axes>"
            ],
            "image/png": "[encoded data removed]"
          },
          "metadata": {
            "needs_background": "light"
          }
        }
      ]
    },
    {
      "cell_type": "code",
      "source": [
        "# we are predicting a number, this means that it is a form of a regression problem\n",
        "# the metrics for evaluating will be same as regression problem\n",
        "\n",
        "# some metrics for evaluation are:\n",
        "# 1. MSE\n",
        "# 2. MAE\n",
        "\n",
        "# basically we are trying to evaluate how much our prediction is wrong wrt to our actual value\n",
        "\n",
        "# metrics for time series evaluation are;\n",
        "# 1. MAPE\n",
        "# 2. MASE\n"
      ],
      "metadata": {
        "id": "VOHAJ2WtoizD"
      },
      "execution_count": null,
      "outputs": []
    },
    {
      "cell_type": "code",
      "source": [
        "# implementing MASE using tensorflow\n",
        "import tensorflow as tf\n",
        "\n",
        "# MASE implemented courtesy of sktime - https://github.com/alan-turing-institute/sktime/blob/ee7a06843a44f4aaec7582d847e36073a9ab0566/sktime/performance_metrics/forecasting/_functions.py#L16\n",
        "def mean_absolute_scaled_error(y_true, y_pred):\n",
        "  \"\"\"\n",
        "  Implement MASE (assuming no seasonality of data).\n",
        "  \"\"\"\n",
        "  mae = tf.reduce_mean(tf.abs(y_true - y_pred))\n",
        "\n",
        "  # Find MAE of naive forecast (no seasonality)\n",
        "  mae_naive_no_season = tf.reduce_mean(tf.abs(y_true[1:] - y_true[:-1])) # our seasonality is 1 day (hence the shifting of 1 day)\n",
        "\n",
        "  return mae / mae_naive_no_season"
      ],
      "metadata": {
        "id": "l9UQvhm_smdI"
      },
      "execution_count": null,
      "outputs": []
    },
    {
      "cell_type": "code",
      "source": [
        "mean_absolute_scaled_error(y_test[1:],naive_forecast).numpy()"
      ],
      "metadata": {
        "colab": {
          "base_uri": "https://localhost:8080/"
        },
        "id": "N80Kmpt5tL6w",
        "outputId": "2102cd0d-9194-46b4-c987-bf48fcc83aac"
      },
      "execution_count": null,
      "outputs": [
        {
          "output_type": "execute_result",
          "data": {
            "text/plain": [
              "0.9995699939182624"
            ]
          },
          "metadata": {},
          "execution_count": 19
        }
      ]
    },
    {
      "cell_type": "code",
      "source": [
        "#create a function to evaluate a model on all the metrices\n",
        "\n",
        "def evaluate_preds(y_true, y_pred):\n",
        "  # Make sure float32 (for metric calculations)\n",
        "  y_true = tf.cast(y_true, dtype=tf.float32)\n",
        "  y_pred = tf.cast(y_pred, dtype=tf.float32)\n",
        "\n",
        "  # Calculate various metrics\n",
        "  mae = tf.keras.metrics.mean_absolute_error(y_true, y_pred)\n",
        "  mse = tf.keras.metrics.mean_squared_error(y_true, y_pred) # puts and emphasis on outliers (all errors get squared)\n",
        "  rmse = tf.sqrt(mse)\n",
        "  mape = tf.keras.metrics.mean_absolute_percentage_error(y_true, y_pred)\n",
        "  mase = mean_absolute_scaled_error(y_true, y_pred)\n",
        "  \n",
        "  return {\"mae\": mae.numpy(),\n",
        "          \"mse\": mse.numpy(),\n",
        "          \"rmse\": rmse.numpy(),\n",
        "          \"mape\": mape.numpy(),\n",
        "          \"mase\": mase.numpy()}"
      ],
      "metadata": {
        "id": "GzuV9qEzt5H2"
      },
      "execution_count": null,
      "outputs": []
    },
    {
      "cell_type": "code",
      "source": [
        "naive_results=evaluate_preds(y_test[1:],naive_forecast)\n",
        "naive_results"
      ],
      "metadata": {
        "colab": {
          "base_uri": "https://localhost:8080/"
        },
        "id": "L1mhgG4QuI3j",
        "outputId": "e0ec1192-25e7-472d-eca7-4d3ec58c231b"
      },
      "execution_count": null,
      "outputs": [
        {
          "output_type": "execute_result",
          "data": {
            "text/plain": [
              "{'mae': 567.9802,\n",
              " 'mse': 1147547.0,\n",
              " 'rmse': 1071.2362,\n",
              " 'mape': 2.516525,\n",
              " 'mase': 0.99957}"
            ]
          },
          "metadata": {},
          "execution_count": 21
        }
      ]
    },
    {
      "cell_type": "code",
      "source": [
        "# format data part 2 : windowing our dataset\n",
        "# we window our timeseries data to turn our data into supervised learning problem\n",
        "\n",
        "print(f\"using this {btc_price[:7]} we want to predict {btc_price[7]}\")"
      ],
      "metadata": {
        "colab": {
          "base_uri": "https://localhost:8080/"
        },
        "id": "xzE5myvtxWEl",
        "outputId": "cfb0c8ed-c86b-4ade-811a-8e264ac1487f"
      },
      "execution_count": null,
      "outputs": [
        {
          "output_type": "stream",
          "name": "stdout",
          "text": [
            "using this [123.65499, 125.455, 108.58483, 118.67466, 121.33866, 120.65533, 121.795] we want to predict 123.033\n"
          ]
        }
      ]
    },
    {
      "cell_type": "code",
      "source": [
        "HORIZON=1 #predict next one day\n",
        "WINDOW_SIZE=7 #use past week data to predict the horizon\n",
        "\n",
        "# Create function to label windowed data\n",
        "def get_labelled_windows(x, horizon=1):\n",
        "  \"\"\"\n",
        "  Creates labels for windowed dataset.\n",
        "\n",
        "  E.g. if horizon=1 (default)\n",
        "  Input: [1, 2, 3, 4, 5, 6] -> Output: ([1, 2, 3, 4, 5], [6])\n",
        "  \"\"\"\n",
        "  return x[:, :-horizon], x[:, -horizon:]\n",
        "     \n",
        "\n"
      ],
      "metadata": {
        "id": "-Lk2gMzkzZHY"
      },
      "execution_count": null,
      "outputs": []
    },
    {
      "cell_type": "code",
      "source": [
        "# Test out the window labelling function\n",
        "test_window, test_label = get_labelled_windows(tf.expand_dims(tf.range(8)+1, axis=0), horizon=HORIZON)\n",
        "print(f\"Window: {tf.squeeze(test_window).numpy()} -> Label: {tf.squeeze(test_label).numpy()}\")"
      ],
      "metadata": {
        "id": "zZXLneHz0OFr",
        "outputId": "2f78523d-be12-4172-82fd-7d73bb546297",
        "colab": {
          "base_uri": "https://localhost:8080/"
        }
      },
      "execution_count": null,
      "outputs": [
        {
          "output_type": "stream",
          "name": "stdout",
          "text": [
            "Window: [1 2 3 4 5 6 7] -> Label: 8\n"
          ]
        }
      ]
    },
    {
      "cell_type": "markdown",
      "source": [
        "# make preprocessing function to create windows\n",
        "\n",
        "our function will:\n",
        "1. create a window step of a specific window size\n",
        "2. use numpy indexing to create 2d array of multiple window steps, eg: \n",
        "[\n",
        "    [1,2,3,4,5,6],\n",
        "    [2,3,4,5,6,7],\n",
        "    [3,4,5,6,7,8],\n",
        "    .....\n",
        "]\n",
        "3. uses the 2d array that is made to index on a target \n",
        "4. uses get_labelled_windows() we created above to turn the window steps into windows with a specific horizon"
      ],
      "metadata": {
        "id": "HcY9tmNjHmO8"
      }
    },
    {
      "cell_type": "code",
      "source": [
        "import numpy as np\n",
        "# create function to view numpy arrays as windows\n",
        "def make_windows(x,window_size=WINDOW_SIZE,horizon=HORIZON):\n",
        "  \"\"\"\n",
        "    converts a 1d array into a 2d sequential array of sliding windows of widow_size and with horizon size label\n",
        "  \"\"\"\n",
        "  # create a window step of a specific window size\n",
        "  window_step=np.expand_dims(np.arange(window_size+horizon),axis=0)\n",
        "\n",
        "  # create a 2d array of multiple window steps\n",
        "  window_indexes=window_step + np.expand_dims(np.arange(len(x)-(window_size+horizon-1)),axis=0).T\n",
        "  print(window_indexes)\n",
        "\n",
        "  windowed_array=x[window_indexes]\n",
        "\n",
        "  windows,labels=get_labelled_windows(windowed_array,horizon)\n",
        "\n",
        "  return windows,labels\n"
      ],
      "metadata": {
        "id": "SXHf4JsjK9ee"
      },
      "execution_count": null,
      "outputs": []
    },
    {
      "cell_type": "code",
      "source": [
        "full_windows,full_labels=make_windows(prices,WINDOW_SIZE,HORIZON)\n"
      ],
      "metadata": {
        "colab": {
          "base_uri": "https://localhost:8080/"
        },
        "id": "eWGCqo3nSW2x",
        "outputId": "5c715a88-f13a-47ca-ec81-c2bb028b60fb"
      },
      "execution_count": null,
      "outputs": [
        {
          "output_type": "stream",
          "name": "stdout",
          "text": [
            "[[   0    1    2 ...    5    6    7]\n",
            " [   1    2    3 ...    6    7    8]\n",
            " [   2    3    4 ...    7    8    9]\n",
            " ...\n",
            " [2777 2778 2779 ... 2782 2783 2784]\n",
            " [2778 2779 2780 ... 2783 2784 2785]\n",
            " [2779 2780 2781 ... 2784 2785 2786]]\n"
          ]
        }
      ]
    },
    {
      "cell_type": "code",
      "source": [
        "for i in range(3):\n",
        "  print(f\"window : {full_windows[i]} label -> {full_labels[i]}\")"
      ],
      "metadata": {
        "colab": {
          "base_uri": "https://localhost:8080/"
        },
        "id": "peJrcTTBSwxQ",
        "outputId": "f3962cc2-93e9-4e51-b376-cae3a126cd60"
      },
      "execution_count": null,
      "outputs": [
        {
          "output_type": "stream",
          "name": "stdout",
          "text": [
            "window : [123.65499 125.455   108.58483 118.67466 121.33866 120.65533 121.795  ] label -> [123.033]\n",
            "window : [125.455   108.58483 118.67466 121.33866 120.65533 121.795   123.033  ] label -> [124.049]\n",
            "window : [108.58483 118.67466 121.33866 120.65533 121.795   123.033   124.049  ] label -> [125.96116]\n"
          ]
        }
      ]
    },
    {
      "cell_type": "code",
      "source": [
        "make_windows(prices)"
      ],
      "metadata": {
        "colab": {
          "base_uri": "https://localhost:8080/"
        },
        "id": "162eUKkhQb5b",
        "outputId": "5c88b6df-7b60-45fe-c701-8d8f4bb9c4ec"
      },
      "execution_count": null,
      "outputs": [
        {
          "output_type": "stream",
          "name": "stdout",
          "text": [
            "[[   0    1    2 ...    5    6    7]\n",
            " [   1    2    3 ...    6    7    8]\n",
            " [   2    3    4 ...    7    8    9]\n",
            " ...\n",
            " [2777 2778 2779 ... 2782 2783 2784]\n",
            " [2778 2779 2780 ... 2783 2784 2785]\n",
            " [2779 2780 2781 ... 2784 2785 2786]]\n"
          ]
        },
        {
          "output_type": "execute_result",
          "data": {
            "text/plain": [
              "(array([[  123.65499   ,   125.455     ,   108.58483   , ...,\n",
              "           121.33866   ,   120.65533   ,   121.795     ],\n",
              "        [  125.455     ,   108.58483   ,   118.67466   , ...,\n",
              "           120.65533   ,   121.795     ,   123.033     ],\n",
              "        [  108.58483   ,   118.67466   ,   121.33866   , ...,\n",
              "           121.795     ,   123.033     ,   124.049     ],\n",
              "        ...,\n",
              "        [58788.20967893, 58102.19142623, 55715.54665129, ...,\n",
              "         52147.82118698, 49764.1320816 , 50032.69313676],\n",
              "        [58102.19142623, 55715.54665129, 56573.5554719 , ...,\n",
              "         49764.1320816 , 50032.69313676, 47885.62525472],\n",
              "        [55715.54665129, 56573.5554719 , 52147.82118698, ...,\n",
              "         50032.69313676, 47885.62525472, 45604.61575361]]),\n",
              " array([[  123.033     ],\n",
              "        [  124.049     ],\n",
              "        [  125.96116   ],\n",
              "        ...,\n",
              "        [47885.62525472],\n",
              "        [45604.61575361],\n",
              "        [43144.47129086]]))"
            ]
          },
          "metadata": {},
          "execution_count": 28
        }
      ]
    },
    {
      "cell_type": "code",
      "source": [
        "\n",
        "# Make the train/test splits\n",
        "def make_train_test_splits(windows, labels, test_split=0.2):\n",
        "  \"\"\"\n",
        "  Splits matching pairs of windows and labels into train and test splits.\n",
        "  \"\"\"\n",
        "  split_size = int(len(windows) * (1-test_split)) # this will default to 80% train/20% test\n",
        "  train_windows = windows[:split_size]\n",
        "  train_labels = labels[:split_size]\n",
        "  test_windows = windows[split_size:]\n",
        "  test_labels = labels[split_size:]\n",
        "  return train_windows, test_windows, train_labels, test_labels"
      ],
      "metadata": {
        "id": "6Nx_T0jwPJ3Y"
      },
      "execution_count": null,
      "outputs": []
    },
    {
      "cell_type": "code",
      "source": [
        "train_windows, test_windows, train_labels, test_labels = make_train_test_splits(full_windows, full_labels)\n",
        "len(train_windows), len(test_windows), len(train_labels), len(test_labels)\n",
        "     "
      ],
      "metadata": {
        "colab": {
          "base_uri": "https://localhost:8080/"
        },
        "id": "xHXzLA1NW6Rs",
        "outputId": "e793db92-395b-4469-9322-24b005aef787"
      },
      "execution_count": null,
      "outputs": [
        {
          "output_type": "execute_result",
          "data": {
            "text/plain": [
              "(2224, 556, 2224, 556)"
            ]
          },
          "metadata": {},
          "execution_count": 30
        }
      ]
    },
    {
      "cell_type": "code",
      "source": [
        "# create a modelling check point callback ,because number of epochs will be more in this case\n",
        "import os\n",
        "\n",
        "# Create a function to implement a ModelCheckpoint callback with a specific filename \n",
        "def create_model_checkpoint(model_name, save_path=\"model_experiments\"):\n",
        "  return tf.keras.callbacks.ModelCheckpoint(filepath=os.path.join(save_path, model_name), # create filepath to save model\n",
        "                                            verbose=0, # only output a limited amount of text\n",
        "                                            save_best_only=True) # save only the best model to file"
      ],
      "metadata": {
        "id": "mlesFyEEZE91"
      },
      "execution_count": null,
      "outputs": []
    },
    {
      "cell_type": "markdown",
      "source": [
        "model 1: simple dense model\n",
        "* single dense layer with 128 hidden neurons\n",
        "* output layer with linear activation function\n",
        "* adam optimizer, mae loss finction\n",
        "* batch size of 128\n",
        "* 100 epochs"
      ],
      "metadata": {
        "id": "C4dOl5L7ZnxW"
      }
    },
    {
      "cell_type": "code",
      "source": [
        "import tensorflow as tf\n",
        "from tensorflow.keras import layers\n",
        "\n",
        "#set random seed\n",
        "tf.random.set_seed(42)\n",
        "\n",
        "# 1.construct the model\n",
        "model_1=tf.keras.Sequential([\n",
        "    \n",
        "    layers.Dense(128,activation=\"relu\"),\n",
        "    layers.Dense(HORIZON,activation=\"linear\")\n",
        "],name=\"model_1_dense\")\n",
        "\n",
        "# 2.compile the model\n",
        "model_1.compile(loss=\"mae\",\n",
        "                optimizer=tf.keras.optimizers.Adam(),\n",
        "                metrics=[\"mae\",\"mse\"]\n",
        "                )\n",
        "\n",
        "# 3. fit the model\n",
        "\n",
        "model_1.fit(x=train_windows,y=train_labels,verbose=1,batch_size=128,epochs=100,validation_data=(test_windows,test_labels),\n",
        "            callbacks=[create_model_checkpoint(model_name=model_1.name)])"
      ],
      "metadata": {
        "colab": {
          "base_uri": "https://localhost:8080/"
        },
        "id": "aE1Nw7muf3IZ",
        "outputId": "bcbc4ed9-4e0b-4e71-f043-ec19b0f1048e"
      },
      "execution_count": null,
      "outputs": [
        {
          "output_type": "stream",
          "name": "stdout",
          "text": [
            "Epoch 1/100\n",
            "18/18 [==============================] - 4s 84ms/step - loss: 780.3455 - mae: 780.3455 - mse: 2312725.7500 - val_loss: 2279.6528 - val_mae: 2279.6528 - val_mse: 12772731.0000\n",
            "Epoch 2/100\n",
            "18/18 [==============================] - 1s 53ms/step - loss: 247.6756 - mae: 247.6756 - mse: 285481.1875 - val_loss: 1005.9993 - val_mae: 1005.9993 - val_mse: 3441833.2500\n",
            "Epoch 3/100\n",
            "18/18 [==============================] - 1s 50ms/step - loss: 188.4116 - mae: 188.4116 - mse: 171891.6094 - val_loss: 923.2862 - val_mae: 923.2861 - val_mse: 2868220.7500\n",
            "Epoch 4/100\n",
            "18/18 [==============================] - 1s 58ms/step - loss: 169.4340 - mae: 169.4340 - mse: 151700.5781 - val_loss: 900.5872 - val_mae: 900.5872 - val_mse: 2683715.5000\n",
            "Epoch 5/100\n",
            "18/18 [==============================] - 1s 58ms/step - loss: 165.0894 - mae: 165.0894 - mse: 145490.7812 - val_loss: 895.2237 - val_mae: 895.2237 - val_mse: 2564574.5000\n",
            "Epoch 6/100\n",
            "18/18 [==============================] - 1s 59ms/step - loss: 158.5210 - mae: 158.5210 - mse: 133817.7344 - val_loss: 855.1984 - val_mae: 855.1984 - val_mse: 2481873.2500\n",
            "Epoch 7/100\n",
            "18/18 [==============================] - 1s 52ms/step - loss: 151.3566 - mae: 151.3566 - mse: 123446.9766 - val_loss: 840.9166 - val_mae: 840.9166 - val_mse: 2276451.5000\n",
            "Epoch 8/100\n",
            "18/18 [==============================] - 1s 65ms/step - loss: 145.2560 - mae: 145.2560 - mse: 117694.5000 - val_loss: 803.5956 - val_mae: 803.5956 - val_mse: 2140573.5000\n",
            "Epoch 9/100\n",
            "18/18 [==============================] - 1s 47ms/step - loss: 144.3546 - mae: 144.3546 - mse: 115269.3047 - val_loss: 799.5454 - val_mae: 799.5454 - val_mse: 2049207.7500\n",
            "Epoch 10/100\n",
            "18/18 [==============================] - 1s 53ms/step - loss: 141.2943 - mae: 141.2943 - mse: 112394.5938 - val_loss: 763.5010 - val_mae: 763.5010 - val_mse: 1933140.7500\n",
            "Epoch 11/100\n",
            "18/18 [==============================] - 0s 10ms/step - loss: 135.6595 - mae: 135.6595 - mse: 104118.2344 - val_loss: 771.3356 - val_mae: 771.3356 - val_mse: 1885849.7500\n",
            "Epoch 12/100\n",
            "18/18 [==============================] - 0s 11ms/step - loss: 134.1700 - mae: 134.1700 - mse: 101780.8672 - val_loss: 782.8079 - val_mae: 782.8079 - val_mse: 1881727.1250\n",
            "Epoch 13/100\n",
            "18/18 [==============================] - 0s 17ms/step - loss: 134.6015 - mae: 134.6015 - mse: 102345.2266 - val_loss: 784.4449 - val_mae: 784.4449 - val_mse: 1860996.1250\n",
            "Epoch 14/100\n",
            "18/18 [==============================] - 1s 46ms/step - loss: 130.6127 - mae: 130.6127 - mse: 96225.1328 - val_loss: 751.3234 - val_mae: 751.3233 - val_mse: 1749609.0000\n",
            "Epoch 15/100\n",
            "18/18 [==============================] - 1s 55ms/step - loss: 128.8347 - mae: 128.8347 - mse: 94306.9922 - val_loss: 696.5756 - val_mae: 696.5756 - val_mse: 1606352.3750\n",
            "Epoch 16/100\n",
            "18/18 [==============================] - 0s 7ms/step - loss: 124.7739 - mae: 124.7739 - mse: 90394.9375 - val_loss: 702.4698 - val_mae: 702.4698 - val_mse: 1592416.2500\n",
            "Epoch 17/100\n",
            "18/18 [==============================] - 0s 7ms/step - loss: 123.4474 - mae: 123.4474 - mse: 89247.7031 - val_loss: 704.9239 - val_mae: 704.9239 - val_mse: 1580782.7500\n",
            "Epoch 18/100\n",
            "18/18 [==============================] - 1s 85ms/step - loss: 122.2105 - mae: 122.2105 - mse: 87607.5938 - val_loss: 667.9724 - val_mae: 667.9724 - val_mse: 1498881.8750\n",
            "Epoch 19/100\n",
            "18/18 [==============================] - 0s 10ms/step - loss: 121.7263 - mae: 121.7263 - mse: 86632.2422 - val_loss: 718.8796 - val_mae: 718.8796 - val_mse: 1589299.3750\n",
            "Epoch 20/100\n",
            "18/18 [==============================] - 1s 56ms/step - loss: 119.2420 - mae: 119.2420 - mse: 84334.3203 - val_loss: 657.0666 - val_mae: 657.0666 - val_mse: 1447501.1250\n",
            "Epoch 21/100\n",
            "18/18 [==============================] - 1s 53ms/step - loss: 121.2275 - mae: 121.2275 - mse: 85743.3828 - val_loss: 637.0333 - val_mae: 637.0333 - val_mse: 1401774.2500\n",
            "Epoch 22/100\n",
            "18/18 [==============================] - 0s 6ms/step - loss: 119.9544 - mae: 119.9544 - mse: 84050.1094 - val_loss: 671.2488 - val_mae: 671.2488 - val_mse: 1447895.7500\n",
            "Epoch 23/100\n",
            "18/18 [==============================] - 1s 65ms/step - loss: 121.9248 - mae: 121.9248 - mse: 83746.1250 - val_loss: 633.3592 - val_mae: 633.3592 - val_mse: 1367377.8750\n",
            "Epoch 24/100\n",
            "18/18 [==============================] - 1s 49ms/step - loss: 116.3665 - mae: 116.3665 - mse: 81446.6562 - val_loss: 624.4852 - val_mae: 624.4852 - val_mse: 1348960.6250\n",
            "Epoch 25/100\n",
            "18/18 [==============================] - 0s 26ms/step - loss: 114.6816 - mae: 114.6816 - mse: 78912.8359 - val_loss: 619.7570 - val_mae: 619.7570 - val_mse: 1351089.7500\n",
            "Epoch 26/100\n",
            "18/18 [==============================] - 0s 25ms/step - loss: 116.4455 - mae: 116.4455 - mse: 79365.5938 - val_loss: 615.6364 - val_mae: 615.6364 - val_mse: 1321514.3750\n",
            "Epoch 27/100\n",
            "18/18 [==============================] - 0s 5ms/step - loss: 116.5868 - mae: 116.5868 - mse: 78672.9062 - val_loss: 615.9629 - val_mae: 615.9629 - val_mse: 1313077.5000\n",
            "Epoch 28/100\n",
            "18/18 [==============================] - 1s 38ms/step - loss: 113.4691 - mae: 113.4691 - mse: 77440.0938 - val_loss: 608.0921 - val_mae: 608.0921 - val_mse: 1309775.3750\n",
            "Epoch 29/100\n",
            "18/18 [==============================] - 0s 4ms/step - loss: 113.7598 - mae: 113.7598 - mse: 78506.9531 - val_loss: 621.9305 - val_mae: 621.9305 - val_mse: 1313324.6250\n",
            "Epoch 30/100\n",
            "18/18 [==============================] - 0s 25ms/step - loss: 116.8613 - mae: 116.8613 - mse: 79236.4609 - val_loss: 604.4056 - val_mae: 604.4056 - val_mse: 1283408.0000\n",
            "Epoch 31/100\n",
            "18/18 [==============================] - 0s 4ms/step - loss: 111.9375 - mae: 111.9375 - mse: 74849.0703 - val_loss: 609.3882 - val_mae: 609.3882 - val_mse: 1284506.2500\n",
            "Epoch 32/100\n",
            "18/18 [==============================] - 0s 27ms/step - loss: 112.4175 - mae: 112.4175 - mse: 77178.5859 - val_loss: 603.0588 - val_mae: 603.0588 - val_mse: 1273059.5000\n",
            "Epoch 33/100\n",
            "18/18 [==============================] - 0s 5ms/step - loss: 112.6697 - mae: 112.6697 - mse: 75787.9766 - val_loss: 645.6973 - val_mae: 645.6973 - val_mse: 1353255.7500\n",
            "Epoch 34/100\n",
            "18/18 [==============================] - 0s 4ms/step - loss: 111.9867 - mae: 111.9867 - mse: 77245.7266 - val_loss: 604.7634 - val_mae: 604.7634 - val_mse: 1289360.3750\n",
            "Epoch 35/100\n",
            "18/18 [==============================] - 0s 28ms/step - loss: 110.9451 - mae: 110.9451 - mse: 75301.7812 - val_loss: 593.4648 - val_mae: 593.4648 - val_mse: 1250491.3750\n",
            "Epoch 36/100\n",
            "18/18 [==============================] - 0s 5ms/step - loss: 114.4816 - mae: 114.4816 - mse: 76138.5391 - val_loss: 608.0074 - val_mae: 608.0074 - val_mse: 1269272.3750\n",
            "Epoch 37/100\n",
            "18/18 [==============================] - 0s 5ms/step - loss: 110.2016 - mae: 110.2016 - mse: 74635.3047 - val_loss: 597.2308 - val_mae: 597.2308 - val_mse: 1248474.0000\n",
            "Epoch 38/100\n",
            "18/18 [==============================] - 0s 5ms/step - loss: 112.2372 - mae: 112.2372 - mse: 75821.6953 - val_loss: 637.9798 - val_mae: 637.9798 - val_mse: 1366130.8750\n",
            "Epoch 39/100\n",
            "18/18 [==============================] - 0s 26ms/step - loss: 115.1289 - mae: 115.1289 - mse: 76339.6797 - val_loss: 587.4680 - val_mae: 587.4680 - val_mse: 1233512.3750\n",
            "Epoch 40/100\n",
            "18/18 [==============================] - 0s 4ms/step - loss: 110.0854 - mae: 110.0854 - mse: 73528.4766 - val_loss: 592.7117 - val_mae: 592.7117 - val_mse: 1251474.6250\n",
            "Epoch 41/100\n",
            "18/18 [==============================] - 0s 4ms/step - loss: 110.6344 - mae: 110.6344 - mse: 73528.7891 - val_loss: 593.8997 - val_mae: 593.8997 - val_mse: 1253678.5000\n",
            "Epoch 42/100\n",
            "18/18 [==============================] - 0s 5ms/step - loss: 113.5762 - mae: 113.5762 - mse: 77076.7031 - val_loss: 636.3674 - val_mae: 636.3674 - val_mse: 1317283.5000\n",
            "Epoch 43/100\n",
            "18/18 [==============================] - 0s 4ms/step - loss: 116.2285 - mae: 116.2285 - mse: 74712.2031 - val_loss: 662.9263 - val_mae: 662.9263 - val_mse: 1419201.7500\n",
            "Epoch 44/100\n",
            "18/18 [==============================] - 0s 4ms/step - loss: 120.0192 - mae: 120.0192 - mse: 80971.8750 - val_loss: 635.6360 - val_mae: 635.6360 - val_mse: 1345999.3750\n",
            "Epoch 45/100\n",
            "18/18 [==============================] - 0s 4ms/step - loss: 110.9675 - mae: 110.9675 - mse: 74941.2891 - val_loss: 601.9926 - val_mae: 601.9926 - val_mse: 1244816.7500\n",
            "Epoch 46/100\n",
            "18/18 [==============================] - 0s 4ms/step - loss: 111.6012 - mae: 111.6012 - mse: 74565.6016 - val_loss: 593.3531 - val_mae: 593.3531 - val_mse: 1248764.3750\n",
            "Epoch 47/100\n",
            "18/18 [==============================] - 0s 5ms/step - loss: 109.6161 - mae: 109.6161 - mse: 74190.7109 - val_loss: 637.0011 - val_mae: 637.0011 - val_mse: 1314970.2500\n",
            "Epoch 48/100\n",
            "18/18 [==============================] - 0s 4ms/step - loss: 109.1368 - mae: 109.1368 - mse: 72792.5547 - val_loss: 598.4197 - val_mae: 598.4197 - val_mse: 1234610.1250\n",
            "Epoch 49/100\n",
            "18/18 [==============================] - 0s 27ms/step - loss: 112.4355 - mae: 112.4355 - mse: 73980.3359 - val_loss: 579.7042 - val_mae: 579.7042 - val_mse: 1208301.8750\n",
            "Epoch 50/100\n",
            "18/18 [==============================] - 0s 6ms/step - loss: 110.2108 - mae: 110.2108 - mse: 72939.7109 - val_loss: 639.2327 - val_mae: 639.2327 - val_mse: 1347994.1250\n",
            "Epoch 51/100\n",
            "18/18 [==============================] - 0s 5ms/step - loss: 111.0958 - mae: 111.0958 - mse: 73281.9062 - val_loss: 597.3571 - val_mae: 597.3571 - val_mse: 1229791.1250\n",
            "Epoch 52/100\n",
            "18/18 [==============================] - 0s 4ms/step - loss: 110.7351 - mae: 110.7351 - mse: 74529.6328 - val_loss: 580.7227 - val_mae: 580.7227 - val_mse: 1215477.1250\n",
            "Epoch 53/100\n",
            "18/18 [==============================] - 0s 4ms/step - loss: 111.1785 - mae: 111.1785 - mse: 74149.4766 - val_loss: 648.3586 - val_mae: 648.3586 - val_mse: 1336951.1250\n",
            "Epoch 54/100\n",
            "18/18 [==============================] - 0s 5ms/step - loss: 114.0831 - mae: 114.0831 - mse: 74815.0781 - val_loss: 593.2006 - val_mae: 593.2006 - val_mse: 1220661.2500\n",
            "Epoch 55/100\n",
            "18/18 [==============================] - 0s 26ms/step - loss: 110.4910 - mae: 110.4910 - mse: 74711.2500 - val_loss: 579.5067 - val_mae: 579.5067 - val_mse: 1211580.3750\n",
            "Epoch 56/100\n",
            "18/18 [==============================] - 0s 5ms/step - loss: 108.0488 - mae: 108.0488 - mse: 71844.1562 - val_loss: 807.3853 - val_mae: 807.3853 - val_mse: 1859293.0000\n",
            "Epoch 57/100\n",
            "18/18 [==============================] - 0s 5ms/step - loss: 125.0614 - mae: 125.0614 - mse: 84025.2812 - val_loss: 674.1658 - val_mae: 674.1658 - val_mse: 1437687.2500\n",
            "Epoch 58/100\n",
            "18/18 [==============================] - 0s 5ms/step - loss: 115.4340 - mae: 115.4340 - mse: 73710.7500 - val_loss: 582.2697 - val_mae: 582.2697 - val_mse: 1202679.6250\n",
            "Epoch 59/100\n",
            "18/18 [==============================] - 0s 5ms/step - loss: 110.0881 - mae: 110.0881 - mse: 72845.1172 - val_loss: 606.7640 - val_mae: 606.7640 - val_mse: 1267544.0000\n",
            "Epoch 60/100\n",
            "18/18 [==============================] - 0s 4ms/step - loss: 108.7156 - mae: 108.7156 - mse: 72675.7734 - val_loss: 602.3099 - val_mae: 602.3099 - val_mse: 1234689.8750\n",
            "Epoch 61/100\n",
            "18/18 [==============================] - 0s 26ms/step - loss: 108.1525 - mae: 108.1525 - mse: 72252.1250 - val_loss: 573.9990 - val_mae: 573.9990 - val_mse: 1189583.5000\n",
            "Epoch 62/100\n",
            "18/18 [==============================] - 0s 5ms/step - loss: 107.3726 - mae: 107.3726 - mse: 70822.7891 - val_loss: 581.7015 - val_mae: 581.7015 - val_mse: 1214006.6250\n",
            "Epoch 63/100\n",
            "18/18 [==============================] - 0s 4ms/step - loss: 110.7667 - mae: 110.7667 - mse: 73178.4453 - val_loss: 637.5243 - val_mae: 637.5243 - val_mse: 1311201.6250\n",
            "Epoch 64/100\n",
            "18/18 [==============================] - 0s 5ms/step - loss: 110.1539 - mae: 110.1539 - mse: 72588.2188 - val_loss: 586.6598 - val_mae: 586.6598 - val_mse: 1207116.3750\n",
            "Epoch 65/100\n",
            "18/18 [==============================] - 0s 25ms/step - loss: 108.2325 - mae: 108.2325 - mse: 71962.0781 - val_loss: 573.5618 - val_mae: 573.5618 - val_mse: 1188986.2500\n",
            "Epoch 66/100\n",
            "18/18 [==============================] - 0s 26ms/step - loss: 108.6826 - mae: 108.6826 - mse: 71026.3516 - val_loss: 572.2206 - val_mae: 572.2206 - val_mse: 1187818.3750\n",
            "Epoch 67/100\n",
            "18/18 [==============================] - 0s 4ms/step - loss: 106.6371 - mae: 106.6371 - mse: 70166.2578 - val_loss: 646.6359 - val_mae: 646.6359 - val_mse: 1356393.0000\n",
            "Epoch 68/100\n",
            "18/18 [==============================] - 0s 6ms/step - loss: 114.1603 - mae: 114.1603 - mse: 71297.3203 - val_loss: 681.8572 - val_mae: 681.8572 - val_mse: 1455430.5000\n",
            "Epoch 69/100\n",
            "18/18 [==============================] - 0s 4ms/step - loss: 124.5514 - mae: 124.5514 - mse: 81238.9609 - val_loss: 655.9892 - val_mae: 655.9892 - val_mse: 1383324.7500\n",
            "Epoch 70/100\n",
            "18/18 [==============================] - 0s 4ms/step - loss: 125.0234 - mae: 125.0234 - mse: 83058.2109 - val_loss: 601.0039 - val_mae: 601.0039 - val_mse: 1256963.6250\n",
            "Epoch 71/100\n",
            "18/18 [==============================] - 0s 5ms/step - loss: 110.3652 - mae: 110.3652 - mse: 71691.4922 - val_loss: 595.3957 - val_mae: 595.3957 - val_mse: 1222771.6250\n",
            "Epoch 72/100\n",
            "18/18 [==============================] - 0s 4ms/step - loss: 107.9285 - mae: 107.9285 - mse: 71745.5391 - val_loss: 573.7084 - val_mae: 573.7084 - val_mse: 1192818.5000\n",
            "Epoch 73/100\n",
            "18/18 [==============================] - 0s 5ms/step - loss: 109.5085 - mae: 109.5085 - mse: 71691.1484 - val_loss: 580.4183 - val_mae: 580.4183 - val_mse: 1211317.6250\n",
            "Epoch 74/100\n",
            "18/18 [==============================] - 0s 5ms/step - loss: 108.7380 - mae: 108.7380 - mse: 72051.1094 - val_loss: 576.1216 - val_mae: 576.1216 - val_mse: 1199670.6250\n",
            "Epoch 75/100\n",
            "18/18 [==============================] - 0s 4ms/step - loss: 107.9404 - mae: 107.9404 - mse: 71043.1328 - val_loss: 591.1470 - val_mae: 591.1470 - val_mse: 1211107.3750\n",
            "Epoch 76/100\n",
            "18/18 [==============================] - 0s 5ms/step - loss: 109.4232 - mae: 109.4232 - mse: 72295.0312 - val_loss: 597.8611 - val_mae: 597.8611 - val_mse: 1243936.2500\n",
            "Epoch 77/100\n",
            "18/18 [==============================] - 0s 27ms/step - loss: 107.5879 - mae: 107.5879 - mse: 70333.8359 - val_loss: 571.9301 - val_mae: 571.9301 - val_mse: 1186830.0000\n",
            "Epoch 78/100\n",
            "18/18 [==============================] - 0s 5ms/step - loss: 108.1598 - mae: 108.1598 - mse: 70200.0781 - val_loss: 575.2387 - val_mae: 575.2387 - val_mse: 1195318.0000\n",
            "Epoch 79/100\n",
            "18/18 [==============================] - 0s 4ms/step - loss: 107.9175 - mae: 107.9175 - mse: 72451.5859 - val_loss: 617.3083 - val_mae: 617.3083 - val_mse: 1285512.5000\n",
            "Epoch 80/100\n",
            "18/18 [==============================] - 0s 4ms/step - loss: 108.9510 - mae: 108.9510 - mse: 72158.7812 - val_loss: 583.4841 - val_mae: 583.4841 - val_mse: 1194356.7500\n",
            "Epoch 81/100\n",
            "18/18 [==============================] - 0s 26ms/step - loss: 106.0505 - mae: 106.0505 - mse: 69690.9219 - val_loss: 570.0803 - val_mae: 570.0803 - val_mse: 1177237.8750\n",
            "Epoch 82/100\n",
            "18/18 [==============================] - 0s 5ms/step - loss: 115.6827 - mae: 115.6827 - mse: 76903.4922 - val_loss: 575.7388 - val_mae: 575.7388 - val_mse: 1194662.6250\n",
            "Epoch 83/100\n",
            "18/18 [==============================] - 0s 4ms/step - loss: 110.9379 - mae: 110.9379 - mse: 72968.2969 - val_loss: 659.6579 - val_mae: 659.6579 - val_mse: 1388829.8750\n",
            "Epoch 84/100\n",
            "18/18 [==============================] - 0s 4ms/step - loss: 111.4836 - mae: 111.4836 - mse: 73017.9375 - val_loss: 570.1957 - val_mae: 570.1957 - val_mse: 1177492.2500\n",
            "Epoch 85/100\n",
            "18/18 [==============================] - 0s 4ms/step - loss: 107.5949 - mae: 107.5949 - mse: 70728.2266 - val_loss: 601.5938 - val_mae: 601.5938 - val_mse: 1228450.6250\n",
            "Epoch 86/100\n",
            "18/18 [==============================] - 0s 4ms/step - loss: 108.9425 - mae: 108.9425 - mse: 70066.7500 - val_loss: 592.8101 - val_mae: 592.8101 - val_mse: 1209680.7500\n",
            "Epoch 87/100\n",
            "18/18 [==============================] - 0s 5ms/step - loss: 105.7717 - mae: 105.7717 - mse: 68382.3516 - val_loss: 603.6174 - val_mae: 603.6174 - val_mse: 1252409.5000\n",
            "Epoch 88/100\n",
            "18/18 [==============================] - 0s 26ms/step - loss: 107.9217 - mae: 107.9217 - mse: 71668.0469 - val_loss: 569.0499 - val_mae: 569.0499 - val_mse: 1174588.3750\n",
            "Epoch 89/100\n",
            "18/18 [==============================] - 0s 27ms/step - loss: 106.0344 - mae: 106.0344 - mse: 68979.1484 - val_loss: 568.9510 - val_mae: 568.9510 - val_mse: 1171743.5000\n",
            "Epoch 90/100\n",
            "18/18 [==============================] - 0s 4ms/step - loss: 105.4977 - mae: 105.4977 - mse: 67516.5000 - val_loss: 581.7678 - val_mae: 581.7678 - val_mse: 1190160.6250\n",
            "Epoch 91/100\n",
            "18/18 [==============================] - 0s 5ms/step - loss: 108.8468 - mae: 108.8468 - mse: 71112.3438 - val_loss: 573.6025 - val_mae: 573.6025 - val_mse: 1185216.2500\n",
            "Epoch 92/100\n",
            "18/18 [==============================] - 0s 5ms/step - loss: 110.8884 - mae: 110.8884 - mse: 73287.8125 - val_loss: 576.8243 - val_mae: 576.8243 - val_mse: 1181628.3750\n",
            "Epoch 93/100\n",
            "18/18 [==============================] - 0s 4ms/step - loss: 113.8781 - mae: 113.8781 - mse: 75236.4375 - val_loss: 608.3022 - val_mae: 608.3022 - val_mse: 1264206.1250\n",
            "Epoch 94/100\n",
            "18/18 [==============================] - 0s 5ms/step - loss: 110.5763 - mae: 110.5763 - mse: 72590.8672 - val_loss: 601.6041 - val_mae: 601.6041 - val_mse: 1229105.0000\n",
            "Epoch 95/100\n",
            "18/18 [==============================] - 0s 4ms/step - loss: 106.5906 - mae: 106.5906 - mse: 68612.3281 - val_loss: 570.3651 - val_mae: 570.3651 - val_mse: 1175759.3750\n",
            "Epoch 96/100\n",
            "18/18 [==============================] - 0s 5ms/step - loss: 116.9515 - mae: 116.9515 - mse: 75082.1172 - val_loss: 615.2584 - val_mae: 615.2584 - val_mse: 1277124.5000\n",
            "Epoch 97/100\n",
            "18/18 [==============================] - 0s 5ms/step - loss: 108.0739 - mae: 108.0739 - mse: 71321.4219 - val_loss: 580.3076 - val_mae: 580.3076 - val_mse: 1202622.2500\n",
            "Epoch 98/100\n",
            "18/18 [==============================] - 0s 4ms/step - loss: 108.7102 - mae: 108.7102 - mse: 70248.0703 - val_loss: 586.6510 - val_mae: 586.6510 - val_mse: 1200831.5000\n",
            "Epoch 99/100\n",
            "18/18 [==============================] - 0s 4ms/step - loss: 109.0488 - mae: 109.0488 - mse: 70913.1641 - val_loss: 570.0628 - val_mae: 570.0628 - val_mse: 1177064.5000\n",
            "Epoch 100/100\n",
            "18/18 [==============================] - 0s 4ms/step - loss: 106.1845 - mae: 106.1845 - mse: 68681.7266 - val_loss: 585.9758 - val_mae: 585.9758 - val_mse: 1197802.1250\n"
          ]
        },
        {
          "output_type": "execute_result",
          "data": {
            "text/plain": [
              "<keras.callbacks.History at 0x7fc6365d4910>"
            ]
          },
          "metadata": {},
          "execution_count": 32
        }
      ]
    },
    {
      "cell_type": "code",
      "source": [
        "model_1.evaluate(test_windows,test_labels)"
      ],
      "metadata": {
        "colab": {
          "base_uri": "https://localhost:8080/"
        },
        "id": "gbz-NnksiHf-",
        "outputId": "cf1f31fa-80f8-43bc-99e3-1fa708a329db"
      },
      "execution_count": null,
      "outputs": [
        {
          "output_type": "stream",
          "name": "stdout",
          "text": [
            "18/18 [==============================] - 0s 2ms/step - loss: 585.9758 - mae: 585.9758 - mse: 1197802.1250\n"
          ]
        },
        {
          "output_type": "execute_result",
          "data": {
            "text/plain": [
              "[585.9757690429688, 585.9757690429688, 1197802.125]"
            ]
          },
          "metadata": {},
          "execution_count": 33
        }
      ]
    },
    {
      "cell_type": "code",
      "source": [
        "# load in the best saved model 1 and evaluate its performance\n",
        "model_1=tf.keras.models.load_model(\"/content/model_experiments/model_1_dense\")\n",
        "model_1.evaluate(test_windows,test_labels)"
      ],
      "metadata": {
        "colab": {
          "base_uri": "https://localhost:8080/"
        },
        "id": "2IizjBW1iuIy",
        "outputId": "5a7b6433-4300-4d3d-886a-4be61bce1566"
      },
      "execution_count": null,
      "outputs": [
        {
          "output_type": "stream",
          "name": "stdout",
          "text": [
            "18/18 [==============================] - 0s 2ms/step - loss: 568.9510 - mae: 568.9510 - mse: 1171743.6250\n"
          ]
        },
        {
          "output_type": "execute_result",
          "data": {
            "text/plain": [
              "[568.9510498046875, 568.9510498046875, 1171743.625]"
            ]
          },
          "metadata": {},
          "execution_count": 34
        }
      ]
    },
    {
      "cell_type": "markdown",
      "source": [
        "making forecast on the test dataset"
      ],
      "metadata": {
        "id": "BMNyPZ4XjrXv"
      }
    },
    {
      "cell_type": "code",
      "source": [
        "def make_preds(model, input_data):\n",
        "  \"\"\"\n",
        "  Uses model to make predictions on input_data.\n",
        "\n",
        "  Parameters\n",
        "  ----------\n",
        "  model: trained model \n",
        "  input_data: windowed input data (same kind of data model was trained on)\n",
        "\n",
        "  Returns model predictions on input_data.\n",
        "  \"\"\"\n",
        "  forecast = model.predict(input_data)\n",
        "  return tf.squeeze(forecast) # return 1D array of predictions"
      ],
      "metadata": {
        "id": "F1DChVfFj840"
      },
      "execution_count": null,
      "outputs": []
    },
    {
      "cell_type": "code",
      "source": [
        "\n",
        "# Make predictions using model_1 on the test dataset and view the results\n",
        "model_1_preds = make_preds(model_1, test_windows)\n",
        "len(model_1_preds), model_1_preds[:10]\n",
        "     "
      ],
      "metadata": {
        "colab": {
          "base_uri": "https://localhost:8080/"
        },
        "id": "Wxgd1y-9kFLG",
        "outputId": "a919ac71-380e-4869-b20b-754479b0ce90"
      },
      "execution_count": null,
      "outputs": [
        {
          "output_type": "stream",
          "name": "stdout",
          "text": [
            "18/18 [==============================] - 0s 1ms/step\n"
          ]
        },
        {
          "output_type": "execute_result",
          "data": {
            "text/plain": [
              "(556, <tf.Tensor: shape=(10,), dtype=float32, numpy=\n",
              " array([8861.71 , 8769.887, 9015.711, 8795.519, 8723.811, 8730.111,\n",
              "        8691.952, 8502.054, 8460.961, 8516.548], dtype=float32)>)"
            ]
          },
          "metadata": {},
          "execution_count": 36
        }
      ]
    },
    {
      "cell_type": "code",
      "source": [
        "test_labels[:10]"
      ],
      "metadata": {
        "colab": {
          "base_uri": "https://localhost:8080/"
        },
        "id": "lpTGw7oqkVIu",
        "outputId": "e6201bc2-8903-4037-f9cc-e3839bbe3c3d"
      },
      "execution_count": null,
      "outputs": [
        {
          "output_type": "execute_result",
          "data": {
            "text/plain": [
              "array([[8798.04205463],\n",
              "       [9081.18687849],\n",
              "       [8711.53433917],\n",
              "       [8760.89271814],\n",
              "       [8749.52059102],\n",
              "       [8656.97092235],\n",
              "       [8500.64355816],\n",
              "       [8469.2608989 ],\n",
              "       [8537.33965197],\n",
              "       [8205.80636599]])"
            ]
          },
          "metadata": {},
          "execution_count": 37
        }
      ]
    },
    {
      "cell_type": "code",
      "source": [
        "\n",
        "# Evaluate preds\n",
        "model_1_results = evaluate_preds(y_true=tf.squeeze(test_labels), # reduce to right shape\n",
        "                                 y_pred=model_1_preds)\n",
        "model_1_results"
      ],
      "metadata": {
        "colab": {
          "base_uri": "https://localhost:8080/"
        },
        "id": "4tXJZnE0krus",
        "outputId": "2a01aadf-29cb-4868-c13c-6d3e317d5854"
      },
      "execution_count": null,
      "outputs": [
        {
          "output_type": "execute_result",
          "data": {
            "text/plain": [
              "{'mae': 568.95105,\n",
              " 'mse': 1171743.8,\n",
              " 'rmse': 1082.4711,\n",
              " 'mape': 2.5448983,\n",
              " 'mase': 0.9994894}"
            ]
          },
          "metadata": {},
          "execution_count": 38
        }
      ]
    },
    {
      "cell_type": "code",
      "source": [
        "offset = 300\n",
        "plt.figure(figsize=(10, 7))\n",
        "# Account for the test_window offset and index into test_labels to ensure correct plotting\n",
        "plot_time_series(timesteps=X_test[-len(test_windows):], values=test_labels[:, 0], start=offset, label=\"Test_data\")\n",
        "plot_time_series(timesteps=X_test[-len(test_windows):], values=model_1_preds, start=offset, format=\"-\", label=\"model_1_preds\")"
      ],
      "metadata": {
        "colab": {
          "base_uri": "https://localhost:8080/",
          "height": 442
        },
        "id": "jbcRefpskEcu",
        "outputId": "a48a72aa-f055-41c1-d84e-357273f39e79"
      },
      "execution_count": null,
      "outputs": [
        {
          "output_type": "display_data",
          "data": {
            "text/plain": [
              "<Figure size 720x504 with 1 Axes>"
            ],
            "image/png": "[encoded data removed]"
          },
          "metadata": {
            "needs_background": "light"
          }
        }
      ]
    },
    {
      "cell_type": "code",
      "source": [
        "# model 2: window size=30 horizon=1\n",
        "\n",
        "HORIZON=1\n",
        "WINDOW_SIZE=30"
      ],
      "metadata": {
        "id": "Y7fOcEPw-KnZ"
      },
      "execution_count": null,
      "outputs": []
    },
    {
      "cell_type": "code",
      "source": [
        "full_windows,full_labels=make_windows(prices,WINDOW_SIZE,HORIZON)\n",
        "\n",
        "# MAKE TRAIN AND TEST\n",
        "train_windows,test_windows,train_labels,test_labels=make_train_test_splits(full_windows,full_labels,0.2)\n",
        "\n"
      ],
      "metadata": {
        "colab": {
          "base_uri": "https://localhost:8080/"
        },
        "id": "RheVFF2T_CRX",
        "outputId": "da4faab9-fa1d-44eb-edb0-be4f20413509"
      },
      "execution_count": null,
      "outputs": [
        {
          "output_type": "stream",
          "name": "stdout",
          "text": [
            "[[   0    1    2 ...   28   29   30]\n",
            " [   1    2    3 ...   29   30   31]\n",
            " [   2    3    4 ...   30   31   32]\n",
            " ...\n",
            " [2754 2755 2756 ... 2782 2783 2784]\n",
            " [2755 2756 2757 ... 2783 2784 2785]\n",
            " [2756 2757 2758 ... 2784 2785 2786]]\n"
          ]
        }
      ]
    },
    {
      "cell_type": "code",
      "source": [
        "len(train_windows),len(test_windows),len(train_labels),len(test_labels)"
      ],
      "metadata": {
        "colab": {
          "base_uri": "https://localhost:8080/"
        },
        "id": "5oZBbNcS_r9j",
        "outputId": "e231fa4f-892b-4549-a7f5-40ea54254b92"
      },
      "execution_count": null,
      "outputs": [
        {
          "output_type": "execute_result",
          "data": {
            "text/plain": [
              "(2205, 552, 2205, 552)"
            ]
          },
          "metadata": {},
          "execution_count": 42
        }
      ]
    },
    {
      "cell_type": "code",
      "source": [
        "import tensorflow as tf\n",
        "from tensorflow.keras import layers\n",
        "\n",
        "#set random seed\n",
        "tf.random.set_seed(42)\n",
        "\n",
        "# 1.construct the model\n",
        "model_2=tf.keras.Sequential([\n",
        "    \n",
        "    layers.Dense(128,activation=\"relu\"),\n",
        "    layers.Dense(HORIZON,activation=\"linear\")\n",
        "],name=\"model_2_dense\")\n",
        "\n",
        "# 2.compile the model\n",
        "model_2.compile(loss=\"mae\",\n",
        "                optimizer=tf.keras.optimizers.Adam(),\n",
        "                metrics=[\"mae\",\"mse\"]\n",
        "                )\n",
        "\n",
        "# 3. fit the model\n",
        "\n",
        "history_model_2=model_2.fit(x=train_windows,\n",
        "                            y=train_labels,\n",
        "                            verbose=1,\n",
        "                            batch_size=128,\n",
        "                            epochs=100,\n",
        "                            validation_data=(test_windows,test_labels),\n",
        "            callbacks=[create_model_checkpoint(model_name=model_2.name)])"
      ],
      "metadata": {
        "colab": {
          "base_uri": "https://localhost:8080/"
        },
        "id": "3ocoW5FCAAvi",
        "outputId": "4c5858eb-42ad-49d4-b732-2a8668d1c143"
      },
      "execution_count": null,
      "outputs": [
        {
          "output_type": "stream",
          "name": "stdout",
          "text": [
            "Epoch 1/100\n",
            "18/18 [==============================] - 1s 33ms/step - loss: 1097.0399 - mae: 1097.0399 - mse: 4741506.0000 - val_loss: 3900.2537 - val_mae: 3900.2537 - val_mse: 32752730.0000\n",
            "Epoch 2/100\n",
            "18/18 [==============================] - 0s 25ms/step - loss: 428.0732 - mae: 428.0732 - mse: 811548.2500 - val_loss: 1587.0745 - val_mae: 1587.0745 - val_mse: 6817661.5000\n",
            "Epoch 3/100\n",
            "18/18 [==============================] - 0s 27ms/step - loss: 279.7655 - mae: 279.7655 - mse: 363083.0625 - val_loss: 1220.6888 - val_mae: 1220.6888 - val_mse: 4447002.0000\n",
            "Epoch 4/100\n",
            "18/18 [==============================] - 0s 27ms/step - loss: 224.3637 - mae: 224.3637 - mse: 225072.2188 - val_loss: 1160.1572 - val_mae: 1160.1572 - val_mse: 3837504.2500\n",
            "Epoch 5/100\n",
            "18/18 [==============================] - 0s 27ms/step - loss: 187.9681 - mae: 187.9681 - mse: 173777.0312 - val_loss: 1007.6487 - val_mae: 1007.6487 - val_mse: 3224229.0000\n",
            "Epoch 6/100\n",
            "18/18 [==============================] - 0s 5ms/step - loss: 182.9174 - mae: 182.9174 - mse: 162950.3750 - val_loss: 1019.5818 - val_mae: 1019.5818 - val_mse: 3408885.2500\n",
            "Epoch 7/100\n",
            "18/18 [==============================] - 0s 5ms/step - loss: 187.7612 - mae: 187.7612 - mse: 159475.8750 - val_loss: 1145.1758 - val_mae: 1145.1758 - val_mse: 4078532.2500\n",
            "Epoch 8/100\n",
            "18/18 [==============================] - 0s 26ms/step - loss: 192.2202 - mae: 192.2202 - mse: 172722.5469 - val_loss: 967.8077 - val_mae: 967.8077 - val_mse: 2845453.7500\n",
            "Epoch 9/100\n",
            "18/18 [==============================] - 0s 26ms/step - loss: 167.4042 - mae: 167.4042 - mse: 141257.4688 - val_loss: 896.5217 - val_mae: 896.5217 - val_mse: 2643020.0000\n",
            "Epoch 10/100\n",
            "18/18 [==============================] - 0s 26ms/step - loss: 161.6689 - mae: 161.6689 - mse: 132314.9688 - val_loss: 881.9178 - val_mae: 881.9178 - val_mse: 2558588.0000\n",
            "Epoch 11/100\n",
            "18/18 [==============================] - 0s 26ms/step - loss: 162.2630 - mae: 162.2630 - mse: 127474.1406 - val_loss: 862.7010 - val_mae: 862.7010 - val_mse: 2432215.0000\n",
            "Epoch 12/100\n",
            "18/18 [==============================] - 0s 27ms/step - loss: 157.6156 - mae: 157.6156 - mse: 126629.2812 - val_loss: 855.2238 - val_mae: 855.2238 - val_mse: 2351040.0000\n",
            "Epoch 13/100\n",
            "18/18 [==============================] - 0s 27ms/step - loss: 164.3571 - mae: 164.3571 - mse: 130452.2422 - val_loss: 845.0386 - val_mae: 845.0386 - val_mse: 2380580.0000\n",
            "Epoch 14/100\n",
            "18/18 [==============================] - 0s 26ms/step - loss: 152.4233 - mae: 152.4233 - mse: 119918.8594 - val_loss: 835.7405 - val_mae: 835.7405 - val_mse: 2279386.5000\n",
            "Epoch 15/100\n",
            "18/18 [==============================] - 0s 4ms/step - loss: 165.0978 - mae: 165.0978 - mse: 126962.9844 - val_loss: 920.6229 - val_mae: 920.6229 - val_mse: 2756908.7500\n",
            "Epoch 16/100\n",
            "18/18 [==============================] - 1s 37ms/step - loss: 166.0639 - mae: 166.0639 - mse: 126534.0625 - val_loss: 814.6472 - val_mae: 814.6472 - val_mse: 2187638.0000\n",
            "Epoch 17/100\n",
            "18/18 [==============================] - 0s 5ms/step - loss: 165.1733 - mae: 165.1733 - mse: 130918.6875 - val_loss: 939.7372 - val_mae: 939.7372 - val_mse: 2560630.7500\n",
            "Epoch 18/100\n",
            "18/18 [==============================] - 0s 4ms/step - loss: 158.3085 - mae: 158.3085 - mse: 122879.3594 - val_loss: 929.8369 - val_mae: 929.8369 - val_mse: 2522551.7500\n",
            "Epoch 19/100\n",
            "18/18 [==============================] - 0s 4ms/step - loss: 151.6603 - mae: 151.6603 - mse: 113185.5625 - val_loss: 1071.7583 - val_mae: 1071.7583 - val_mse: 3444894.7500\n",
            "Epoch 20/100\n",
            "18/18 [==============================] - 0s 4ms/step - loss: 155.9877 - mae: 155.9877 - mse: 123244.1797 - val_loss: 906.9962 - val_mae: 906.9962 - val_mse: 2416914.0000\n",
            "Epoch 21/100\n",
            "18/18 [==============================] - 0s 4ms/step - loss: 150.9352 - mae: 150.9352 - mse: 115268.9297 - val_loss: 1259.6165 - val_mae: 1259.6165 - val_mse: 3904281.0000\n",
            "Epoch 22/100\n",
            "18/18 [==============================] - 0s 5ms/step - loss: 186.2315 - mae: 186.2315 - mse: 149336.4688 - val_loss: 821.1555 - val_mae: 821.1555 - val_mse: 2226543.7500\n",
            "Epoch 23/100\n",
            "18/18 [==============================] - 0s 4ms/step - loss: 149.3854 - mae: 149.3854 - mse: 109965.0781 - val_loss: 1061.1250 - val_mae: 1061.1250 - val_mse: 2973403.5000\n",
            "Epoch 24/100\n",
            "18/18 [==============================] - 0s 27ms/step - loss: 161.7742 - mae: 161.7742 - mse: 121110.6250 - val_loss: 794.9154 - val_mae: 794.9154 - val_mse: 2019348.3750\n",
            "Epoch 25/100\n",
            "18/18 [==============================] - 0s 5ms/step - loss: 147.8488 - mae: 147.8488 - mse: 110879.7656 - val_loss: 1092.2104 - val_mae: 1092.2104 - val_mse: 3088394.7500\n",
            "Epoch 26/100\n",
            "18/18 [==============================] - 0s 4ms/step - loss: 150.0337 - mae: 150.0337 - mse: 111213.2812 - val_loss: 802.3950 - val_mae: 802.3950 - val_mse: 2125820.2500\n",
            "Epoch 27/100\n",
            "18/18 [==============================] - 0s 27ms/step - loss: 154.9933 - mae: 154.9933 - mse: 109837.4766 - val_loss: 748.0327 - val_mae: 748.0327 - val_mse: 1870825.3750\n",
            "Epoch 28/100\n",
            "18/18 [==============================] - 0s 4ms/step - loss: 141.5399 - mae: 141.5399 - mse: 101088.8594 - val_loss: 960.1356 - val_mae: 960.1356 - val_mse: 2812905.7500\n",
            "Epoch 29/100\n",
            "18/18 [==============================] - 0s 4ms/step - loss: 148.5069 - mae: 148.5069 - mse: 110140.6641 - val_loss: 758.3329 - val_mae: 758.3329 - val_mse: 1871426.0000\n",
            "Epoch 30/100\n",
            "18/18 [==============================] - 0s 4ms/step - loss: 148.1240 - mae: 148.1240 - mse: 108366.9297 - val_loss: 988.7416 - val_mae: 988.7416 - val_mse: 2639810.2500\n",
            "Epoch 31/100\n",
            "18/18 [==============================] - 0s 5ms/step - loss: 142.3972 - mae: 142.3972 - mse: 100558.5703 - val_loss: 847.3676 - val_mae: 847.3676 - val_mse: 2286142.5000\n",
            "Epoch 32/100\n",
            "18/18 [==============================] - 0s 26ms/step - loss: 148.1294 - mae: 148.1294 - mse: 106817.7812 - val_loss: 726.4918 - val_mae: 726.4918 - val_mse: 1772761.8750\n",
            "Epoch 33/100\n",
            "18/18 [==============================] - 0s 5ms/step - loss: 141.7309 - mae: 141.7309 - mse: 102930.2734 - val_loss: 767.2233 - val_mae: 767.2233 - val_mse: 1945827.2500\n",
            "Epoch 34/100\n",
            "18/18 [==============================] - 0s 27ms/step - loss: 135.4458 - mae: 135.4458 - mse: 92370.8281 - val_loss: 721.9368 - val_mae: 721.9368 - val_mse: 1763867.0000\n",
            "Epoch 35/100\n",
            "18/18 [==============================] - 0s 4ms/step - loss: 131.7838 - mae: 131.7838 - mse: 91448.7891 - val_loss: 759.3353 - val_mae: 759.3353 - val_mse: 1836807.0000\n",
            "Epoch 36/100\n",
            "18/18 [==============================] - 0s 5ms/step - loss: 131.5018 - mae: 131.5018 - mse: 92934.0938 - val_loss: 814.7689 - val_mae: 814.7689 - val_mse: 1997793.3750\n",
            "Epoch 37/100\n",
            "18/18 [==============================] - 0s 25ms/step - loss: 143.4647 - mae: 143.4647 - mse: 100143.1094 - val_loss: 708.7821 - val_mae: 708.7821 - val_mse: 1696078.6250\n",
            "Epoch 38/100\n",
            "18/18 [==============================] - 0s 5ms/step - loss: 134.5705 - mae: 134.5705 - mse: 92221.2344 - val_loss: 821.9357 - val_mae: 821.9357 - val_mse: 2149077.7500\n",
            "Epoch 39/100\n",
            "18/18 [==============================] - 0s 5ms/step - loss: 137.7672 - mae: 137.7672 - mse: 98614.1953 - val_loss: 969.4777 - val_mae: 969.4777 - val_mse: 2517117.5000\n",
            "Epoch 40/100\n",
            "18/18 [==============================] - 0s 4ms/step - loss: 142.7820 - mae: 142.7820 - mse: 91609.3047 - val_loss: 901.4053 - val_mae: 901.4053 - val_mse: 2259121.5000\n",
            "Epoch 41/100\n",
            "18/18 [==============================] - 0s 26ms/step - loss: 142.1888 - mae: 142.1888 - mse: 98998.3359 - val_loss: 689.8060 - val_mae: 689.8060 - val_mse: 1620425.2500\n",
            "Epoch 42/100\n",
            "18/18 [==============================] - 0s 4ms/step - loss: 130.9877 - mae: 130.9877 - mse: 88242.9141 - val_loss: 751.3142 - val_mae: 751.3142 - val_mse: 1782372.8750\n",
            "Epoch 43/100\n",
            "18/18 [==============================] - 0s 4ms/step - loss: 131.4450 - mae: 131.4450 - mse: 90820.2266 - val_loss: 746.7275 - val_mae: 746.7275 - val_mse: 1830367.7500\n",
            "Epoch 44/100\n",
            "18/18 [==============================] - 0s 5ms/step - loss: 137.5511 - mae: 137.5511 - mse: 96568.3281 - val_loss: 751.4652 - val_mae: 751.4652 - val_mse: 1842565.7500\n",
            "Epoch 45/100\n",
            "18/18 [==============================] - 0s 4ms/step - loss: 134.3822 - mae: 134.3822 - mse: 93087.4297 - val_loss: 694.2699 - val_mae: 694.2699 - val_mse: 1617442.1250\n",
            "Epoch 46/100\n",
            "18/18 [==============================] - 0s 27ms/step - loss: 127.4527 - mae: 127.4527 - mse: 87612.0781 - val_loss: 676.5610 - val_mae: 676.5610 - val_mse: 1555773.0000\n",
            "Epoch 47/100\n",
            "18/18 [==============================] - 0s 5ms/step - loss: 136.6635 - mae: 136.6635 - mse: 92716.2344 - val_loss: 1113.9982 - val_mae: 1113.9982 - val_mse: 3065015.7500\n",
            "Epoch 48/100\n",
            "18/18 [==============================] - 0s 26ms/step - loss: 164.2887 - mae: 164.2887 - mse: 117708.3984 - val_loss: 667.6456 - val_mae: 667.6456 - val_mse: 1524165.5000\n",
            "Epoch 49/100\n",
            "18/18 [==============================] - 0s 5ms/step - loss: 127.9774 - mae: 127.9774 - mse: 85549.1797 - val_loss: 718.8885 - val_mae: 718.8885 - val_mse: 1691650.7500\n",
            "Epoch 50/100\n",
            "18/18 [==============================] - 0s 4ms/step - loss: 141.8780 - mae: 141.8780 - mse: 93444.8984 - val_loss: 829.6292 - val_mae: 829.6292 - val_mse: 2098737.5000\n",
            "Epoch 51/100\n",
            "18/18 [==============================] - 0s 4ms/step - loss: 129.4569 - mae: 129.4569 - mse: 87931.0703 - val_loss: 987.5338 - val_mae: 987.5338 - val_mse: 2758906.0000\n",
            "Epoch 52/100\n",
            "18/18 [==============================] - 0s 4ms/step - loss: 141.4287 - mae: 141.4287 - mse: 98486.4609 - val_loss: 715.3037 - val_mae: 715.3037 - val_mse: 1633319.6250\n",
            "Epoch 53/100\n",
            "18/18 [==============================] - 0s 4ms/step - loss: 146.1227 - mae: 146.1227 - mse: 98856.7734 - val_loss: 1116.8126 - val_mae: 1116.8126 - val_mse: 3300862.5000\n",
            "Epoch 54/100\n",
            "18/18 [==============================] - 0s 26ms/step - loss: 162.9252 - mae: 162.9252 - mse: 116505.1250 - val_loss: 658.4476 - val_mae: 658.4476 - val_mse: 1469404.1250\n",
            "Epoch 55/100\n",
            "18/18 [==============================] - 0s 5ms/step - loss: 134.5520 - mae: 134.5520 - mse: 88455.0234 - val_loss: 906.1519 - val_mae: 906.1519 - val_mse: 2212985.0000\n",
            "Epoch 56/100\n",
            "18/18 [==============================] - 0s 4ms/step - loss: 132.1189 - mae: 132.1189 - mse: 88770.3125 - val_loss: 658.8979 - val_mae: 658.8979 - val_mse: 1476355.6250\n",
            "Epoch 57/100\n",
            "18/18 [==============================] - 0s 26ms/step - loss: 128.6264 - mae: 128.6264 - mse: 84349.8281 - val_loss: 648.7651 - val_mae: 648.7651 - val_mse: 1439428.0000\n",
            "Epoch 58/100\n",
            "18/18 [==============================] - 0s 4ms/step - loss: 133.0039 - mae: 133.0039 - mse: 89231.0938 - val_loss: 760.6868 - val_mae: 760.6868 - val_mse: 1814641.8750\n",
            "Epoch 59/100\n",
            "18/18 [==============================] - 0s 4ms/step - loss: 167.5204 - mae: 167.5204 - mse: 119260.3438 - val_loss: 699.1824 - val_mae: 699.1824 - val_mse: 1592398.1250\n",
            "Epoch 60/100\n",
            "18/18 [==============================] - 0s 5ms/step - loss: 121.4026 - mae: 121.4026 - mse: 78786.4297 - val_loss: 784.7621 - val_mae: 784.7621 - val_mse: 1797242.2500\n",
            "Epoch 61/100\n",
            "18/18 [==============================] - 0s 4ms/step - loss: 131.8212 - mae: 131.8212 - mse: 87380.6250 - val_loss: 761.1855 - val_mae: 761.1855 - val_mse: 1800775.5000\n",
            "Epoch 62/100\n",
            "18/18 [==============================] - 0s 4ms/step - loss: 133.7610 - mae: 133.7610 - mse: 90872.0625 - val_loss: 830.7225 - val_mae: 830.7225 - val_mse: 2052535.6250\n",
            "Epoch 63/100\n",
            "18/18 [==============================] - 0s 4ms/step - loss: 128.0924 - mae: 128.0924 - mse: 86278.4688 - val_loss: 662.2833 - val_mae: 662.2833 - val_mse: 1462994.7500\n",
            "Epoch 64/100\n",
            "18/18 [==============================] - 0s 5ms/step - loss: 125.7873 - mae: 125.7873 - mse: 83929.3047 - val_loss: 725.7394 - val_mae: 725.7394 - val_mse: 1622991.8750\n",
            "Epoch 65/100\n",
            "18/18 [==============================] - 0s 27ms/step - loss: 129.3582 - mae: 129.3582 - mse: 84437.2812 - val_loss: 638.4762 - val_mae: 638.4762 - val_mse: 1393845.1250\n",
            "Epoch 66/100\n",
            "18/18 [==============================] - 0s 4ms/step - loss: 121.8753 - mae: 121.8753 - mse: 81456.2109 - val_loss: 735.8253 - val_mae: 735.8253 - val_mse: 1694805.5000\n",
            "Epoch 67/100\n",
            "18/18 [==============================] - 0s 4ms/step - loss: 124.5709 - mae: 124.5709 - mse: 82757.4375 - val_loss: 702.7538 - val_mae: 702.7538 - val_mse: 1596079.2500\n",
            "Epoch 68/100\n",
            "18/18 [==============================] - 0s 4ms/step - loss: 134.1436 - mae: 134.1436 - mse: 89529.9453 - val_loss: 640.6722 - val_mae: 640.6722 - val_mse: 1398268.8750\n",
            "Epoch 69/100\n",
            "18/18 [==============================] - 0s 4ms/step - loss: 123.1770 - mae: 123.1770 - mse: 80330.8672 - val_loss: 1110.4432 - val_mae: 1110.4432 - val_mse: 2994969.0000\n",
            "Epoch 70/100\n",
            "18/18 [==============================] - 0s 4ms/step - loss: 135.9602 - mae: 135.9602 - mse: 92325.2969 - val_loss: 778.5548 - val_mae: 778.5548 - val_mse: 1764892.6250\n",
            "Epoch 71/100\n",
            "18/18 [==============================] - 0s 27ms/step - loss: 128.7049 - mae: 128.7049 - mse: 86091.0781 - val_loss: 636.7365 - val_mae: 636.7365 - val_mse: 1380941.6250\n",
            "Epoch 72/100\n",
            "18/18 [==============================] - 0s 25ms/step - loss: 120.7498 - mae: 120.7498 - mse: 80539.0547 - val_loss: 636.1567 - val_mae: 636.1567 - val_mse: 1384186.6250\n",
            "Epoch 73/100\n",
            "18/18 [==============================] - 0s 4ms/step - loss: 119.8846 - mae: 119.8846 - mse: 78536.1172 - val_loss: 722.2628 - val_mae: 722.2628 - val_mse: 1590577.5000\n",
            "Epoch 74/100\n",
            "18/18 [==============================] - 1s 39ms/step - loss: 128.0455 - mae: 128.0455 - mse: 83733.4062 - val_loss: 622.5280 - val_mae: 622.5280 - val_mse: 1334697.0000\n",
            "Epoch 75/100\n",
            "18/18 [==============================] - 0s 27ms/step - loss: 122.0446 - mae: 122.0446 - mse: 79881.0156 - val_loss: 619.5175 - val_mae: 619.5175 - val_mse: 1324510.2500\n",
            "Epoch 76/100\n",
            "18/18 [==============================] - 0s 5ms/step - loss: 122.6730 - mae: 122.6730 - mse: 80796.2812 - val_loss: 856.6989 - val_mae: 856.6988 - val_mse: 2004174.6250\n",
            "Epoch 77/100\n",
            "18/18 [==============================] - 0s 4ms/step - loss: 126.3470 - mae: 126.3470 - mse: 80182.0469 - val_loss: 641.5902 - val_mae: 641.5902 - val_mse: 1378807.6250\n",
            "Epoch 78/100\n",
            "18/18 [==============================] - 0s 4ms/step - loss: 118.5847 - mae: 118.5847 - mse: 78303.8281 - val_loss: 690.7908 - val_mae: 690.7908 - val_mse: 1531805.1250\n",
            "Epoch 79/100\n",
            "18/18 [==============================] - 0s 5ms/step - loss: 131.4505 - mae: 131.4505 - mse: 85134.6875 - val_loss: 621.2333 - val_mae: 621.2333 - val_mse: 1327195.3750\n",
            "Epoch 80/100\n",
            "18/18 [==============================] - 0s 4ms/step - loss: 125.0166 - mae: 125.0166 - mse: 82027.0312 - val_loss: 790.1846 - val_mae: 790.1846 - val_mse: 1786557.8750\n",
            "Epoch 81/100\n",
            "18/18 [==============================] - 0s 4ms/step - loss: 120.7429 - mae: 120.7429 - mse: 79155.5859 - val_loss: 657.8801 - val_mae: 657.8801 - val_mse: 1414974.1250\n",
            "Epoch 82/100\n",
            "18/18 [==============================] - 0s 4ms/step - loss: 119.6583 - mae: 119.6583 - mse: 77666.8828 - val_loss: 799.6915 - val_mae: 799.6915 - val_mse: 1808157.5000\n",
            "Epoch 83/100\n",
            "18/18 [==============================] - 0s 4ms/step - loss: 131.6879 - mae: 131.6879 - mse: 84360.2109 - val_loss: 651.2426 - val_mae: 651.2426 - val_mse: 1393561.6250\n",
            "Epoch 84/100\n",
            "18/18 [==============================] - 0s 4ms/step - loss: 125.4594 - mae: 125.4594 - mse: 79191.6953 - val_loss: 695.7399 - val_mae: 695.7399 - val_mse: 1503768.7500\n",
            "Epoch 85/100\n",
            "18/18 [==============================] - 0s 5ms/step - loss: 123.6267 - mae: 123.6267 - mse: 81975.1562 - val_loss: 825.9113 - val_mae: 825.9113 - val_mse: 1895494.1250\n",
            "Epoch 86/100\n",
            "18/18 [==============================] - 0s 4ms/step - loss: 139.2674 - mae: 139.2674 - mse: 89564.3984 - val_loss: 711.2962 - val_mae: 711.2962 - val_mse: 1579855.1250\n",
            "Epoch 87/100\n",
            "18/18 [==============================] - 0s 28ms/step - loss: 139.8416 - mae: 139.8416 - mse: 90350.6797 - val_loss: 616.3276 - val_mae: 616.3276 - val_mse: 1309630.0000\n",
            "Epoch 88/100\n",
            "18/18 [==============================] - 0s 4ms/step - loss: 134.8590 - mae: 134.8590 - mse: 85241.6250 - val_loss: 1100.9899 - val_mae: 1100.9899 - val_mse: 2912869.5000\n",
            "Epoch 89/100\n",
            "18/18 [==============================] - 0s 4ms/step - loss: 152.7612 - mae: 152.7612 - mse: 104070.4531 - val_loss: 815.0580 - val_mae: 815.0580 - val_mse: 1857857.1250\n",
            "Epoch 90/100\n",
            "18/18 [==============================] - 0s 5ms/step - loss: 160.4490 - mae: 160.4490 - mse: 107181.4141 - val_loss: 1111.4733 - val_mae: 1111.4733 - val_mse: 2971819.5000\n",
            "Epoch 91/100\n",
            "18/18 [==============================] - 0s 4ms/step - loss: 134.0435 - mae: 134.0435 - mse: 86288.1016 - val_loss: 810.8096 - val_mae: 810.8096 - val_mse: 1923505.3750\n",
            "Epoch 92/100\n",
            "18/18 [==============================] - 0s 5ms/step - loss: 127.9937 - mae: 127.9937 - mse: 85649.0469 - val_loss: 781.3551 - val_mae: 781.3551 - val_mse: 1748799.5000\n",
            "Epoch 93/100\n",
            "18/18 [==============================] - 0s 5ms/step - loss: 137.5326 - mae: 137.5326 - mse: 87676.9922 - val_loss: 776.2223 - val_mae: 776.2223 - val_mse: 1733238.1250\n",
            "Epoch 94/100\n",
            "18/18 [==============================] - 0s 4ms/step - loss: 135.8670 - mae: 135.8670 - mse: 86816.2578 - val_loss: 731.3998 - val_mae: 731.3998 - val_mse: 1596562.7500\n",
            "Epoch 95/100\n",
            "18/18 [==============================] - 0s 5ms/step - loss: 148.7159 - mae: 148.7159 - mse: 100474.5938 - val_loss: 635.4964 - val_mae: 635.4964 - val_mse: 1343190.5000\n",
            "Epoch 96/100\n",
            "18/18 [==============================] - 0s 26ms/step - loss: 133.0909 - mae: 133.0909 - mse: 91028.2344 - val_loss: 605.8741 - val_mae: 605.8741 - val_mse: 1273361.1250\n",
            "Epoch 97/100\n",
            "18/18 [==============================] - 0s 4ms/step - loss: 117.5806 - mae: 117.5806 - mse: 75189.4219 - val_loss: 706.8725 - val_mae: 706.8725 - val_mse: 1551657.5000\n",
            "Epoch 98/100\n",
            "18/18 [==============================] - 0s 4ms/step - loss: 120.7865 - mae: 120.7865 - mse: 76582.7031 - val_loss: 718.7263 - val_mae: 718.7263 - val_mse: 1555904.8750\n",
            "Epoch 99/100\n",
            "18/18 [==============================] - 0s 5ms/step - loss: 125.8117 - mae: 125.8117 - mse: 78376.3047 - val_loss: 988.9795 - val_mae: 988.9795 - val_mse: 2610509.5000\n",
            "Epoch 100/100\n",
            "18/18 [==============================] - 0s 5ms/step - loss: 124.1724 - mae: 124.1724 - mse: 83770.4688 - val_loss: 659.3332 - val_mae: 659.3332 - val_mse: 1397247.5000\n"
          ]
        }
      ]
    },
    {
      "cell_type": "code",
      "source": [
        "model_2.evaluate(test_windows,test_labels)"
      ],
      "metadata": {
        "colab": {
          "base_uri": "https://localhost:8080/"
        },
        "id": "q-hRYWqSAc3p",
        "outputId": "9753b014-0d3e-4b4d-9c68-fd1099e53558"
      },
      "execution_count": null,
      "outputs": [
        {
          "output_type": "stream",
          "name": "stdout",
          "text": [
            "18/18 [==============================] - 0s 2ms/step - loss: 659.3332 - mae: 659.3332 - mse: 1397247.7500\n"
          ]
        },
        {
          "output_type": "execute_result",
          "data": {
            "text/plain": [
              "[659.3331909179688, 659.3331909179688, 1397247.75]"
            ]
          },
          "metadata": {},
          "execution_count": 44
        }
      ]
    },
    {
      "cell_type": "code",
      "source": [
        "model_2=tf.keras.models.load_model(\"/content/model_experiments/model_2_dense\")"
      ],
      "metadata": {
        "id": "IWsik57kAj8t"
      },
      "execution_count": null,
      "outputs": []
    },
    {
      "cell_type": "code",
      "source": [
        "model_2.evaluate(test_windows,test_labels)"
      ],
      "metadata": {
        "colab": {
          "base_uri": "https://localhost:8080/"
        },
        "id": "NunmYLy1A6bQ",
        "outputId": "0f72ed6d-ed52-4766-d0d8-3408c59025d5"
      },
      "execution_count": null,
      "outputs": [
        {
          "output_type": "stream",
          "name": "stdout",
          "text": [
            "18/18 [==============================] - 0s 2ms/step - loss: 605.8741 - mae: 605.8741 - mse: 1273360.7500\n"
          ]
        },
        {
          "output_type": "execute_result",
          "data": {
            "text/plain": [
              "[605.8740844726562, 605.8740844726562, 1273360.75]"
            ]
          },
          "metadata": {},
          "execution_count": 46
        }
      ]
    },
    {
      "cell_type": "code",
      "source": [
        "# Get forecast predictions\n",
        "model_2_preds = make_preds(model_2,\n",
        "                           input_data=test_windows)"
      ],
      "metadata": {
        "colab": {
          "base_uri": "https://localhost:8080/"
        },
        "id": "mjZgy5CPBADt",
        "outputId": "d8ad64ff-fd1a-48c5-ba6b-9e4d9788f6f1"
      },
      "execution_count": null,
      "outputs": [
        {
          "output_type": "stream",
          "name": "stdout",
          "text": [
            "18/18 [==============================] - 0s 1ms/step\n"
          ]
        }
      ]
    },
    {
      "cell_type": "code",
      "source": [
        "# Evaluate results for model 2 predictions\n",
        "model_2_results = evaluate_preds(y_true=tf.squeeze(test_labels), # remove 1 dimension of test labels\n",
        "                                 y_pred=model_2_preds)\n",
        "model_2_results\n",
        "     "
      ],
      "metadata": {
        "colab": {
          "base_uri": "https://localhost:8080/"
        },
        "id": "bGaDtR5PBLTB",
        "outputId": "79f0ef84-e19f-40da-ba2c-d19e0a85db35"
      },
      "execution_count": null,
      "outputs": [
        {
          "output_type": "execute_result",
          "data": {
            "text/plain": [
              "{'mae': 605.8741,\n",
              " 'mse': 1273360.8,\n",
              " 'rmse': 1128.4329,\n",
              " 'mape': 2.726445,\n",
              " 'mase': 1.0590738}"
            ]
          },
          "metadata": {},
          "execution_count": 48
        }
      ]
    },
    {
      "cell_type": "code",
      "source": [
        "offset = 300\n",
        "plt.figure(figsize=(10, 7))\n",
        "# Account for the test_window offset\n",
        "plot_time_series(timesteps=X_test[-len(test_windows):], values=test_labels[:, 0], start=offset, label=\"test_data\")\n",
        "plot_time_series(timesteps=X_test[-len(test_windows):], values=model_2_preds, start=offset, format=\"-\", label=\"model_2_preds\") \n",
        "     "
      ],
      "metadata": {
        "colab": {
          "base_uri": "https://localhost:8080/",
          "height": 442
        },
        "id": "vwSgZdTqBduM",
        "outputId": "21811d4e-ac63-4921-9471-db8801e1bc55"
      },
      "execution_count": null,
      "outputs": [
        {
          "output_type": "display_data",
          "data": {
            "text/plain": [
              "<Figure size 720x504 with 1 Axes>"
            ],
            "image/png": "[encoded data removed]"
          },
          "metadata": {
            "needs_background": "light"
          }
        }
      ]
    },
    {
      "cell_type": "markdown",
      "source": [
        "model 3: horizon=3, windows=30"
      ],
      "metadata": {
        "id": "AZNM23kKB2e1"
      }
    },
    {
      "cell_type": "code",
      "source": [
        "HORIZON=7\n",
        "WINDOW_SIZE=30\n",
        "\n",
        "full_windows,full_labels=make_windows(prices,WINDOW_SIZE,HORIZON)\n",
        "\n",
        "# MAKE TRAIN AND TEST\n",
        "train_windows,test_windows,train_labels,test_labels=make_train_test_splits(full_windows,full_labels,0.2)\n"
      ],
      "metadata": {
        "colab": {
          "base_uri": "https://localhost:8080/"
        },
        "id": "CnrKFdW-B_AQ",
        "outputId": "59f8bdd7-d030-4ece-d867-3da60835e403"
      },
      "execution_count": null,
      "outputs": [
        {
          "output_type": "stream",
          "name": "stdout",
          "text": [
            "[[   0    1    2 ...   34   35   36]\n",
            " [   1    2    3 ...   35   36   37]\n",
            " [   2    3    4 ...   36   37   38]\n",
            " ...\n",
            " [2748 2749 2750 ... 2782 2783 2784]\n",
            " [2749 2750 2751 ... 2783 2784 2785]\n",
            " [2750 2751 2752 ... 2784 2785 2786]]\n"
          ]
        }
      ]
    },
    {
      "cell_type": "code",
      "source": [
        "test_labels"
      ],
      "metadata": {
        "colab": {
          "base_uri": "https://localhost:8080/"
        },
        "id": "8oGTGSWdCbBI",
        "outputId": "5f86dfce-0c54-4e1e-871f-46951f17abaf"
      },
      "execution_count": null,
      "outputs": [
        {
          "output_type": "execute_result",
          "data": {
            "text/plain": [
              "array([[ 8794.35864452,  8798.04205463,  9081.18687849, ...,\n",
              "         8760.89271814,  8749.52059102,  8656.97092235],\n",
              "       [ 8798.04205463,  9081.18687849,  8711.53433917, ...,\n",
              "         8749.52059102,  8656.97092235,  8500.64355816],\n",
              "       [ 9081.18687849,  8711.53433917,  8760.89271814, ...,\n",
              "         8656.97092235,  8500.64355816,  8469.2608989 ],\n",
              "       ...,\n",
              "       [58102.19142623, 55715.54665129, 56573.5554719 , ...,\n",
              "        49764.1320816 , 50032.69313676, 47885.62525472],\n",
              "       [55715.54665129, 56573.5554719 , 52147.82118698, ...,\n",
              "        50032.69313676, 47885.62525472, 45604.61575361],\n",
              "       [56573.5554719 , 52147.82118698, 49764.1320816 , ...,\n",
              "        47885.62525472, 45604.61575361, 43144.47129086]])"
            ]
          },
          "metadata": {},
          "execution_count": 51
        }
      ]
    },
    {
      "cell_type": "code",
      "source": [
        "import tensorflow as tf\n",
        "from tensorflow.keras import layers\n",
        "\n",
        "#set random seed\n",
        "tf.random.set_seed(42)\n",
        "\n",
        "# 1.construct the model\n",
        "model_3=tf.keras.Sequential([\n",
        "    \n",
        "    layers.Dense(128,activation=\"relu\"),\n",
        "    layers.Dense(HORIZON,activation=\"linear\")\n",
        "],name=\"model_3_dense\")\n",
        "\n",
        "# 2.compile the model\n",
        "model_3.compile(loss=\"mae\",\n",
        "                optimizer=tf.keras.optimizers.Adam(),\n",
        "                metrics=[\"mae\",\"mse\"]\n",
        "                )\n",
        "\n",
        "# 3. fit the model\n",
        "\n",
        "history_model_2=model_3.fit(x=train_windows,\n",
        "                            y=train_labels,\n",
        "                            verbose=1,\n",
        "                            batch_size=128,\n",
        "                            epochs=100,\n",
        "                            validation_data=(test_windows,test_labels),\n",
        "            callbacks=[create_model_checkpoint(model_name=model_3.name)])"
      ],
      "metadata": {
        "colab": {
          "base_uri": "https://localhost:8080/"
        },
        "id": "yXa8opKnCKMB",
        "outputId": "e2a92953-a113-410f-f629-901fac90e3d7"
      },
      "execution_count": null,
      "outputs": [
        {
          "output_type": "stream",
          "name": "stdout",
          "text": [
            "Epoch 1/100\n",
            "18/18 [==============================] - 1s 31ms/step - loss: 1476.6752 - mae: 1476.6752 - mse: 10390733.0000 - val_loss: 3088.5613 - val_mae: 3088.5613 - val_mse: 24386346.0000\n",
            "Epoch 2/100\n",
            "18/18 [==============================] - 0s 26ms/step - loss: 552.8943 - mae: 552.8943 - mse: 1336176.8750 - val_loss: 2462.4548 - val_mae: 2462.4548 - val_mse: 17112268.0000\n",
            "Epoch 3/100\n",
            "18/18 [==============================] - 0s 26ms/step - loss: 435.1978 - mae: 435.1978 - mse: 893449.0000 - val_loss: 2283.1484 - val_mae: 2283.1484 - val_mse: 14950889.0000\n",
            "Epoch 4/100\n",
            "18/18 [==============================] - 0s 27ms/step - loss: 391.9787 - mae: 391.9787 - mse: 745983.8125 - val_loss: 1975.1218 - val_mae: 1975.1218 - val_mse: 11680637.0000\n",
            "Epoch 5/100\n",
            "18/18 [==============================] - 0s 4ms/step - loss: 357.9485 - mae: 357.9485 - mse: 627137.9375 - val_loss: 2000.1556 - val_mae: 2000.1556 - val_mse: 11665231.0000\n",
            "Epoch 6/100\n",
            "18/18 [==============================] - 0s 26ms/step - loss: 332.6704 - mae: 332.6704 - mse: 531746.6250 - val_loss: 1723.4186 - val_mae: 1723.4186 - val_mse: 9019992.0000\n",
            "Epoch 7/100\n",
            "18/18 [==============================] - 0s 27ms/step - loss: 309.9903 - mae: 309.9903 - mse: 470480.5312 - val_loss: 1591.9688 - val_mae: 1591.9688 - val_mse: 7895366.0000\n",
            "Epoch 8/100\n",
            "18/18 [==============================] - 0s 26ms/step - loss: 302.4123 - mae: 302.4123 - mse: 438359.1250 - val_loss: 1579.8518 - val_mae: 1579.8518 - val_mse: 7899042.0000\n",
            "Epoch 9/100\n",
            "18/18 [==============================] - 0s 4ms/step - loss: 293.9170 - mae: 293.9170 - mse: 418137.7188 - val_loss: 1602.9116 - val_mae: 1602.9116 - val_mse: 7739274.0000\n",
            "Epoch 10/100\n",
            "18/18 [==============================] - 0s 26ms/step - loss: 291.5431 - mae: 291.5431 - mse: 402053.9688 - val_loss: 1504.9114 - val_mae: 1504.9114 - val_mse: 7034896.5000\n",
            "Epoch 11/100\n",
            "18/18 [==============================] - 0s 25ms/step - loss: 282.3861 - mae: 282.3861 - mse: 387283.0625 - val_loss: 1474.9521 - val_mae: 1474.9521 - val_mse: 6938312.5000\n",
            "Epoch 12/100\n",
            "18/18 [==============================] - 0s 5ms/step - loss: 276.0491 - mae: 276.0491 - mse: 374895.8125 - val_loss: 1539.4847 - val_mae: 1539.4847 - val_mse: 7364822.5000\n",
            "Epoch 13/100\n",
            "18/18 [==============================] - 1s 39ms/step - loss: 272.3232 - mae: 272.3232 - mse: 365701.9375 - val_loss: 1459.5269 - val_mae: 1459.5269 - val_mse: 6738909.0000\n",
            "Epoch 14/100\n",
            "18/18 [==============================] - 0s 27ms/step - loss: 270.6817 - mae: 270.6817 - mse: 367210.9688 - val_loss: 1417.0792 - val_mae: 1417.0792 - val_mse: 6493178.5000\n",
            "Epoch 15/100\n",
            "18/18 [==============================] - 0s 6ms/step - loss: 263.8875 - mae: 263.8875 - mse: 351648.9062 - val_loss: 1541.0621 - val_mae: 1541.0621 - val_mse: 7139703.0000\n",
            "Epoch 16/100\n",
            "18/18 [==============================] - 0s 5ms/step - loss: 265.9065 - mae: 265.9065 - mse: 352247.7188 - val_loss: 1441.2795 - val_mae: 1441.2795 - val_mse: 6551795.5000\n",
            "Epoch 17/100\n",
            "18/18 [==============================] - 0s 9ms/step - loss: 262.9132 - mae: 262.9132 - mse: 348013.6875 - val_loss: 1505.8213 - val_mae: 1505.8213 - val_mse: 7021491.0000\n",
            "Epoch 18/100\n",
            "18/18 [==============================] - 0s 7ms/step - loss: 260.1363 - mae: 260.1363 - mse: 338809.7500 - val_loss: 1446.3213 - val_mae: 1446.3213 - val_mse: 6640532.0000\n",
            "Epoch 19/100\n",
            "18/18 [==============================] - 0s 7ms/step - loss: 258.2223 - mae: 258.2223 - mse: 337048.7188 - val_loss: 1522.3828 - val_mae: 1522.3828 - val_mse: 7158658.5000\n",
            "Epoch 20/100\n",
            "18/18 [==============================] - 0s 7ms/step - loss: 263.9978 - mae: 263.9978 - mse: 342797.9375 - val_loss: 1425.1411 - val_mae: 1425.1411 - val_mse: 6555956.0000\n",
            "Epoch 21/100\n",
            "18/18 [==============================] - 0s 7ms/step - loss: 255.4174 - mae: 255.4174 - mse: 328356.0625 - val_loss: 1460.1968 - val_mae: 1460.1968 - val_mse: 6717267.5000\n",
            "Epoch 22/100\n",
            "18/18 [==============================] - 0s 7ms/step - loss: 255.3434 - mae: 255.3434 - mse: 327904.4375 - val_loss: 1419.4122 - val_mae: 1419.4122 - val_mse: 6416547.0000\n",
            "Epoch 23/100\n",
            "18/18 [==============================] - 1s 39ms/step - loss: 258.0463 - mae: 258.0463 - mse: 330457.5625 - val_loss: 1384.9282 - val_mae: 1384.9282 - val_mse: 6376790.5000\n",
            "Epoch 24/100\n",
            "18/18 [==============================] - 1s 42ms/step - loss: 269.2109 - mae: 269.2109 - mse: 348474.7188 - val_loss: 1377.6122 - val_mae: 1377.6122 - val_mse: 6264392.5000\n",
            "Epoch 25/100\n",
            "18/18 [==============================] - 0s 4ms/step - loss: 253.5239 - mae: 253.5239 - mse: 322304.0625 - val_loss: 1452.3351 - val_mae: 1452.3351 - val_mse: 6649548.5000\n",
            "Epoch 26/100\n",
            "18/18 [==============================] - 0s 5ms/step - loss: 252.1648 - mae: 252.1648 - mse: 319006.6250 - val_loss: 1388.5122 - val_mae: 1388.5122 - val_mse: 6325646.5000\n",
            "Epoch 27/100\n",
            "18/18 [==============================] - 0s 4ms/step - loss: 251.8276 - mae: 251.8276 - mse: 322080.4375 - val_loss: 1451.5784 - val_mae: 1451.5784 - val_mse: 6515207.5000\n",
            "Epoch 28/100\n",
            "18/18 [==============================] - 0s 4ms/step - loss: 247.8791 - mae: 247.8791 - mse: 313790.8750 - val_loss: 1391.4445 - val_mae: 1391.4445 - val_mse: 6381010.5000\n",
            "Epoch 29/100\n",
            "18/18 [==============================] - 0s 4ms/step - loss: 246.0225 - mae: 246.0225 - mse: 310989.5000 - val_loss: 1382.1858 - val_mae: 1382.1858 - val_mse: 6307697.0000\n",
            "Epoch 30/100\n",
            "18/18 [==============================] - 0s 26ms/step - loss: 248.2236 - mae: 248.2236 - mse: 317049.2812 - val_loss: 1336.2773 - val_mae: 1336.2773 - val_mse: 6054735.5000\n",
            "Epoch 31/100\n",
            "18/18 [==============================] - 0s 26ms/step - loss: 242.1411 - mae: 242.1411 - mse: 303474.5312 - val_loss: 1334.8569 - val_mae: 1334.8569 - val_mse: 6053588.0000\n",
            "Epoch 32/100\n",
            "18/18 [==============================] - 0s 26ms/step - loss: 245.8559 - mae: 245.8559 - mse: 309413.2188 - val_loss: 1329.1195 - val_mae: 1329.1195 - val_mse: 5981315.0000\n",
            "Epoch 33/100\n",
            "18/18 [==============================] - 0s 4ms/step - loss: 246.9277 - mae: 246.9277 - mse: 310413.8438 - val_loss: 1372.8105 - val_mae: 1372.8105 - val_mse: 6171215.0000\n",
            "Epoch 34/100\n",
            "18/18 [==============================] - 0s 5ms/step - loss: 244.2540 - mae: 244.2540 - mse: 305681.9375 - val_loss: 1373.9778 - val_mae: 1373.9778 - val_mse: 6200631.5000\n",
            "Epoch 35/100\n",
            "18/18 [==============================] - 0s 4ms/step - loss: 244.3824 - mae: 244.3824 - mse: 305912.8125 - val_loss: 1349.5087 - val_mae: 1349.5087 - val_mse: 6108202.0000\n",
            "Epoch 36/100\n",
            "18/18 [==============================] - 0s 5ms/step - loss: 241.3231 - mae: 241.3231 - mse: 303293.1250 - val_loss: 1427.5961 - val_mae: 1427.5961 - val_mse: 6570097.5000\n",
            "Epoch 37/100\n",
            "18/18 [==============================] - 0s 4ms/step - loss: 257.3803 - mae: 257.3803 - mse: 322964.4688 - val_loss: 1363.9797 - val_mae: 1363.9797 - val_mse: 6108615.5000\n",
            "Epoch 38/100\n",
            "18/18 [==============================] - 0s 4ms/step - loss: 240.1044 - mae: 240.1044 - mse: 299731.3125 - val_loss: 1376.8528 - val_mae: 1376.8528 - val_mse: 6250287.0000\n",
            "Epoch 39/100\n",
            "18/18 [==============================] - 0s 4ms/step - loss: 245.4610 - mae: 245.4610 - mse: 302870.8125 - val_loss: 1412.0402 - val_mae: 1412.0402 - val_mse: 6445713.0000\n",
            "Epoch 40/100\n",
            "18/18 [==============================] - 0s 4ms/step - loss: 239.6820 - mae: 239.6820 - mse: 299266.2500 - val_loss: 1426.0742 - val_mae: 1426.0742 - val_mse: 6408169.5000\n",
            "Epoch 41/100\n",
            "18/18 [==============================] - 0s 4ms/step - loss: 239.1188 - mae: 239.1188 - mse: 295875.4688 - val_loss: 1442.6663 - val_mae: 1442.6663 - val_mse: 6566415.0000\n",
            "Epoch 42/100\n",
            "18/18 [==============================] - 0s 5ms/step - loss: 246.8635 - mae: 246.8635 - mse: 311109.9062 - val_loss: 1347.2452 - val_mae: 1347.2452 - val_mse: 6057585.5000\n",
            "Epoch 43/100\n",
            "18/18 [==============================] - 0s 5ms/step - loss: 239.3242 - mae: 239.3242 - mse: 295104.0000 - val_loss: 1365.7219 - val_mae: 1365.7219 - val_mse: 6103318.0000\n",
            "Epoch 44/100\n",
            "18/18 [==============================] - 0s 28ms/step - loss: 250.1504 - mae: 250.1504 - mse: 311073.4688 - val_loss: 1293.0472 - val_mae: 1293.0472 - val_mse: 5793364.5000\n",
            "Epoch 45/100\n",
            "18/18 [==============================] - 0s 4ms/step - loss: 243.7763 - mae: 243.7763 - mse: 300905.0000 - val_loss: 1505.8341 - val_mae: 1505.8341 - val_mse: 6827288.5000\n",
            "Epoch 46/100\n",
            "18/18 [==============================] - 0s 4ms/step - loss: 241.1997 - mae: 241.1997 - mse: 298801.0000 - val_loss: 1299.8013 - val_mae: 1299.8013 - val_mse: 5822393.5000\n",
            "Epoch 47/100\n",
            "18/18 [==============================] - 0s 4ms/step - loss: 236.0368 - mae: 236.0368 - mse: 294210.6875 - val_loss: 1339.0396 - val_mae: 1339.0396 - val_mse: 5972380.5000\n",
            "Epoch 48/100\n",
            "18/18 [==============================] - 0s 5ms/step - loss: 235.2749 - mae: 235.2749 - mse: 289513.3750 - val_loss: 1329.4685 - val_mae: 1329.4685 - val_mse: 5933925.5000\n",
            "Epoch 49/100\n",
            "18/18 [==============================] - 0s 5ms/step - loss: 238.4083 - mae: 238.4083 - mse: 292709.6562 - val_loss: 1326.4941 - val_mae: 1326.4941 - val_mse: 6016930.0000\n",
            "Epoch 50/100\n",
            "18/18 [==============================] - 0s 4ms/step - loss: 236.0985 - mae: 236.0985 - mse: 291910.3125 - val_loss: 1318.6080 - val_mae: 1318.6080 - val_mse: 5844584.0000\n",
            "Epoch 51/100\n",
            "18/18 [==============================] - 0s 5ms/step - loss: 247.4354 - mae: 247.4354 - mse: 298867.6562 - val_loss: 1389.7017 - val_mae: 1389.7017 - val_mse: 6310916.5000\n",
            "Epoch 52/100\n",
            "18/18 [==============================] - 0s 4ms/step - loss: 233.8826 - mae: 233.8826 - mse: 286212.8438 - val_loss: 1293.4277 - val_mae: 1293.4277 - val_mse: 5711541.0000\n",
            "Epoch 53/100\n",
            "18/18 [==============================] - 0s 25ms/step - loss: 232.7012 - mae: 232.7012 - mse: 286820.6875 - val_loss: 1284.7607 - val_mae: 1284.7607 - val_mse: 5749309.0000\n",
            "Epoch 54/100\n",
            "18/18 [==============================] - 0s 25ms/step - loss: 235.9017 - mae: 235.9017 - mse: 291542.7188 - val_loss: 1284.3806 - val_mae: 1284.3806 - val_mse: 5748808.5000\n",
            "Epoch 55/100\n",
            "18/18 [==============================] - 0s 5ms/step - loss: 232.9453 - mae: 232.9453 - mse: 282204.3750 - val_loss: 1312.6141 - val_mae: 1312.6141 - val_mse: 5854618.5000\n",
            "Epoch 56/100\n",
            "18/18 [==============================] - 0s 5ms/step - loss: 231.0590 - mae: 231.0590 - mse: 283601.1562 - val_loss: 1355.7415 - val_mae: 1355.7415 - val_mse: 5982999.0000\n",
            "Epoch 57/100\n",
            "18/18 [==============================] - 0s 5ms/step - loss: 235.9913 - mae: 235.9913 - mse: 289773.3750 - val_loss: 1363.5928 - val_mae: 1363.5928 - val_mse: 6065964.0000\n",
            "Epoch 58/100\n",
            "18/18 [==============================] - 0s 4ms/step - loss: 231.6387 - mae: 231.6387 - mse: 281294.2500 - val_loss: 1306.6425 - val_mae: 1306.6425 - val_mse: 5727832.5000\n",
            "Epoch 59/100\n",
            "18/18 [==============================] - 0s 4ms/step - loss: 230.8834 - mae: 230.8834 - mse: 281998.1250 - val_loss: 1288.3002 - val_mae: 1288.3002 - val_mse: 5697831.5000\n",
            "Epoch 60/100\n",
            "18/18 [==============================] - 0s 26ms/step - loss: 230.1366 - mae: 230.1366 - mse: 280421.1562 - val_loss: 1259.6017 - val_mae: 1259.6017 - val_mse: 5612471.0000\n",
            "Epoch 61/100\n",
            "18/18 [==============================] - 0s 4ms/step - loss: 230.5381 - mae: 230.5381 - mse: 282358.5312 - val_loss: 1406.2996 - val_mae: 1406.2996 - val_mse: 6253862.5000\n",
            "Epoch 62/100\n",
            "18/18 [==============================] - 0s 5ms/step - loss: 231.8386 - mae: 231.8386 - mse: 280512.9062 - val_loss: 1291.0713 - val_mae: 1291.0713 - val_mse: 5756396.5000\n",
            "Epoch 63/100\n",
            "18/18 [==============================] - 0s 4ms/step - loss: 233.6788 - mae: 233.6788 - mse: 285109.7500 - val_loss: 1368.6284 - val_mae: 1368.6284 - val_mse: 6087167.0000\n",
            "Epoch 64/100\n",
            "18/18 [==============================] - 0s 25ms/step - loss: 232.2232 - mae: 232.2232 - mse: 280256.0312 - val_loss: 1251.2312 - val_mae: 1251.2312 - val_mse: 5499588.0000\n",
            "Epoch 65/100\n",
            "18/18 [==============================] - 0s 4ms/step - loss: 232.8093 - mae: 232.8093 - mse: 286747.3438 - val_loss: 1346.9840 - val_mae: 1346.9840 - val_mse: 5905306.5000\n",
            "Epoch 66/100\n",
            "18/18 [==============================] - 0s 4ms/step - loss: 231.5086 - mae: 231.5086 - mse: 281108.9375 - val_loss: 1429.1592 - val_mae: 1429.1592 - val_mse: 6378788.0000\n",
            "Epoch 67/100\n",
            "18/18 [==============================] - 0s 5ms/step - loss: 234.4316 - mae: 234.4316 - mse: 283984.4062 - val_loss: 1291.2920 - val_mae: 1291.2920 - val_mse: 5649027.0000\n",
            "Epoch 68/100\n",
            "18/18 [==============================] - 0s 5ms/step - loss: 228.4419 - mae: 228.4419 - mse: 276119.7500 - val_loss: 1320.3303 - val_mae: 1320.3303 - val_mse: 5815860.5000\n",
            "Epoch 69/100\n",
            "18/18 [==============================] - 0s 5ms/step - loss: 227.7240 - mae: 227.7240 - mse: 270948.4375 - val_loss: 1519.1730 - val_mae: 1519.1730 - val_mse: 6928610.5000\n",
            "Epoch 70/100\n",
            "18/18 [==============================] - 0s 4ms/step - loss: 233.6939 - mae: 233.6939 - mse: 282986.3750 - val_loss: 1278.3643 - val_mae: 1278.3643 - val_mse: 5591982.0000\n",
            "Epoch 71/100\n",
            "18/18 [==============================] - 0s 5ms/step - loss: 227.1845 - mae: 227.1845 - mse: 277117.5938 - val_loss: 1261.8005 - val_mae: 1261.8005 - val_mse: 5517604.5000\n",
            "Epoch 72/100\n",
            "18/18 [==============================] - 0s 4ms/step - loss: 229.9134 - mae: 229.9134 - mse: 276164.3750 - val_loss: 1251.5463 - val_mae: 1251.5463 - val_mse: 5564067.0000\n",
            "Epoch 73/100\n",
            "18/18 [==============================] - 0s 4ms/step - loss: 227.0497 - mae: 227.0497 - mse: 275501.1562 - val_loss: 1270.7107 - val_mae: 1270.7107 - val_mse: 5572510.0000\n",
            "Epoch 74/100\n",
            "18/18 [==============================] - 0s 4ms/step - loss: 230.8764 - mae: 230.8764 - mse: 280781.9688 - val_loss: 1387.2860 - val_mae: 1387.2860 - val_mse: 6085277.5000\n",
            "Epoch 75/100\n",
            "18/18 [==============================] - 0s 4ms/step - loss: 228.8457 - mae: 228.8457 - mse: 274044.4062 - val_loss: 1356.4390 - val_mae: 1356.4390 - val_mse: 5924470.0000\n",
            "Epoch 76/100\n",
            "18/18 [==============================] - 0s 4ms/step - loss: 228.9847 - mae: 228.9847 - mse: 279526.8438 - val_loss: 1287.2343 - val_mae: 1287.2343 - val_mse: 5667253.0000\n",
            "Epoch 77/100\n",
            "18/18 [==============================] - 0s 26ms/step - loss: 225.3239 - mae: 225.3239 - mse: 272094.2500 - val_loss: 1237.5065 - val_mae: 1237.5065 - val_mse: 5405198.5000\n",
            "Epoch 78/100\n",
            "18/18 [==============================] - 0s 5ms/step - loss: 229.2194 - mae: 229.2194 - mse: 274318.4688 - val_loss: 1248.6915 - val_mae: 1248.6915 - val_mse: 5431387.0000\n",
            "Epoch 79/100\n",
            "18/18 [==============================] - 0s 4ms/step - loss: 227.7465 - mae: 227.7465 - mse: 270252.6562 - val_loss: 1286.5439 - val_mae: 1286.5439 - val_mse: 5594558.0000\n",
            "Epoch 80/100\n",
            "18/18 [==============================] - 0s 4ms/step - loss: 225.9967 - mae: 225.9967 - mse: 270396.1875 - val_loss: 1329.9921 - val_mae: 1329.9921 - val_mse: 5849621.5000\n",
            "Epoch 81/100\n",
            "18/18 [==============================] - 0s 4ms/step - loss: 228.1217 - mae: 228.1217 - mse: 277564.4375 - val_loss: 1262.6128 - val_mae: 1262.6128 - val_mse: 5568035.5000\n",
            "Epoch 82/100\n",
            "18/18 [==============================] - 0s 4ms/step - loss: 225.3166 - mae: 225.3166 - mse: 273099.7500 - val_loss: 1273.8380 - val_mae: 1273.8380 - val_mse: 5537962.0000\n",
            "Epoch 83/100\n",
            "18/18 [==============================] - 0s 5ms/step - loss: 225.2265 - mae: 225.2265 - mse: 271168.5312 - val_loss: 1279.3625 - val_mae: 1279.3625 - val_mse: 5627999.0000\n",
            "Epoch 84/100\n",
            "18/18 [==============================] - 0s 4ms/step - loss: 224.9336 - mae: 224.9336 - mse: 269869.2500 - val_loss: 1249.8484 - val_mae: 1249.8484 - val_mse: 5513098.0000\n",
            "Epoch 85/100\n",
            "18/18 [==============================] - 0s 4ms/step - loss: 226.8255 - mae: 226.8255 - mse: 273469.9062 - val_loss: 1248.8396 - val_mae: 1248.8396 - val_mse: 5451508.5000\n",
            "Epoch 86/100\n",
            "18/18 [==============================] - 0s 4ms/step - loss: 224.7192 - mae: 224.7192 - mse: 271943.3750 - val_loss: 1295.6708 - val_mae: 1295.6708 - val_mse: 5696024.0000\n",
            "Epoch 87/100\n",
            "18/18 [==============================] - 0s 4ms/step - loss: 227.7314 - mae: 227.7314 - mse: 270321.6250 - val_loss: 1312.5576 - val_mae: 1312.5576 - val_mse: 5685570.5000\n",
            "Epoch 88/100\n",
            "18/18 [==============================] - 0s 4ms/step - loss: 226.0089 - mae: 226.0089 - mse: 271724.3125 - val_loss: 1531.1237 - val_mae: 1531.1237 - val_mse: 6729364.0000\n",
            "Epoch 89/100\n",
            "18/18 [==============================] - 0s 4ms/step - loss: 232.9869 - mae: 232.9869 - mse: 273172.6562 - val_loss: 1280.1622 - val_mae: 1280.1622 - val_mse: 5573279.5000\n",
            "Epoch 90/100\n",
            "18/18 [==============================] - 0s 5ms/step - loss: 231.6928 - mae: 231.6928 - mse: 278982.4062 - val_loss: 1342.9247 - val_mae: 1342.9247 - val_mse: 5812115.5000\n",
            "Epoch 91/100\n",
            "18/18 [==============================] - 0s 4ms/step - loss: 226.7606 - mae: 226.7606 - mse: 271052.1562 - val_loss: 1259.4496 - val_mae: 1259.4496 - val_mse: 5500164.5000\n",
            "Epoch 92/100\n",
            "18/18 [==============================] - 0s 6ms/step - loss: 225.4304 - mae: 225.4304 - mse: 269325.5000 - val_loss: 1244.5864 - val_mae: 1244.5864 - val_mse: 5482781.5000\n",
            "Epoch 93/100\n",
            "18/18 [==============================] - 0s 4ms/step - loss: 232.3920 - mae: 232.3920 - mse: 274117.9375 - val_loss: 1305.4160 - val_mae: 1305.4160 - val_mse: 5619282.0000\n",
            "Epoch 94/100\n",
            "18/18 [==============================] - 0s 4ms/step - loss: 227.1455 - mae: 227.1455 - mse: 268565.8438 - val_loss: 1278.3680 - val_mae: 1278.3680 - val_mse: 5547783.0000\n",
            "Epoch 95/100\n",
            "18/18 [==============================] - 0s 4ms/step - loss: 226.4553 - mae: 226.4553 - mse: 269101.6250 - val_loss: 1282.0594 - val_mae: 1282.0594 - val_mse: 5621684.0000\n",
            "Epoch 96/100\n",
            "18/18 [==============================] - 0s 5ms/step - loss: 229.8147 - mae: 229.8147 - mse: 273974.4375 - val_loss: 1359.4152 - val_mae: 1359.4152 - val_mse: 5903701.0000\n",
            "Epoch 97/100\n",
            "18/18 [==============================] - 0s 5ms/step - loss: 226.3261 - mae: 226.3261 - mse: 267818.0938 - val_loss: 1261.2343 - val_mae: 1261.2343 - val_mse: 5482403.5000\n",
            "Epoch 98/100\n",
            "18/18 [==============================] - 0s 5ms/step - loss: 227.1718 - mae: 227.1718 - mse: 273941.6875 - val_loss: 1369.7389 - val_mae: 1369.7389 - val_mse: 5913570.0000\n",
            "Epoch 99/100\n",
            "18/18 [==============================] - 0s 4ms/step - loss: 228.8833 - mae: 228.8833 - mse: 273331.1562 - val_loss: 1241.8301 - val_mae: 1241.8301 - val_mse: 5379831.0000\n",
            "Epoch 100/100\n",
            "18/18 [==============================] - 0s 5ms/step - loss: 223.2735 - mae: 223.2735 - mse: 266898.2812 - val_loss: 1300.1523 - val_mae: 1300.1523 - val_mse: 5599956.0000\n"
          ]
        }
      ]
    },
    {
      "cell_type": "code",
      "source": [
        "model_3.evaluate(test_windows,test_labels)"
      ],
      "metadata": {
        "colab": {
          "base_uri": "https://localhost:8080/"
        },
        "id": "4dQMXrRYCqLp",
        "outputId": "b72afa7d-0ca9-4491-c1df-99961144c121"
      },
      "execution_count": null,
      "outputs": [
        {
          "output_type": "stream",
          "name": "stdout",
          "text": [
            "18/18 [==============================] - 0s 3ms/step - loss: 1300.1523 - mae: 1300.1523 - mse: 5599956.0000\n"
          ]
        },
        {
          "output_type": "execute_result",
          "data": {
            "text/plain": [
              "[1300.15234375, 1300.15234375, 5599956.0]"
            ]
          },
          "metadata": {},
          "execution_count": 53
        }
      ]
    },
    {
      "cell_type": "code",
      "source": [
        "model_3=tf.keras.models.load_model(\"/content/model_experiments/model_3_dense\")\n",
        "model_3.evaluate(test_windows,test_labels)"
      ],
      "metadata": {
        "colab": {
          "base_uri": "https://localhost:8080/"
        },
        "id": "RtKzUAiZDJSy",
        "outputId": "8d44fbd3-3247-44fa-f17e-d396a1e6bf55"
      },
      "execution_count": null,
      "outputs": [
        {
          "output_type": "stream",
          "name": "stdout",
          "text": [
            "18/18 [==============================] - 0s 2ms/step - loss: 1237.5063 - mae: 1237.5063 - mse: 5405199.0000\n"
          ]
        },
        {
          "output_type": "execute_result",
          "data": {
            "text/plain": [
              "[1237.50634765625, 1237.50634765625, 5405199.0]"
            ]
          },
          "metadata": {},
          "execution_count": 54
        }
      ]
    },
    {
      "cell_type": "code",
      "source": [
        "\n",
        "# The predictions are going to be 7 steps at a time (this is the HORIZON size)\n",
        "model_3_preds = make_preds(model_3,\n",
        "                           input_data=test_windows)\n",
        "model_3_preds[:5]\n",
        "     "
      ],
      "metadata": {
        "colab": {
          "base_uri": "https://localhost:8080/"
        },
        "id": "qmVcmQ1gDZAv",
        "outputId": "0fc936ec-4e14-4b98-c57a-02b82241ae7f"
      },
      "execution_count": null,
      "outputs": [
        {
          "output_type": "stream",
          "name": "stdout",
          "text": [
            "18/18 [==============================] - 0s 1ms/step\n"
          ]
        },
        {
          "output_type": "execute_result",
          "data": {
            "text/plain": [
              "<tf.Tensor: shape=(5, 7), dtype=float32, numpy=\n",
              "array([[9004.694 , 9048.1   , 9425.09  , 9258.256 , 9495.797 , 9558.453 ,\n",
              "        9357.3545],\n",
              "       [8735.506 , 8840.303 , 9247.793 , 8885.601 , 9097.186 , 9174.327 ,\n",
              "        9156.818 ],\n",
              "       [8672.508 , 8782.387 , 9123.857 , 8770.371 , 9007.13  , 9003.869 ,\n",
              "        9042.725 ],\n",
              "       [8874.399 , 8784.74  , 9043.902 , 8943.052 , 9033.477 , 9176.489 ,\n",
              "        9039.677 ],\n",
              "       [8825.89  , 8777.44  , 8926.78  , 8870.179 , 9213.232 , 9268.156 ,\n",
              "        8942.487 ]], dtype=float32)>"
            ]
          },
          "metadata": {},
          "execution_count": 55
        }
      ]
    },
    {
      "cell_type": "code",
      "source": [
        "# Calculate model_3 results - these are going to be multi-dimensional because\n",
        "# we're trying to predict more than one step at a time.\n",
        "model_3_results = evaluate_preds(y_true=tf.squeeze(test_labels),\n",
        "                                 y_pred=model_3_preds)\n",
        "model_3_results"
      ],
      "metadata": {
        "id": "crKJyw_bDa_i"
      },
      "execution_count": null,
      "outputs": []
    },
    {
      "cell_type": "code",
      "source": [
        "def evaluate_preds(y_true, y_pred):\n",
        "  # Make sure float32 (for metric calculations)\n",
        "  y_true = tf.cast(y_true, dtype=tf.float32)\n",
        "  y_pred = tf.cast(y_pred, dtype=tf.float32)\n",
        "\n",
        "  # Calculate various metrics\n",
        "  mae = tf.keras.metrics.mean_absolute_error(y_true, y_pred)\n",
        "  mse = tf.keras.metrics.mean_squared_error(y_true, y_pred)\n",
        "  rmse = tf.sqrt(mse)\n",
        "  mape = tf.keras.metrics.mean_absolute_percentage_error(y_true, y_pred)\n",
        "  mase = mean_absolute_scaled_error(y_true, y_pred)\n",
        "\n",
        "  # Account for different sized metrics (for longer horizons, reduce to single number)\n",
        "  if mae.ndim > 0: # if mae isn't already a scalar, reduce it to one by aggregating tensors to mean\n",
        "    mae = tf.reduce_mean(mae)  #takes the average of all values\n",
        "    mse = tf.reduce_mean(mse)\n",
        "    rmse = tf.reduce_mean(rmse)\n",
        "    mape = tf.reduce_mean(mape)\n",
        "    mase = tf.reduce_mean(mase)\n",
        "\n",
        "  return {\"mae\": mae.numpy(),\n",
        "          \"mse\": mse.numpy(),\n",
        "          \"rmse\": rmse.numpy(),\n",
        "          \"mape\": mape.numpy(),\n",
        "          \"mase\": mase.numpy()}\n",
        "     "
      ],
      "metadata": {
        "id": "78PWaqBCDtLQ"
      },
      "execution_count": null,
      "outputs": []
    },
    {
      "cell_type": "code",
      "source": [
        "# Get model_3 results aggregated to single values\n",
        "model_3_results = evaluate_preds(y_true=tf.squeeze(test_labels),\n",
        "                                 y_pred=model_3_preds)\n",
        "model_3_results"
      ],
      "metadata": {
        "colab": {
          "base_uri": "https://localhost:8080/"
        },
        "id": "uI86SC7mFdcS",
        "outputId": "29fd8831-23f8-450b-d3aa-dc32f9a90c1f"
      },
      "execution_count": null,
      "outputs": [
        {
          "output_type": "execute_result",
          "data": {
            "text/plain": [
              "{'mae': 1237.5063,\n",
              " 'mse': 5405198.5,\n",
              " 'rmse': 1425.7477,\n",
              " 'mape': 5.5588784,\n",
              " 'mase': 2.2020733}"
            ]
          },
          "metadata": {},
          "execution_count": 58
        }
      ]
    },
    {
      "cell_type": "code",
      "source": [
        "offset = 300\n",
        "plt.figure(figsize=(10, 7))\n",
        "plot_time_series(timesteps=X_test[-len(test_windows):], values=test_labels[:, 0], start=offset, label=\"Test_data\")\n",
        "# Checking the shape of model_3_preds results in [n_test_samples, HORIZON] (this will screw up the plot)\n",
        "plot_time_series(timesteps=X_test[-len(test_windows):], values=model_3_preds, start=offset, label=\"model_3_preds\")"
      ],
      "metadata": {
        "colab": {
          "base_uri": "https://localhost:8080/",
          "height": 442
        },
        "id": "KGUzalGYGYay",
        "outputId": "11b78a4d-e588-4910-a8c6-6de3a0847e95"
      },
      "execution_count": null,
      "outputs": [
        {
          "output_type": "display_data",
          "data": {
            "text/plain": [
              "<Figure size 720x504 with 1 Axes>"
            ],
            "image/png": "[encoded data removed]"
          },
          "metadata": {
            "needs_background": "light"
          }
        }
      ]
    },
    {
      "cell_type": "code",
      "source": [
        "offset = 300\n",
        "plt.figure(figsize=(10, 7))\n",
        "# Plot model_3_preds by aggregating them (note: this condenses information so the preds will look fruther ahead than the test data)\n",
        "plot_time_series(timesteps=X_test[-len(test_windows):], \n",
        "                 values=test_labels[:, 0], \n",
        "                 start=offset, \n",
        "                 label=\"Test_data\")\n",
        "plot_time_series(timesteps=X_test[-len(test_windows):], \n",
        "                 values=tf.reduce_mean(model_3_preds, axis=1), \n",
        "                 format=\"-\",\n",
        "                 start=offset, \n",
        "                 label=\"model_3_preds\")"
      ],
      "metadata": {
        "colab": {
          "base_uri": "https://localhost:8080/",
          "height": 442
        },
        "id": "-dNW-wP6HJ12",
        "outputId": "7a1adf87-8817-489e-fda3-f9ed4d204b1d"
      },
      "execution_count": null,
      "outputs": [
        {
          "output_type": "display_data",
          "data": {
            "text/plain": [
              "<Figure size 720x504 with 1 Axes>"
            ],
            "image/png": "[encoded data removed]"
          },
          "metadata": {
            "needs_background": "light"
          }
        }
      ]
    },
    {
      "cell_type": "code",
      "source": [
        "pd.DataFrame({\"naive\": naive_results[\"mae\"], \n",
        "              \"horizon_1_window_7\": model_1_results[\"mae\"], \n",
        "              \"horizon_1_window_30\": model_2_results[\"mae\"], \n",
        "              \"horizon_7_window_30\": model_3_results[\"mae\"]}, index=[\"mae\"]).plot(figsize=(10, 7), kind=\"bar\");"
      ],
      "metadata": {
        "colab": {
          "base_uri": "https://localhost:8080/",
          "height": 440
        },
        "id": "OVSUFaZWHNxG",
        "outputId": "f9c92675-ebbc-4ad7-8032-d946f5ec0e7b"
      },
      "execution_count": null,
      "outputs": [
        {
          "output_type": "display_data",
          "data": {
            "text/plain": [
              "<Figure size 720x504 with 1 Axes>"
            ],
            "image/png": "[encoded data removed]"
          },
          "metadata": {
            "needs_background": "light"
          }
        }
      ]
    },
    {
      "cell_type": "markdown",
      "source": [
        "model 4: conv1D"
      ],
      "metadata": {
        "id": "xHi194A3HYmY"
      }
    },
    {
      "cell_type": "code",
      "source": [
        "HORIZON=1\n",
        "WINDOW_SIZE=7"
      ],
      "metadata": {
        "id": "Ni_3OXzllP8Y"
      },
      "execution_count": null,
      "outputs": []
    },
    {
      "cell_type": "code",
      "source": [
        "full_windows,full_labels=make_windows(prices,WINDOW_SIZE,HORIZON)\n",
        "\n",
        "# MAKE TRAIN AND TEST\n",
        "train_windows,test_windows,train_labels,test_labels=make_train_test_splits(full_windows,full_labels,0.2)\n"
      ],
      "metadata": {
        "colab": {
          "base_uri": "https://localhost:8080/"
        },
        "id": "fPjp2P-UlZZ-",
        "outputId": "e708cae3-847f-43bd-f7ee-d83e76ca1eda"
      },
      "execution_count": null,
      "outputs": [
        {
          "output_type": "stream",
          "name": "stdout",
          "text": [
            "[[   0    1    2 ...    5    6    7]\n",
            " [   1    2    3 ...    6    7    8]\n",
            " [   2    3    4 ...    7    8    9]\n",
            " ...\n",
            " [2777 2778 2779 ... 2782 2783 2784]\n",
            " [2778 2779 2780 ... 2783 2784 2785]\n",
            " [2779 2780 2781 ... 2784 2785 2786]]\n"
          ]
        }
      ]
    },
    {
      "cell_type": "code",
      "source": [
        "train_windows, test_windows, train_labels, test_labels = make_train_test_splits(full_windows, full_labels)\n",
        "len(train_windows), len(test_windows), len(train_labels), len(test_labels)"
      ],
      "metadata": {
        "colab": {
          "base_uri": "https://localhost:8080/"
        },
        "id": "NqxNB-v2lo15",
        "outputId": "1fa0e529-3199-44e7-c8a7-3bb7c6f245b8"
      },
      "execution_count": null,
      "outputs": [
        {
          "output_type": "execute_result",
          "data": {
            "text/plain": [
              "(2224, 556, 2224, 556)"
            ]
          },
          "metadata": {},
          "execution_count": 64
        }
      ]
    },
    {
      "cell_type": "code",
      "source": [
        "# to use the conv1d , we need an input shape of '(batch_size,timesteps,input_dim)'..\n",
        "# however our data isnt into that shape yet\n",
        "x=tf.constant(train_windows[0])\n",
        "x.shape"
      ],
      "metadata": {
        "colab": {
          "base_uri": "https://localhost:8080/"
        },
        "id": "3ooTUUN2luaz",
        "outputId": "d8d6ff63-543a-49bd-8920-289643a41213"
      },
      "execution_count": null,
      "outputs": [
        {
          "output_type": "execute_result",
          "data": {
            "text/plain": [
              "TensorShape([7])"
            ]
          },
          "metadata": {},
          "execution_count": 65
        }
      ]
    },
    {
      "cell_type": "code",
      "source": [
        "expand_dims_layer=layers.Lambda(lambda x: tf.expand_dims(x,axis=1)) # adds an extra dimension to the input\n",
        " "
      ],
      "metadata": {
        "id": "8BM3k6l1mpkF"
      },
      "execution_count": null,
      "outputs": []
    },
    {
      "cell_type": "code",
      "source": [
        "expand_dims_layer(x).shape"
      ],
      "metadata": {
        "colab": {
          "base_uri": "https://localhost:8080/"
        },
        "id": "eB2rqoSUoQKU",
        "outputId": "dd854758-813d-4f7d-dae8-64485be87a07"
      },
      "execution_count": null,
      "outputs": [
        {
          "output_type": "execute_result",
          "data": {
            "text/plain": [
              "TensorShape([7, 1])"
            ]
          },
          "metadata": {},
          "execution_count": 67
        }
      ]
    },
    {
      "cell_type": "code",
      "source": [
        "tf.random.set_seed(42)\n",
        "model_4=tf.keras.Sequential([\n",
        "    layers.Lambda(lambda x: tf.expand_dims(x,axis=1)),\n",
        "    layers.Conv1D(filters=128,kernel_size=5,strides=1,padding=\"causal\",activation=\"relu\"),\n",
        "    layers.Dense(HORIZON)\n",
        "],name=\"model_4_conv1D\")\n",
        "\n",
        "model_4.compile(loss=\"mae\",optimizer=tf.keras.optimizers.Adam(),metrics=[\"mae\",\"mse\"])\n",
        "\n",
        "model_4.fit(x=train_windows,\n",
        "            y=train_labels,\n",
        "            batch_size=128,\n",
        "            epochs=100,\n",
        "            verbose=1,\n",
        "            validation_data=(test_windows,test_labels),\n",
        "            callbacks=[create_model_checkpoint(model_name=model_4.name)]\n",
        "            )"
      ],
      "metadata": {
        "colab": {
          "base_uri": "https://localhost:8080/"
        },
        "id": "Q_Er50uuopzw",
        "outputId": "db0702e9-68d7-4189-fac1-10c5f9593c5e"
      },
      "execution_count": null,
      "outputs": [
        {
          "output_type": "stream",
          "name": "stdout",
          "text": [
            "Epoch 1/100\n",
            "15/18 [========================>.....] - ETA: 0s - loss: 1360.5215 - mae: 1360.5215 - mse: 5906240.0000   "
          ]
        },
        {
          "output_type": "stream",
          "name": "stderr",
          "text": [
            "WARNING:absl:Found untraced functions such as _jit_compiled_convolution_op while saving (showing 1 of 1). These functions will not be directly callable after loading.\n"
          ]
        },
        {
          "output_type": "stream",
          "name": "stdout",
          "text": [
            "\b\b\b\b\b\b\b\b\b\b\b\b\b\b\b\b\b\b\b\b\b\b\b\b\b\b\b\b\b\b\b\b\b\b\b\b\b\b\b\b\b\b\b\b\b\b\b\b\b\b\b\b\b\b\b\b\b\b\b\b\b\b\b\b\b\b\b\b\b\b\b\b\b\b\b\b\b\b\b\b\b\b\b\b\b\b\b\b\b\b\b\b\b\b\b\b\b\b\b\b\b\b\b\r18/18 [==============================] - 8s 66ms/step - loss: 1207.3817 - mae: 1207.3817 - mse: 5128398.0000 - val_loss: 2320.6218 - val_mae: 2320.6218 - val_mse: 13063541.0000\n",
            "Epoch 2/100\n",
            "17/18 [===========================>..] - ETA: 0s - loss: 318.9832 - mae: 318.9832 - mse: 415760.2500"
          ]
        },
        {
          "output_type": "stream",
          "name": "stderr",
          "text": [
            "WARNING:absl:Found untraced functions such as _jit_compiled_convolution_op while saving (showing 1 of 1). These functions will not be directly callable after loading.\n"
          ]
        },
        {
          "output_type": "stream",
          "name": "stdout",
          "text": [
            "\b\b\b\b\b\b\b\b\b\b\b\b\b\b\b\b\b\b\b\b\b\b\b\b\b\b\b\b\b\b\b\b\b\b\b\b\b\b\b\b\b\b\b\b\b\b\b\b\b\b\b\b\b\b\b\b\b\b\b\b\b\b\b\b\b\b\b\b\b\b\b\b\b\b\b\b\b\b\b\b\b\b\b\b\b\b\b\b\b\b\b\b\b\b\b\b\b\b\b\b\r18/18 [==============================] - 1s 37ms/step - loss: 316.2171 - mae: 316.2171 - mse: 408753.9375 - val_loss: 1467.2799 - val_mae: 1467.2799 - val_mse: 5375009.5000\n",
            "Epoch 3/100\n",
            "15/18 [========================>.....] - ETA: 0s - loss: 195.7219 - mae: 195.7219 - mse: 190615.7812"
          ]
        },
        {
          "output_type": "stream",
          "name": "stderr",
          "text": [
            "WARNING:absl:Found untraced functions such as _jit_compiled_convolution_op while saving (showing 1 of 1). These functions will not be directly callable after loading.\n"
          ]
        },
        {
          "output_type": "stream",
          "name": "stdout",
          "text": [
            "\b\b\b\b\b\b\b\b\b\b\b\b\b\b\b\b\b\b\b\b\b\b\b\b\b\b\b\b\b\b\b\b\b\b\b\b\b\b\b\b\b\b\b\b\b\b\b\b\b\b\b\b\b\b\b\b\b\b\b\b\b\b\b\b\b\b\b\b\b\b\b\b\b\b\b\b\b\b\b\b\b\b\b\b\b\b\b\b\b\b\b\b\b\b\b\b\b\b\b\b\r18/18 [==============================] - 1s 37ms/step - loss: 192.6853 - mae: 192.6853 - mse: 187429.8281 - val_loss: 1164.7074 - val_mae: 1164.7074 - val_mse: 3801948.0000\n",
            "Epoch 4/100\n",
            "18/18 [==============================] - ETA: 0s - loss: 177.3535 - mae: 177.3535 - mse: 166088.1562"
          ]
        },
        {
          "output_type": "stream",
          "name": "stderr",
          "text": [
            "WARNING:absl:Found untraced functions such as _jit_compiled_convolution_op while saving (showing 1 of 1). These functions will not be directly callable after loading.\n"
          ]
        },
        {
          "output_type": "stream",
          "name": "stdout",
          "text": [
            "\b\b\b\b\b\b\b\b\b\b\b\b\b\b\b\b\b\b\b\b\b\b\b\b\b\b\b\b\b\b\b\b\b\b\b\b\b\b\b\b\b\b\b\b\b\b\b\b\b\b\b\b\b\b\b\b\b\b\b\b\b\b\b\b\b\b\b\b\b\b\b\b\b\b\b\b\b\b\b\b\b\b\b\b\b\b\b\b\b\b\b\b\b\b\b\b\b\b\b\b\r18/18 [==============================] - 1s 36ms/step - loss: 177.3535 - mae: 177.3535 - mse: 166088.1562 - val_loss: 981.6695 - val_mae: 981.6695 - val_mse: 3154571.5000\n",
            "Epoch 5/100\n",
            "17/18 [===========================>..] - ETA: 0s - loss: 174.0854 - mae: 174.0854 - mse: 162017.5000"
          ]
        },
        {
          "output_type": "stream",
          "name": "stderr",
          "text": [
            "WARNING:absl:Found untraced functions such as _jit_compiled_convolution_op while saving (showing 1 of 1). These functions will not be directly callable after loading.\n"
          ]
        },
        {
          "output_type": "stream",
          "name": "stdout",
          "text": [
            "\b\b\b\b\b\b\b\b\b\b\b\b\b\b\b\b\b\b\b\b\b\b\b\b\b\b\b\b\b\b\b\b\b\b\b\b\b\b\b\b\b\b\b\b\b\b\b\b\b\b\b\b\b\b\b\b\b\b\b\b\b\b\b\b\b\b\b\b\b\b\b\b\b\b\b\b\b\b\b\b\b\b\b\b\b\b\b\b\b\b\b\b\b\b\b\b\b\b\b\b\r18/18 [==============================] - 1s 40ms/step - loss: 172.3467 - mae: 172.3467 - mse: 159527.5469 - val_loss: 960.8708 - val_mae: 960.8708 - val_mse: 3055978.0000\n",
            "Epoch 6/100\n",
            "17/18 [===========================>..] - ETA: 0s - loss: 170.2479 - mae: 170.2479 - mse: 146161.0781"
          ]
        },
        {
          "output_type": "stream",
          "name": "stderr",
          "text": [
            "WARNING:absl:Found untraced functions such as _jit_compiled_convolution_op while saving (showing 1 of 1). These functions will not be directly callable after loading.\n"
          ]
        },
        {
          "output_type": "stream",
          "name": "stdout",
          "text": [
            "\b\b\b\b\b\b\b\b\b\b\b\b\b\b\b\b\b\b\b\b\b\b\b\b\b\b\b\b\b\b\b\b\b\b\b\b\b\b\b\b\b\b\b\b\b\b\b\b\b\b\b\b\b\b\b\b\b\b\b\b\b\b\b\b\b\b\b\b\b\b\b\b\b\b\b\b\b\b\b\b\b\b\b\b\b\b\b\b\b\b\b\b\b\b\b\b\b\b\b\b\r18/18 [==============================] - 1s 36ms/step - loss: 171.9753 - mae: 171.9753 - mse: 156367.9844 - val_loss: 950.2026 - val_mae: 950.2026 - val_mse: 3054649.0000\n",
            "Epoch 7/100\n",
            "17/18 [===========================>..] - ETA: 0s - loss: 167.9792 - mae: 167.9792 - mse: 151010.2344"
          ]
        },
        {
          "output_type": "stream",
          "name": "stderr",
          "text": [
            "WARNING:absl:Found untraced functions such as _jit_compiled_convolution_op while saving (showing 1 of 1). These functions will not be directly callable after loading.\n"
          ]
        },
        {
          "output_type": "stream",
          "name": "stdout",
          "text": [
            "\b\b\b\b\b\b\b\b\b\b\b\b\b\b\b\b\b\b\b\b\b\b\b\b\b\b\b\b\b\b\b\b\b\b\b\b\b\b\b\b\b\b\b\b\b\b\b\b\b\b\b\b\b\b\b\b\b\b\b\b\b\b\b\b\b\b\b\b\b\b\b\b\b\b\b\b\b\b\b\b\b\b\b\b\b\b\b\b\b\b\b\b\b\b\b\b\b\b\b\b\r18/18 [==============================] - 1s 37ms/step - loss: 167.1943 - mae: 167.1943 - mse: 149199.9531 - val_loss: 943.2872 - val_mae: 943.2872 - val_mse: 2886476.2500\n",
            "Epoch 8/100\n",
            "17/18 [===========================>..] - ETA: 0s - loss: 163.2014 - mae: 163.2014 - mse: 145581.8750"
          ]
        },
        {
          "output_type": "stream",
          "name": "stderr",
          "text": [
            "WARNING:absl:Found untraced functions such as _jit_compiled_convolution_op while saving (showing 1 of 1). These functions will not be directly callable after loading.\n"
          ]
        },
        {
          "output_type": "stream",
          "name": "stdout",
          "text": [
            "\b\b\b\b\b\b\b\b\b\b\b\b\b\b\b\b\b\b\b\b\b\b\b\b\b\b\b\b\b\b\b\b\b\b\b\b\b\b\b\b\b\b\b\b\b\b\b\b\b\b\b\b\b\b\b\b\b\b\b\b\b\b\b\b\b\b\b\b\b\b\b\b\b\b\b\b\b\b\b\b\b\b\b\b\b\b\b\b\b\b\b\b\b\b\b\b\b\b\b\b\r18/18 [==============================] - 1s 38ms/step - loss: 163.5990 - mae: 163.5990 - mse: 144668.8438 - val_loss: 905.5262 - val_mae: 905.5262 - val_mse: 2758449.7500\n",
            "Epoch 9/100\n",
            "18/18 [==============================] - 0s 6ms/step - loss: 162.5455 - mae: 162.5455 - mse: 142410.2344 - val_loss: 929.7607 - val_mae: 929.7607 - val_mse: 2723885.0000\n",
            "Epoch 10/100\n",
            "18/18 [==============================] - ETA: 0s - loss: 158.5780 - mae: 158.5780 - mse: 137094.5781"
          ]
        },
        {
          "output_type": "stream",
          "name": "stderr",
          "text": [
            "WARNING:absl:Found untraced functions such as _jit_compiled_convolution_op while saving (showing 1 of 1). These functions will not be directly callable after loading.\n"
          ]
        },
        {
          "output_type": "stream",
          "name": "stdout",
          "text": [
            "\b\b\b\b\b\b\b\b\b\b\b\b\b\b\b\b\b\b\b\b\b\b\b\b\b\b\b\b\b\b\b\b\b\b\b\b\b\b\b\b\b\b\b\b\b\b\b\b\b\b\b\b\b\b\b\b\b\b\b\b\b\b\b\b\b\b\b\b\b\b\b\b\b\b\b\b\b\b\b\b\b\b\b\b\b\b\b\b\b\b\b\b\b\b\b\b\b\b\b\b\r18/18 [==============================] - 1s 50ms/step - loss: 158.5780 - mae: 158.5780 - mse: 137094.5781 - val_loss: 871.9778 - val_mae: 871.9778 - val_mse: 2543123.0000\n",
            "Epoch 11/100\n",
            "16/18 [=========================>....] - ETA: 0s - loss: 152.8665 - mae: 152.8665 - mse: 129138.1797"
          ]
        },
        {
          "output_type": "stream",
          "name": "stderr",
          "text": [
            "WARNING:absl:Found untraced functions such as _jit_compiled_convolution_op while saving (showing 1 of 1). These functions will not be directly callable after loading.\n"
          ]
        },
        {
          "output_type": "stream",
          "name": "stdout",
          "text": [
            "\b\b\b\b\b\b\b\b\b\b\b\b\b\b\b\b\b\b\b\b\b\b\b\b\b\b\b\b\b\b\b\b\b\b\b\b\b\b\b\b\b\b\b\b\b\b\b\b\b\b\b\b\b\b\b\b\b\b\b\b\b\b\b\b\b\b\b\b\b\b\b\b\b\b\b\b\b\b\b\b\b\b\b\b\b\b\b\b\b\b\b\b\b\b\b\b\b\b\b\b\r18/18 [==============================] - 1s 39ms/step - loss: 154.0058 - mae: 154.0058 - mse: 129600.4766 - val_loss: 852.7120 - val_mae: 852.7120 - val_mse: 2436986.2500\n",
            "Epoch 12/100\n",
            "18/18 [==============================] - 0s 5ms/step - loss: 151.2620 - mae: 151.2620 - mse: 124661.1328 - val_loss: 944.1970 - val_mae: 944.1970 - val_mse: 2601012.2500\n",
            "Epoch 13/100\n",
            "18/18 [==============================] - 0s 5ms/step - loss: 150.2688 - mae: 150.2688 - mse: 125091.0625 - val_loss: 881.1826 - val_mae: 881.1826 - val_mse: 2375321.2500\n",
            "Epoch 14/100\n",
            "18/18 [==============================] - ETA: 0s - loss: 145.4593 - mae: 145.4593 - mse: 116202.5312"
          ]
        },
        {
          "output_type": "stream",
          "name": "stderr",
          "text": [
            "WARNING:absl:Found untraced functions such as _jit_compiled_convolution_op while saving (showing 1 of 1). These functions will not be directly callable after loading.\n"
          ]
        },
        {
          "output_type": "stream",
          "name": "stdout",
          "text": [
            "\b\b\b\b\b\b\b\b\b\b\b\b\b\b\b\b\b\b\b\b\b\b\b\b\b\b\b\b\b\b\b\b\b\b\b\b\b\b\b\b\b\b\b\b\b\b\b\b\b\b\b\b\b\b\b\b\b\b\b\b\b\b\b\b\b\b\b\b\b\b\b\b\b\b\b\b\b\b\b\b\b\b\b\b\b\b\b\b\b\b\b\b\b\b\b\b\b\b\b\b\r18/18 [==============================] - 1s 37ms/step - loss: 145.4593 - mae: 145.4593 - mse: 116202.5312 - val_loss: 849.1818 - val_mae: 849.1818 - val_mse: 2246609.2500\n",
            "Epoch 15/100\n",
            "18/18 [==============================] - ETA: 0s - loss: 143.3640 - mae: 143.3640 - mse: 113840.8594"
          ]
        },
        {
          "output_type": "stream",
          "name": "stderr",
          "text": [
            "WARNING:absl:Found untraced functions such as _jit_compiled_convolution_op while saving (showing 1 of 1). These functions will not be directly callable after loading.\n"
          ]
        },
        {
          "output_type": "stream",
          "name": "stdout",
          "text": [
            "\b\b\b\b\b\b\b\b\b\b\b\b\b\b\b\b\b\b\b\b\b\b\b\b\b\b\b\b\b\b\b\b\b\b\b\b\b\b\b\b\b\b\b\b\b\b\b\b\b\b\b\b\b\b\b\b\b\b\b\b\b\b\b\b\b\b\b\b\b\b\b\b\b\b\b\b\b\b\b\b\b\b\b\b\b\b\b\b\b\b\b\b\b\b\b\b\b\b\b\b\r18/18 [==============================] - 1s 37ms/step - loss: 143.3640 - mae: 143.3640 - mse: 113840.8594 - val_loss: 844.4007 - val_mae: 844.4007 - val_mse: 2190368.2500\n",
            "Epoch 16/100\n",
            "16/18 [=========================>....] - ETA: 0s - loss: 138.2425 - mae: 138.2425 - mse: 105203.6172"
          ]
        },
        {
          "output_type": "stream",
          "name": "stderr",
          "text": [
            "WARNING:absl:Found untraced functions such as _jit_compiled_convolution_op while saving (showing 1 of 1). These functions will not be directly callable after loading.\n"
          ]
        },
        {
          "output_type": "stream",
          "name": "stdout",
          "text": [
            "\b\b\b\b\b\b\b\b\b\b\b\b\b\b\b\b\b\b\b\b\b\b\b\b\b\b\b\b\b\b\b\b\b\b\b\b\b\b\b\b\b\b\b\b\b\b\b\b\b\b\b\b\b\b\b\b\b\b\b\b\b\b\b\b\b\b\b\b\b\b\b\b\b\b\b\b\b\b\b\b\b\b\b\b\b\b\b\b\b\b\b\b\b\b\b\b\b\b\b\b\r18/18 [==============================] - 1s 38ms/step - loss: 139.8764 - mae: 139.8764 - mse: 109100.1953 - val_loss: 806.7261 - val_mae: 806.7261 - val_mse: 2055003.3750\n",
            "Epoch 17/100\n",
            "18/18 [==============================] - 0s 5ms/step - loss: 138.1677 - mae: 138.1677 - mse: 104690.9531 - val_loss: 812.6340 - val_mae: 812.6340 - val_mse: 2030382.7500\n",
            "Epoch 18/100\n",
            "17/18 [===========================>..] - ETA: 0s - loss: 139.1615 - mae: 139.1615 - mse: 107938.3828"
          ]
        },
        {
          "output_type": "stream",
          "name": "stderr",
          "text": [
            "WARNING:absl:Found untraced functions such as _jit_compiled_convolution_op while saving (showing 1 of 1). These functions will not be directly callable after loading.\n"
          ]
        },
        {
          "output_type": "stream",
          "name": "stdout",
          "text": [
            "\b\b\b\b\b\b\b\b\b\b\b\b\b\b\b\b\b\b\b\b\b\b\b\b\b\b\b\b\b\b\b\b\b\b\b\b\b\b\b\b\b\b\b\b\b\b\b\b\b\b\b\b\b\b\b\b\b\b\b\b\b\b\b\b\b\b\b\b\b\b\b\b\b\b\b\b\b\b\b\b\b\b\b\b\b\b\b\b\b\b\b\b\b\b\b\b\b\b\b\b\r18/18 [==============================] - 1s 38ms/step - loss: 137.9497 - mae: 137.9497 - mse: 106266.0078 - val_loss: 775.2100 - val_mae: 775.2100 - val_mse: 1904604.6250\n",
            "Epoch 19/100\n",
            "17/18 [===========================>..] - ETA: 0s - loss: 131.9373 - mae: 131.9373 - mse: 98141.7812"
          ]
        },
        {
          "output_type": "stream",
          "name": "stderr",
          "text": [
            "WARNING:absl:Found untraced functions such as _jit_compiled_convolution_op while saving (showing 1 of 1). These functions will not be directly callable after loading.\n"
          ]
        },
        {
          "output_type": "stream",
          "name": "stdout",
          "text": [
            "\b\b\b\b\b\b\b\b\b\b\b\b\b\b\b\b\b\b\b\b\b\b\b\b\b\b\b\b\b\b\b\b\b\b\b\b\b\b\b\b\b\b\b\b\b\b\b\b\b\b\b\b\b\b\b\b\b\b\b\b\b\b\b\b\b\b\b\b\b\b\b\b\b\b\b\b\b\b\b\b\b\b\b\b\b\b\b\b\b\b\b\b\b\b\b\b\b\b\b\r18/18 [==============================] - 1s 36ms/step - loss: 131.1450 - mae: 131.1450 - mse: 97691.8906 - val_loss: 755.4260 - val_mae: 755.4260 - val_mse: 1826982.1250\n",
            "Epoch 20/100\n",
            "17/18 [===========================>..] - ETA: 0s - loss: 132.2764 - mae: 132.2764 - mse: 100555.9844"
          ]
        },
        {
          "output_type": "stream",
          "name": "stderr",
          "text": [
            "WARNING:absl:Found untraced functions such as _jit_compiled_convolution_op while saving (showing 1 of 1). These functions will not be directly callable after loading.\n"
          ]
        },
        {
          "output_type": "stream",
          "name": "stdout",
          "text": [
            "\b\b\b\b\b\b\b\b\b\b\b\b\b\b\b\b\b\b\b\b\b\b\b\b\b\b\b\b\b\b\b\b\b\b\b\b\b\b\b\b\b\b\b\b\b\b\b\b\b\b\b\b\b\b\b\b\b\b\b\b\b\b\b\b\b\b\b\b\b\b\b\b\b\b\b\b\b\b\b\b\b\b\b\b\b\b\b\b\b\b\b\b\b\b\b\b\b\b\b\b\r18/18 [==============================] - 1s 38ms/step - loss: 132.4057 - mae: 132.4057 - mse: 99905.6719 - val_loss: 712.2014 - val_mae: 712.2014 - val_mse: 1729327.0000\n",
            "Epoch 21/100\n",
            "17/18 [===========================>..] - ETA: 0s - loss: 130.0737 - mae: 130.0737 - mse: 93090.5859 "
          ]
        },
        {
          "output_type": "stream",
          "name": "stderr",
          "text": [
            "WARNING:absl:Found untraced functions such as _jit_compiled_convolution_op while saving (showing 1 of 1). These functions will not be directly callable after loading.\n"
          ]
        },
        {
          "output_type": "stream",
          "name": "stdout",
          "text": [
            "\b\b\b\b\b\b\b\b\b\b\b\b\b\b\b\b\b\b\b\b\b\b\b\b\b\b\b\b\b\b\b\b\b\b\b\b\b\b\b\b\b\b\b\b\b\b\b\b\b\b\b\b\b\b\b\b\b\b\b\b\b\b\b\b\b\b\b\b\b\b\b\b\b\b\b\b\b\b\b\b\b\b\b\b\b\b\b\b\b\b\b\b\b\b\b\b\b\b\b\r18/18 [==============================] - 1s 38ms/step - loss: 131.0829 - mae: 131.0829 - mse: 97808.9531 - val_loss: 707.4122 - val_mae: 707.4122 - val_mse: 1665285.6250\n",
            "Epoch 22/100\n",
            "18/18 [==============================] - ETA: 0s - loss: 126.9511 - mae: 126.9511 - mse: 92542.6797 "
          ]
        },
        {
          "output_type": "stream",
          "name": "stderr",
          "text": [
            "WARNING:absl:Found untraced functions such as _jit_compiled_convolution_op while saving (showing 1 of 1). These functions will not be directly callable after loading.\n"
          ]
        },
        {
          "output_type": "stream",
          "name": "stdout",
          "text": [
            "\b\b\b\b\b\b\b\b\b\b\b\b\b\b\b\b\b\b\b\b\b\b\b\b\b\b\b\b\b\b\b\b\b\b\b\b\b\b\b\b\b\b\b\b\b\b\b\b\b\b\b\b\b\b\b\b\b\b\b\b\b\b\b\b\b\b\b\b\b\b\b\b\b\b\b\b\b\b\b\b\b\b\b\b\b\b\b\b\b\b\b\b\b\b\b\b\b\b\b\r18/18 [==============================] - 1s 37ms/step - loss: 126.9511 - mae: 126.9511 - mse: 92542.6797 - val_loss: 692.9736 - val_mae: 692.9736 - val_mse: 1612671.2500\n",
            "Epoch 23/100\n",
            "12/18 [===================>..........] - ETA: 0s - loss: 121.0175 - mae: 121.0175 - mse: 77092.0234"
          ]
        },
        {
          "output_type": "stream",
          "name": "stderr",
          "text": [
            "WARNING:absl:Found untraced functions such as _jit_compiled_convolution_op while saving (showing 1 of 1). These functions will not be directly callable after loading.\n"
          ]
        },
        {
          "output_type": "stream",
          "name": "stdout",
          "text": [
            "\b\b\b\b\b\b\b\b\b\b\b\b\b\b\b\b\b\b\b\b\b\b\b\b\b\b\b\b\b\b\b\b\b\b\b\b\b\b\b\b\b\b\b\b\b\b\b\b\b\b\b\b\b\b\b\b\b\b\b\b\b\b\b\b\b\b\b\b\b\b\b\b\b\b\b\b\b\b\b\b\b\b\b\b\b\b\b\b\b\b\b\b\b\b\b\b\b\b\b\r18/18 [==============================] - 1s 57ms/step - loss: 125.1489 - mae: 125.1489 - mse: 89912.6797 - val_loss: 682.4753 - val_mae: 682.4753 - val_mse: 1570821.5000\n",
            "Epoch 24/100\n",
            "17/18 [===========================>..] - ETA: 0s - loss: 125.9749 - mae: 125.9749 - mse: 90451.1172"
          ]
        },
        {
          "output_type": "stream",
          "name": "stderr",
          "text": [
            "WARNING:absl:Found untraced functions such as _jit_compiled_convolution_op while saving (showing 1 of 1). These functions will not be directly callable after loading.\n"
          ]
        },
        {
          "output_type": "stream",
          "name": "stdout",
          "text": [
            "\b\b\b\b\b\b\b\b\b\b\b\b\b\b\b\b\b\b\b\b\b\b\b\b\b\b\b\b\b\b\b\b\b\b\b\b\b\b\b\b\b\b\b\b\b\b\b\b\b\b\b\b\b\b\b\b\b\b\b\b\b\b\b\b\b\b\b\b\b\b\b\b\b\b\b\b\b\b\b\b\b\b\b\b\b\b\b\b\b\b\b\b\b\b\b\b\b\b\b\r18/18 [==============================] - 1s 38ms/step - loss: 124.3786 - mae: 124.3786 - mse: 88815.1328 - val_loss: 670.8320 - val_mae: 670.8320 - val_mse: 1547312.1250\n",
            "Epoch 25/100\n",
            "17/18 [===========================>..] - ETA: 0s - loss: 122.1697 - mae: 122.1697 - mse: 86033.5703"
          ]
        },
        {
          "output_type": "stream",
          "name": "stderr",
          "text": [
            "WARNING:absl:Found untraced functions such as _jit_compiled_convolution_op while saving (showing 1 of 1). These functions will not be directly callable after loading.\n"
          ]
        },
        {
          "output_type": "stream",
          "name": "stdout",
          "text": [
            "\b\b\b\b\b\b\b\b\b\b\b\b\b\b\b\b\b\b\b\b\b\b\b\b\b\b\b\b\b\b\b\b\b\b\b\b\b\b\b\b\b\b\b\b\b\b\b\b\b\b\b\b\b\b\b\b\b\b\b\b\b\b\b\b\b\b\b\b\b\b\b\b\b\b\b\b\b\b\b\b\b\b\b\b\b\b\b\b\b\b\b\b\b\b\b\b\b\b\b\r18/18 [==============================] - 1s 39ms/step - loss: 121.6896 - mae: 121.6896 - mse: 85134.2266 - val_loss: 662.6083 - val_mae: 662.6083 - val_mse: 1515859.3750\n",
            "Epoch 26/100\n",
            "14/18 [======================>.......] - ETA: 0s - loss: 122.1022 - mae: 122.1022 - mse: 78359.3203"
          ]
        },
        {
          "output_type": "stream",
          "name": "stderr",
          "text": [
            "WARNING:absl:Found untraced functions such as _jit_compiled_convolution_op while saving (showing 1 of 1). These functions will not be directly callable after loading.\n"
          ]
        },
        {
          "output_type": "stream",
          "name": "stdout",
          "text": [
            "\b\b\b\b\b\b\b\b\b\b\b\b\b\b\b\b\b\b\b\b\b\b\b\b\b\b\b\b\b\b\b\b\b\b\b\b\b\b\b\b\b\b\b\b\b\b\b\b\b\b\b\b\b\b\b\b\b\b\b\b\b\b\b\b\b\b\b\b\b\b\b\b\b\b\b\b\b\b\b\b\b\b\b\b\b\b\b\b\b\b\b\b\b\b\b\b\b\b\b\r18/18 [==============================] - 1s 37ms/step - loss: 121.5705 - mae: 121.5705 - mse: 84747.4922 - val_loss: 654.6090 - val_mae: 654.6090 - val_mse: 1471183.1250\n",
            "Epoch 27/100\n",
            "17/18 [===========================>..] - ETA: 0s - loss: 122.2792 - mae: 122.2792 - mse: 82573.8047 "
          ]
        },
        {
          "output_type": "stream",
          "name": "stderr",
          "text": [
            "WARNING:absl:Found untraced functions such as _jit_compiled_convolution_op while saving (showing 1 of 1). These functions will not be directly callable after loading.\n"
          ]
        },
        {
          "output_type": "stream",
          "name": "stdout",
          "text": [
            "\b\b\b\b\b\b\b\b\b\b\b\b\b\b\b\b\b\b\b\b\b\b\b\b\b\b\b\b\b\b\b\b\b\b\b\b\b\b\b\b\b\b\b\b\b\b\b\b\b\b\b\b\b\b\b\b\b\b\b\b\b\b\b\b\b\b\b\b\b\b\b\b\b\b\b\b\b\b\b\b\b\b\b\b\b\b\b\b\b\b\b\b\b\b\b\b\b\b\b\r18/18 [==============================] - 1s 39ms/step - loss: 122.6445 - mae: 122.6445 - mse: 84560.6562 - val_loss: 650.9058 - val_mae: 650.9058 - val_mse: 1442083.0000\n",
            "Epoch 28/100\n",
            "15/18 [========================>.....] - ETA: 0s - loss: 116.1494 - mae: 116.1494 - mse: 81109.0859"
          ]
        },
        {
          "output_type": "stream",
          "name": "stderr",
          "text": [
            "WARNING:absl:Found untraced functions such as _jit_compiled_convolution_op while saving (showing 1 of 1). These functions will not be directly callable after loading.\n"
          ]
        },
        {
          "output_type": "stream",
          "name": "stdout",
          "text": [
            "\b\b\b\b\b\b\b\b\b\b\b\b\b\b\b\b\b\b\b\b\b\b\b\b\b\b\b\b\b\b\b\b\b\b\b\b\b\b\b\b\b\b\b\b\b\b\b\b\b\b\b\b\b\b\b\b\b\b\b\b\b\b\b\b\b\b\b\b\b\b\b\b\b\b\b\b\b\b\b\b\b\b\b\b\b\b\b\b\b\b\b\b\b\b\b\b\b\b\b\r18/18 [==============================] - 1s 39ms/step - loss: 117.9562 - mae: 117.9562 - mse: 81453.9219 - val_loss: 645.4808 - val_mae: 645.4808 - val_mse: 1420867.6250\n",
            "Epoch 29/100\n",
            "13/18 [====================>.........] - ETA: 0s - loss: 118.4282 - mae: 118.4282 - mse: 84463.7109"
          ]
        },
        {
          "output_type": "stream",
          "name": "stderr",
          "text": [
            "WARNING:absl:Found untraced functions such as _jit_compiled_convolution_op while saving (showing 1 of 1). These functions will not be directly callable after loading.\n"
          ]
        },
        {
          "output_type": "stream",
          "name": "stdout",
          "text": [
            "\b\b\b\b\b\b\b\b\b\b\b\b\b\b\b\b\b\b\b\b\b\b\b\b\b\b\b\b\b\b\b\b\b\b\b\b\b\b\b\b\b\b\b\b\b\b\b\b\b\b\b\b\b\b\b\b\b\b\b\b\b\b\b\b\b\b\b\b\b\b\b\b\b\b\b\b\b\b\b\b\b\b\b\b\b\b\b\b\b\b\b\b\b\b\b\b\b\b\b\r18/18 [==============================] - 1s 40ms/step - loss: 117.1769 - mae: 117.1769 - mse: 80815.1797 - val_loss: 639.9748 - val_mae: 639.9748 - val_mse: 1400477.7500\n",
            "Epoch 30/100\n",
            "17/18 [===========================>..] - ETA: 0s - loss: 121.6302 - mae: 121.6302 - mse: 83278.4531"
          ]
        },
        {
          "output_type": "stream",
          "name": "stderr",
          "text": [
            "WARNING:absl:Found untraced functions such as _jit_compiled_convolution_op while saving (showing 1 of 1). These functions will not be directly callable after loading.\n"
          ]
        },
        {
          "output_type": "stream",
          "name": "stdout",
          "text": [
            "\b\b\b\b\b\b\b\b\b\b\b\b\b\b\b\b\b\b\b\b\b\b\b\b\b\b\b\b\b\b\b\b\b\b\b\b\b\b\b\b\b\b\b\b\b\b\b\b\b\b\b\b\b\b\b\b\b\b\b\b\b\b\b\b\b\b\b\b\b\b\b\b\b\b\b\b\b\b\b\b\b\b\b\b\b\b\b\b\b\b\b\b\b\b\b\b\b\b\b\r18/18 [==============================] - 1s 37ms/step - loss: 121.0468 - mae: 121.0468 - mse: 82429.1094 - val_loss: 630.7950 - val_mae: 630.7950 - val_mse: 1388349.3750\n",
            "Epoch 31/100\n",
            "18/18 [==============================] - 0s 5ms/step - loss: 114.9061 - mae: 114.9061 - mse: 78196.6953 - val_loss: 652.6464 - val_mae: 652.6464 - val_mse: 1413817.7500\n",
            "Epoch 32/100\n",
            "17/18 [===========================>..] - ETA: 0s - loss: 117.0335 - mae: 117.0335 - mse: 82178.4531"
          ]
        },
        {
          "output_type": "stream",
          "name": "stderr",
          "text": [
            "WARNING:absl:Found untraced functions such as _jit_compiled_convolution_op while saving (showing 1 of 1). These functions will not be directly callable after loading.\n"
          ]
        },
        {
          "output_type": "stream",
          "name": "stdout",
          "text": [
            "\b\b\b\b\b\b\b\b\b\b\b\b\b\b\b\b\b\b\b\b\b\b\b\b\b\b\b\b\b\b\b\b\b\b\b\b\b\b\b\b\b\b\b\b\b\b\b\b\b\b\b\b\b\b\b\b\b\b\b\b\b\b\b\b\b\b\b\b\b\b\b\b\b\b\b\b\b\b\b\b\b\b\b\b\b\b\b\b\b\b\b\b\b\b\b\b\b\b\b\r18/18 [==============================] - 1s 37ms/step - loss: 116.4313 - mae: 116.4313 - mse: 81174.0234 - val_loss: 623.4980 - val_mae: 623.4980 - val_mse: 1350015.8750\n",
            "Epoch 33/100\n",
            "18/18 [==============================] - 0s 5ms/step - loss: 115.7972 - mae: 115.7972 - mse: 78665.5938 - val_loss: 664.3209 - val_mae: 664.3209 - val_mse: 1430615.8750\n",
            "Epoch 34/100\n",
            "17/18 [===========================>..] - ETA: 0s - loss: 116.6074 - mae: 116.6074 - mse: 80828.5234 "
          ]
        },
        {
          "output_type": "stream",
          "name": "stderr",
          "text": [
            "WARNING:absl:Found untraced functions such as _jit_compiled_convolution_op while saving (showing 1 of 1). These functions will not be directly callable after loading.\n"
          ]
        },
        {
          "output_type": "stream",
          "name": "stdout",
          "text": [
            "\b\b\b\b\b\b\b\b\b\b\b\b\b\b\b\b\b\b\b\b\b\b\b\b\b\b\b\b\b\b\b\b\b\b\b\b\b\b\b\b\b\b\b\b\b\b\b\b\b\b\b\b\b\b\b\b\b\b\b\b\b\b\b\b\b\b\b\b\b\b\b\b\b\b\b\b\b\b\b\b\b\b\b\b\b\b\b\b\b\b\b\b\b\b\b\b\b\b\b\r18/18 [==============================] - 1s 38ms/step - loss: 117.2043 - mae: 117.2043 - mse: 80827.8750 - val_loss: 613.7654 - val_mae: 613.7654 - val_mse: 1334183.3750\n",
            "Epoch 35/100\n",
            "18/18 [==============================] - 0s 5ms/step - loss: 113.4074 - mae: 113.4074 - mse: 78210.3125 - val_loss: 619.6227 - val_mae: 619.6227 - val_mse: 1348779.8750\n",
            "Epoch 36/100\n",
            "17/18 [===========================>..] - ETA: 0s - loss: 116.7781 - mae: 116.7781 - mse: 78945.3828 "
          ]
        },
        {
          "output_type": "stream",
          "name": "stderr",
          "text": [
            "WARNING:absl:Found untraced functions such as _jit_compiled_convolution_op while saving (showing 1 of 1). These functions will not be directly callable after loading.\n"
          ]
        },
        {
          "output_type": "stream",
          "name": "stdout",
          "text": [
            "\b\b\b\b\b\b\b\b\b\b\b\b\b\b\b\b\b\b\b\b\b\b\b\b\b\b\b\b\b\b\b\b\b\b\b\b\b\b\b\b\b\b\b\b\b\b\b\b\b\b\b\b\b\b\b\b\b\b\b\b\b\b\b\b\b\b\b\b\b\b\b\b\b\b\b\b\b\b\b\b\b\b\b\b\b\b\b\b\b\b\b\b\b\b\b\b\b\b\b\r18/18 [==============================] - 1s 37ms/step - loss: 116.8330 - mae: 116.8330 - mse: 78300.6875 - val_loss: 605.7616 - val_mae: 605.7616 - val_mse: 1305431.5000\n",
            "Epoch 37/100\n",
            "16/18 [=========================>....] - ETA: 0s - loss: 114.2719 - mae: 114.2719 - mse: 77550.5078 "
          ]
        },
        {
          "output_type": "stream",
          "name": "stderr",
          "text": [
            "WARNING:absl:Found untraced functions such as _jit_compiled_convolution_op while saving (showing 1 of 1). These functions will not be directly callable after loading.\n"
          ]
        },
        {
          "output_type": "stream",
          "name": "stdout",
          "text": [
            "\b\b\b\b\b\b\b\b\b\b\b\b\b\b\b\b\b\b\b\b\b\b\b\b\b\b\b\b\b\b\b\b\b\b\b\b\b\b\b\b\b\b\b\b\b\b\b\b\b\b\b\b\b\b\b\b\b\b\b\b\b\b\b\b\b\b\b\b\b\b\b\b\b\b\b\b\b\b\b\b\b\b\b\b\b\b\b\b\b\b\b\b\b\b\b\b\b\b\b\r18/18 [==============================] - 1s 53ms/step - loss: 114.7925 - mae: 114.7925 - mse: 79040.6562 - val_loss: 603.6094 - val_mae: 603.6094 - val_mse: 1294560.0000\n",
            "Epoch 38/100\n",
            "15/18 [========================>.....] - ETA: 0s - loss: 114.1434 - mae: 114.1434 - mse: 79251.1172"
          ]
        },
        {
          "output_type": "stream",
          "name": "stderr",
          "text": [
            "WARNING:absl:Found untraced functions such as _jit_compiled_convolution_op while saving (showing 1 of 1). These functions will not be directly callable after loading.\n"
          ]
        },
        {
          "output_type": "stream",
          "name": "stdout",
          "text": [
            "\b\b\b\b\b\b\b\b\b\b\b\b\b\b\b\b\b\b\b\b\b\b\b\b\b\b\b\b\b\b\b\b\b\b\b\b\b\b\b\b\b\b\b\b\b\b\b\b\b\b\b\b\b\b\b\b\b\b\b\b\b\b\b\b\b\b\b\b\b\b\b\b\b\b\b\b\b\b\b\b\b\b\b\b\b\b\b\b\b\b\b\b\b\b\b\b\b\b\b\r18/18 [==============================] - 1s 38ms/step - loss: 113.0861 - mae: 113.0861 - mse: 77563.4375 - val_loss: 602.5891 - val_mae: 602.5891 - val_mse: 1295688.1250\n",
            "Epoch 39/100\n",
            "17/18 [===========================>..] - ETA: 0s - loss: 111.3780 - mae: 111.3780 - mse: 75417.9375 "
          ]
        },
        {
          "output_type": "stream",
          "name": "stderr",
          "text": [
            "WARNING:absl:Found untraced functions such as _jit_compiled_convolution_op while saving (showing 1 of 1). These functions will not be directly callable after loading.\n"
          ]
        },
        {
          "output_type": "stream",
          "name": "stdout",
          "text": [
            "\b\b\b\b\b\b\b\b\b\b\b\b\b\b\b\b\b\b\b\b\b\b\b\b\b\b\b\b\b\b\b\b\b\b\b\b\b\b\b\b\b\b\b\b\b\b\b\b\b\b\b\b\b\b\b\b\b\b\b\b\b\b\b\b\b\b\b\b\b\b\b\b\b\b\b\b\b\b\b\b\b\b\b\b\b\b\b\b\b\b\b\b\b\b\b\b\b\b\b\r18/18 [==============================] - 1s 37ms/step - loss: 111.9831 - mae: 111.9831 - mse: 75947.3672 - val_loss: 602.2945 - val_mae: 602.2945 - val_mse: 1280478.1250\n",
            "Epoch 40/100\n",
            "18/18 [==============================] - ETA: 0s - loss: 111.2691 - mae: 111.2691 - mse: 74966.6172"
          ]
        },
        {
          "output_type": "stream",
          "name": "stderr",
          "text": [
            "WARNING:absl:Found untraced functions such as _jit_compiled_convolution_op while saving (showing 1 of 1). These functions will not be directly callable after loading.\n"
          ]
        },
        {
          "output_type": "stream",
          "name": "stdout",
          "text": [
            "\b\b\b\b\b\b\b\b\b\b\b\b\b\b\b\b\b\b\b\b\b\b\b\b\b\b\b\b\b\b\b\b\b\b\b\b\b\b\b\b\b\b\b\b\b\b\b\b\b\b\b\b\b\b\b\b\b\b\b\b\b\b\b\b\b\b\b\b\b\b\b\b\b\b\b\b\b\b\b\b\b\b\b\b\b\b\b\b\b\b\b\b\b\b\b\b\b\b\b\r18/18 [==============================] - 1s 37ms/step - loss: 111.2691 - mae: 111.2691 - mse: 74966.6172 - val_loss: 600.5515 - val_mae: 600.5515 - val_mse: 1286574.0000\n",
            "Epoch 41/100\n",
            "18/18 [==============================] - 0s 6ms/step - loss: 112.0727 - mae: 112.0727 - mse: 76083.7734 - val_loss: 623.0615 - val_mae: 623.0615 - val_mse: 1344014.5000\n",
            "Epoch 42/100\n",
            "18/18 [==============================] - 0s 5ms/step - loss: 116.7095 - mae: 116.7095 - mse: 79633.6172 - val_loss: 645.0155 - val_mae: 645.0155 - val_mse: 1360183.7500\n",
            "Epoch 43/100\n",
            "18/18 [==============================] - 0s 5ms/step - loss: 118.9676 - mae: 118.9676 - mse: 76665.8672 - val_loss: 659.5667 - val_mae: 659.5667 - val_mse: 1435150.0000\n",
            "Epoch 44/100\n",
            "18/18 [==============================] - 0s 5ms/step - loss: 125.4497 - mae: 125.4497 - mse: 84966.2109 - val_loss: 678.8228 - val_mae: 678.8228 - val_mse: 1486618.5000\n",
            "Epoch 45/100\n",
            "18/18 [==============================] - 0s 6ms/step - loss: 115.4361 - mae: 115.4361 - mse: 78383.8984 - val_loss: 611.8370 - val_mae: 611.8370 - val_mse: 1281823.8750\n",
            "Epoch 46/100\n",
            "17/18 [===========================>..] - ETA: 0s - loss: 113.5564 - mae: 113.5564 - mse: 75207.5781"
          ]
        },
        {
          "output_type": "stream",
          "name": "stderr",
          "text": [
            "WARNING:absl:Found untraced functions such as _jit_compiled_convolution_op while saving (showing 1 of 1). These functions will not be directly callable after loading.\n"
          ]
        },
        {
          "output_type": "stream",
          "name": "stdout",
          "text": [
            "\b\b\b\b\b\b\b\b\b\b\b\b\b\b\b\b\b\b\b\b\b\b\b\b\b\b\b\b\b\b\b\b\b\b\b\b\b\b\b\b\b\b\b\b\b\b\b\b\b\b\b\b\b\b\b\b\b\b\b\b\b\b\b\b\b\b\b\b\b\b\b\b\b\b\b\b\b\b\b\b\b\b\b\b\b\b\b\b\b\b\b\b\b\b\b\b\b\b\b\r18/18 [==============================] - 1s 38ms/step - loss: 114.1717 - mae: 114.1717 - mse: 75834.5469 - val_loss: 589.6738 - val_mae: 589.6738 - val_mse: 1249182.1250\n",
            "Epoch 47/100\n",
            "18/18 [==============================] - 0s 5ms/step - loss: 113.7248 - mae: 113.7248 - mse: 77126.5000 - val_loss: 720.2481 - val_mae: 720.2481 - val_mse: 1539007.0000\n",
            "Epoch 48/100\n",
            "18/18 [==============================] - 0s 5ms/step - loss: 112.0136 - mae: 112.0136 - mse: 74307.4766 - val_loss: 597.4332 - val_mae: 597.4332 - val_mse: 1251159.2500\n",
            "Epoch 49/100\n",
            "18/18 [==============================] - 0s 5ms/step - loss: 110.5680 - mae: 110.5680 - mse: 74564.1094 - val_loss: 665.2030 - val_mae: 665.2030 - val_mse: 1391443.2500\n",
            "Epoch 50/100\n",
            "18/18 [==============================] - 0s 5ms/step - loss: 119.7653 - mae: 119.7653 - mse: 78599.2812 - val_loss: 635.1696 - val_mae: 635.1696 - val_mse: 1326078.8750\n",
            "Epoch 51/100\n",
            "17/18 [===========================>..] - ETA: 0s - loss: 111.1653 - mae: 111.1653 - mse: 73570.6719"
          ]
        },
        {
          "output_type": "stream",
          "name": "stderr",
          "text": [
            "WARNING:absl:Found untraced functions such as _jit_compiled_convolution_op while saving (showing 1 of 1). These functions will not be directly callable after loading.\n"
          ]
        },
        {
          "output_type": "stream",
          "name": "stdout",
          "text": [
            "\b\b\b\b\b\b\b\b\b\b\b\b\b\b\b\b\b\b\b\b\b\b\b\b\b\b\b\b\b\b\b\b\b\b\b\b\b\b\b\b\b\b\b\b\b\b\b\b\b\b\b\b\b\b\b\b\b\b\b\b\b\b\b\b\b\b\b\b\b\b\b\b\b\b\b\b\b\b\b\b\b\b\b\b\b\b\b\b\b\b\b\b\b\b\b\b\b\b\b\r18/18 [==============================] - 1s 37ms/step - loss: 110.7739 - mae: 110.7739 - mse: 72887.1484 - val_loss: 586.0245 - val_mae: 586.0245 - val_mse: 1230914.5000\n",
            "Epoch 52/100\n",
            "18/18 [==============================] - 0s 6ms/step - loss: 111.2179 - mae: 111.2179 - mse: 75390.1172 - val_loss: 595.2483 - val_mae: 595.2483 - val_mse: 1259352.8750\n",
            "Epoch 53/100\n",
            "18/18 [==============================] - 0s 6ms/step - loss: 113.6466 - mae: 113.6466 - mse: 75888.1406 - val_loss: 670.5778 - val_mae: 670.5778 - val_mse: 1404337.5000\n",
            "Epoch 54/100\n",
            "18/18 [==============================] - 0s 6ms/step - loss: 126.7883 - mae: 126.7883 - mse: 84224.8828 - val_loss: 648.2971 - val_mae: 648.2971 - val_mse: 1349457.0000\n",
            "Epoch 55/100\n",
            "18/18 [==============================] - 0s 5ms/step - loss: 110.6968 - mae: 110.6968 - mse: 73118.6250 - val_loss: 593.8555 - val_mae: 593.8555 - val_mse: 1253418.3750\n",
            "Epoch 56/100\n",
            "18/18 [==============================] - 0s 5ms/step - loss: 109.8592 - mae: 109.8592 - mse: 73091.6406 - val_loss: 766.5007 - val_mae: 766.5007 - val_mse: 1748317.3750\n",
            "Epoch 57/100\n",
            "18/18 [==============================] - 0s 5ms/step - loss: 124.8183 - mae: 124.8183 - mse: 83669.0469 - val_loss: 712.2674 - val_mae: 712.2674 - val_mse: 1569274.8750\n",
            "Epoch 58/100\n",
            "18/18 [==============================] - 0s 5ms/step - loss: 120.3515 - mae: 120.3515 - mse: 78561.4844 - val_loss: 698.5149 - val_mae: 698.5149 - val_mse: 1531341.8750\n",
            "Epoch 59/100\n",
            "18/18 [==============================] - 0s 5ms/step - loss: 110.8185 - mae: 110.8185 - mse: 72761.7891 - val_loss: 592.1150 - val_mae: 592.1150 - val_mse: 1249138.1250\n",
            "Epoch 60/100\n",
            "18/18 [==============================] - 0s 5ms/step - loss: 110.2038 - mae: 110.2038 - mse: 73907.9531 - val_loss: 616.9358 - val_mae: 616.9358 - val_mse: 1274930.7500\n",
            "Epoch 61/100\n",
            "18/18 [==============================] - 0s 6ms/step - loss: 111.0310 - mae: 111.0310 - mse: 74839.8828 - val_loss: 588.4846 - val_mae: 588.4846 - val_mse: 1222549.3750\n",
            "Epoch 62/100\n",
            "17/18 [===========================>..] - ETA: 0s - loss: 108.3162 - mae: 108.3162 - mse: 71965.5781"
          ]
        },
        {
          "output_type": "stream",
          "name": "stderr",
          "text": [
            "WARNING:absl:Found untraced functions such as _jit_compiled_convolution_op while saving (showing 1 of 1). These functions will not be directly callable after loading.\n"
          ]
        },
        {
          "output_type": "stream",
          "name": "stdout",
          "text": [
            "\b\b\b\b\b\b\b\b\b\b\b\b\b\b\b\b\b\b\b\b\b\b\b\b\b\b\b\b\b\b\b\b\b\b\b\b\b\b\b\b\b\b\b\b\b\b\b\b\b\b\b\b\b\b\b\b\b\b\b\b\b\b\b\b\b\b\b\b\b\b\b\b\b\b\b\b\b\b\b\b\b\b\b\b\b\b\b\b\b\b\b\b\b\b\b\b\b\b\b\r18/18 [==============================] - 1s 36ms/step - loss: 108.1684 - mae: 108.1684 - mse: 71816.4766 - val_loss: 577.6281 - val_mae: 577.6281 - val_mse: 1210658.5000\n",
            "Epoch 63/100\n",
            "18/18 [==============================] - 0s 5ms/step - loss: 108.7932 - mae: 108.7932 - mse: 72142.8438 - val_loss: 610.1495 - val_mae: 610.1495 - val_mse: 1257679.2500\n",
            "Epoch 64/100\n",
            "18/18 [==============================] - 0s 5ms/step - loss: 110.4675 - mae: 110.4675 - mse: 72716.8594 - val_loss: 652.9427 - val_mae: 652.9427 - val_mse: 1345044.0000\n",
            "Epoch 65/100\n",
            "18/18 [==============================] - 0s 6ms/step - loss: 110.7312 - mae: 110.7312 - mse: 73138.0078 - val_loss: 583.0664 - val_mae: 583.0664 - val_mse: 1220851.7500\n",
            "Epoch 66/100\n",
            "18/18 [==============================] - 0s 6ms/step - loss: 108.3487 - mae: 108.3487 - mse: 71602.4609 - val_loss: 587.8362 - val_mae: 587.8362 - val_mse: 1217078.8750\n",
            "Epoch 67/100\n",
            "18/18 [==============================] - 0s 5ms/step - loss: 108.0646 - mae: 108.0646 - mse: 71081.4922 - val_loss: 648.5150 - val_mae: 648.5150 - val_mse: 1374668.0000\n",
            "Epoch 68/100\n",
            "18/18 [==============================] - 0s 5ms/step - loss: 113.6957 - mae: 113.6957 - mse: 71269.9141 - val_loss: 675.1595 - val_mae: 675.1595 - val_mse: 1451091.6250\n",
            "Epoch 69/100\n",
            "18/18 [==============================] - 0s 5ms/step - loss: 124.3082 - mae: 124.3082 - mse: 81327.2188 - val_loss: 632.9845 - val_mae: 632.9845 - val_mse: 1335854.7500\n",
            "Epoch 70/100\n",
            "18/18 [==============================] - 0s 6ms/step - loss: 124.3231 - mae: 124.3231 - mse: 83497.1484 - val_loss: 588.5080 - val_mae: 588.5080 - val_mse: 1236638.0000\n",
            "Epoch 71/100\n",
            "18/18 [==============================] - 0s 5ms/step - loss: 111.2923 - mae: 111.2923 - mse: 73238.6250 - val_loss: 618.2580 - val_mae: 618.2580 - val_mse: 1269222.5000\n",
            "Epoch 72/100\n",
            "18/18 [==============================] - 0s 5ms/step - loss: 110.1688 - mae: 110.1688 - mse: 72318.2969 - val_loss: 581.8317 - val_mae: 581.8317 - val_mse: 1203245.5000\n",
            "Epoch 73/100\n",
            "18/18 [==============================] - 0s 5ms/step - loss: 108.6783 - mae: 108.6783 - mse: 71350.8984 - val_loss: 582.9406 - val_mae: 582.9406 - val_mse: 1221468.3750\n",
            "Epoch 74/100\n",
            "18/18 [==============================] - 0s 5ms/step - loss: 108.4709 - mae: 108.4709 - mse: 71973.1016 - val_loss: 578.2971 - val_mae: 578.2971 - val_mse: 1207266.3750\n",
            "Epoch 75/100\n",
            "18/18 [==============================] - 0s 5ms/step - loss: 110.1821 - mae: 110.1821 - mse: 71984.3125 - val_loss: 663.3145 - val_mae: 663.3145 - val_mse: 1366845.7500\n",
            "Epoch 76/100\n",
            "18/18 [==============================] - 0s 5ms/step - loss: 112.4488 - mae: 112.4488 - mse: 73906.6953 - val_loss: 582.5887 - val_mae: 582.5887 - val_mse: 1216322.2500\n",
            "Epoch 77/100\n",
            "18/18 [==============================] - 0s 5ms/step - loss: 110.0107 - mae: 110.0107 - mse: 71571.9219 - val_loss: 579.8843 - val_mae: 579.8843 - val_mse: 1214061.3750\n",
            "Epoch 78/100\n",
            "18/18 [==============================] - 0s 5ms/step - loss: 107.3413 - mae: 107.3413 - mse: 70098.1641 - val_loss: 582.0062 - val_mae: 582.0062 - val_mse: 1212881.0000\n",
            "Epoch 79/100\n",
            "18/18 [==============================] - 0s 5ms/step - loss: 109.0300 - mae: 109.0300 - mse: 73715.5156 - val_loss: 591.4006 - val_mae: 591.4006 - val_mse: 1231911.3750\n",
            "Epoch 80/100\n",
            "18/18 [==============================] - 0s 5ms/step - loss: 106.9308 - mae: 106.9308 - mse: 71066.4062 - val_loss: 585.3931 - val_mae: 585.3931 - val_mse: 1204676.7500\n",
            "Epoch 81/100\n",
            "17/18 [===========================>..] - ETA: 0s - loss: 106.1916 - mae: 106.1916 - mse: 70506.2578"
          ]
        },
        {
          "output_type": "stream",
          "name": "stderr",
          "text": [
            "WARNING:absl:Found untraced functions such as _jit_compiled_convolution_op while saving (showing 1 of 1). These functions will not be directly callable after loading.\n"
          ]
        },
        {
          "output_type": "stream",
          "name": "stdout",
          "text": [
            "\b\b\b\b\b\b\b\b\b\b\b\b\b\b\b\b\b\b\b\b\b\b\b\b\b\b\b\b\b\b\b\b\b\b\b\b\b\b\b\b\b\b\b\b\b\b\b\b\b\b\b\b\b\b\b\b\b\b\b\b\b\b\b\b\b\b\b\b\b\b\b\b\b\b\b\b\b\b\b\b\b\b\b\b\b\b\b\b\b\b\b\b\b\b\b\b\b\b\b\r18/18 [==============================] - 1s 38ms/step - loss: 106.6291 - mae: 106.6291 - mse: 70787.0469 - val_loss: 575.4403 - val_mae: 575.4403 - val_mse: 1188854.5000\n",
            "Epoch 82/100\n",
            "16/18 [=========================>....] - ETA: 0s - loss: 112.8470 - mae: 112.8470 - mse: 73494.0547 "
          ]
        },
        {
          "output_type": "stream",
          "name": "stderr",
          "text": [
            "WARNING:absl:Found untraced functions such as _jit_compiled_convolution_op while saving (showing 1 of 1). These functions will not be directly callable after loading.\n"
          ]
        },
        {
          "output_type": "stream",
          "name": "stdout",
          "text": [
            "\b\b\b\b\b\b\b\b\b\b\b\b\b\b\b\b\b\b\b\b\b\b\b\b\b\b\b\b\b\b\b\b\b\b\b\b\b\b\b\b\b\b\b\b\b\b\b\b\b\b\b\b\b\b\b\b\b\b\b\b\b\b\b\b\b\b\b\b\b\b\b\b\b\b\b\b\b\b\b\b\b\b\b\b\b\b\b\b\b\b\b\b\b\b\b\b\b\b\b\r18/18 [==============================] - 1s 36ms/step - loss: 114.2934 - mae: 114.2934 - mse: 76018.5625 - val_loss: 571.6199 - val_mae: 571.6199 - val_mse: 1187042.2500\n",
            "Epoch 83/100\n",
            "18/18 [==============================] - 0s 5ms/step - loss: 111.1759 - mae: 111.1759 - mse: 73076.8438 - val_loss: 666.0590 - val_mae: 666.0590 - val_mse: 1412631.5000\n",
            "Epoch 84/100\n",
            "18/18 [==============================] - 0s 5ms/step - loss: 112.2543 - mae: 112.2543 - mse: 73349.9531 - val_loss: 580.0314 - val_mae: 580.0314 - val_mse: 1207805.2500\n",
            "Epoch 85/100\n",
            "18/18 [==============================] - 0s 5ms/step - loss: 107.7741 - mae: 107.7741 - mse: 71110.7266 - val_loss: 599.6221 - val_mae: 599.6221 - val_mse: 1227340.8750\n",
            "Epoch 86/100\n",
            "18/18 [==============================] - 0s 5ms/step - loss: 108.7533 - mae: 108.7533 - mse: 70520.8906 - val_loss: 599.0880 - val_mae: 599.0880 - val_mse: 1224121.1250\n",
            "Epoch 87/100\n",
            "18/18 [==============================] - 0s 5ms/step - loss: 106.9682 - mae: 106.9682 - mse: 69222.3047 - val_loss: 596.5336 - val_mae: 596.5336 - val_mse: 1238882.2500\n",
            "Epoch 88/100\n",
            "18/18 [==============================] - 0s 6ms/step - loss: 107.9607 - mae: 107.9607 - mse: 72432.0156 - val_loss: 598.1052 - val_mae: 598.1052 - val_mse: 1246356.1250\n",
            "Epoch 89/100\n",
            "17/18 [===========================>..] - ETA: 0s - loss: 105.7765 - mae: 105.7765 - mse: 66050.4844"
          ]
        },
        {
          "output_type": "stream",
          "name": "stderr",
          "text": [
            "WARNING:absl:Found untraced functions such as _jit_compiled_convolution_op while saving (showing 1 of 1). These functions will not be directly callable after loading.\n"
          ]
        },
        {
          "output_type": "stream",
          "name": "stdout",
          "text": [
            "\b\b\b\b\b\b\b\b\b\b\b\b\b\b\b\b\b\b\b\b\b\b\b\b\b\b\b\b\b\b\b\b\b\b\b\b\b\b\b\b\b\b\b\b\b\b\b\b\b\b\b\b\b\b\b\b\b\b\b\b\b\b\b\b\b\b\b\b\b\b\b\b\b\b\b\b\b\b\b\b\b\b\b\b\b\b\b\b\b\b\b\b\b\b\b\b\b\b\b\r18/18 [==============================] - 1s 38ms/step - loss: 107.3045 - mae: 107.3045 - mse: 70395.3672 - val_loss: 570.8284 - val_mae: 570.8284 - val_mse: 1176671.2500\n",
            "Epoch 90/100\n",
            "18/18 [==============================] - 0s 5ms/step - loss: 108.0094 - mae: 108.0094 - mse: 68407.0469 - val_loss: 642.3939 - val_mae: 642.3939 - val_mse: 1315218.7500\n",
            "Epoch 91/100\n",
            "18/18 [==============================] - 0s 5ms/step - loss: 113.7574 - mae: 113.7574 - mse: 74075.8281 - val_loss: 625.3716 - val_mae: 625.3716 - val_mse: 1308408.6250\n",
            "Epoch 92/100\n",
            "18/18 [==============================] - 0s 5ms/step - loss: 108.0017 - mae: 108.0017 - mse: 71807.3828 - val_loss: 627.3054 - val_mae: 627.3054 - val_mse: 1310373.0000\n",
            "Epoch 93/100\n",
            "18/18 [==============================] - 0s 5ms/step - loss: 118.0999 - mae: 118.0999 - mse: 76482.9141 - val_loss: 637.1274 - val_mae: 637.1274 - val_mse: 1337077.1250\n",
            "Epoch 94/100\n",
            "18/18 [==============================] - 0s 5ms/step - loss: 111.3195 - mae: 111.3195 - mse: 73715.8047 - val_loss: 579.6985 - val_mae: 579.6985 - val_mse: 1190053.2500\n",
            "Epoch 95/100\n",
            "18/18 [==============================] - 0s 5ms/step - loss: 106.8561 - mae: 106.8561 - mse: 69873.7422 - val_loss: 572.8486 - val_mae: 572.8486 - val_mse: 1182019.0000\n",
            "Epoch 96/100\n",
            "18/18 [==============================] - 0s 5ms/step - loss: 115.0598 - mae: 115.0598 - mse: 74459.8594 - val_loss: 602.3210 - val_mae: 602.3210 - val_mse: 1255578.0000\n",
            "Epoch 97/100\n",
            "18/18 [==============================] - 0s 5ms/step - loss: 109.4901 - mae: 109.4901 - mse: 72031.7734 - val_loss: 616.3585 - val_mae: 616.3585 - val_mse: 1285077.2500\n",
            "Epoch 98/100\n",
            "18/18 [==============================] - 0s 5ms/step - loss: 111.2816 - mae: 111.2816 - mse: 72326.6484 - val_loss: 586.7990 - val_mae: 586.7990 - val_mse: 1201505.3750\n",
            "Epoch 99/100\n",
            "18/18 [==============================] - 0s 6ms/step - loss: 111.2904 - mae: 111.2904 - mse: 72101.9141 - val_loss: 581.4893 - val_mae: 581.4893 - val_mse: 1189068.8750\n",
            "Epoch 100/100\n",
            "18/18 [==============================] - 0s 5ms/step - loss: 107.0190 - mae: 107.0190 - mse: 69488.1094 - val_loss: 610.1541 - val_mae: 610.1541 - val_mse: 1242910.6250\n"
          ]
        },
        {
          "output_type": "execute_result",
          "data": {
            "text/plain": [
              "<keras.callbacks.History at 0x7fc61f646700>"
            ]
          },
          "metadata": {},
          "execution_count": 68
        }
      ]
    },
    {
      "cell_type": "code",
      "source": [
        "model_4.summary()"
      ],
      "metadata": {
        "colab": {
          "base_uri": "https://localhost:8080/"
        },
        "id": "hPtqTo9jrXG2",
        "outputId": "571dc1c1-3cd2-4cea-9c65-daf32c04ab5e"
      },
      "execution_count": null,
      "outputs": [
        {
          "output_type": "stream",
          "name": "stdout",
          "text": [
            "Model: \"model_4_conv1D\"\n",
            "_________________________________________________________________\n",
            " Layer (type)                Output Shape              Param #   \n",
            "=================================================================\n",
            " lambda_1 (Lambda)           (None, 1, 7)              0         \n",
            "                                                                 \n",
            " conv1d (Conv1D)             (None, 1, 128)            4608      \n",
            "                                                                 \n",
            " dense_6 (Dense)             (None, 1, 1)              129       \n",
            "                                                                 \n",
            "=================================================================\n",
            "Total params: 4,737\n",
            "Trainable params: 4,737\n",
            "Non-trainable params: 0\n",
            "_________________________________________________________________\n"
          ]
        }
      ]
    },
    {
      "cell_type": "code",
      "source": [
        "model_4=tf.keras.models.load_model(\"/content/model_experiments/model_4_conv1D\")\n"
      ],
      "metadata": {
        "id": "NkUSD0s4rY36"
      },
      "execution_count": null,
      "outputs": []
    },
    {
      "cell_type": "code",
      "source": [
        "model_4.evaluate(test_windows,test_labels)"
      ],
      "metadata": {
        "colab": {
          "base_uri": "https://localhost:8080/"
        },
        "id": "Ts6_o_P2rol9",
        "outputId": "b6de71d4-14ab-4c6d-d915-bb51d27bdf3f"
      },
      "execution_count": null,
      "outputs": [
        {
          "output_type": "stream",
          "name": "stdout",
          "text": [
            "18/18 [==============================] - 0s 4ms/step - loss: 570.8284 - mae: 570.8284 - mse: 1176671.2500\n"
          ]
        },
        {
          "output_type": "execute_result",
          "data": {
            "text/plain": [
              "[570.828369140625, 570.828369140625, 1176671.25]"
            ]
          },
          "metadata": {},
          "execution_count": 71
        }
      ]
    },
    {
      "cell_type": "code",
      "source": [
        "model_4_preds= make_preds(model_4,test_windows)\n",
        "model_4_preds[:10]"
      ],
      "metadata": {
        "colab": {
          "base_uri": "https://localhost:8080/"
        },
        "id": "fGGbth3Wr8-a",
        "outputId": "784403ab-76d0-4081-cbad-f3d37c99c0a1"
      },
      "execution_count": null,
      "outputs": [
        {
          "output_type": "stream",
          "name": "stdout",
          "text": [
            "18/18 [==============================] - 0s 2ms/step\n"
          ]
        },
        {
          "output_type": "execute_result",
          "data": {
            "text/plain": [
              "<tf.Tensor: shape=(10,), dtype=float32, numpy=\n",
              "array([8851.464, 8754.47 , 8983.927, 8759.671, 8703.627, 8708.294,\n",
              "       8661.667, 8494.839, 8435.316, 8492.114], dtype=float32)>"
            ]
          },
          "metadata": {},
          "execution_count": 72
        }
      ]
    },
    {
      "cell_type": "code",
      "source": [
        "model_4_results=evaluate_preds(tf.squeeze(test_labels),model_4_preds)\n",
        "model_4_results"
      ],
      "metadata": {
        "colab": {
          "base_uri": "https://localhost:8080/"
        },
        "id": "hDz-2em2sOfg",
        "outputId": "c2f665a6-d089-46d1-fe10-65bc36436c12"
      },
      "execution_count": null,
      "outputs": [
        {
          "output_type": "execute_result",
          "data": {
            "text/plain": [
              "{'mae': 570.82837,\n",
              " 'mse': 1176671.2,\n",
              " 'rmse': 1084.7448,\n",
              " 'mape': 2.5593357,\n",
              " 'mase': 1.0027874}"
            ]
          },
          "metadata": {},
          "execution_count": 73
        }
      ]
    },
    {
      "cell_type": "markdown",
      "source": [
        "model 5: RNN (lstm)\n"
      ],
      "metadata": {
        "id": "uq0RPhg55dz6"
      }
    },
    {
      "cell_type": "code",
      "source": [
        "tf.random.set_seed(42)\n",
        "\n",
        "inputs= layers.Input(shape=(WINDOW_SIZE))\n",
        "x= layers.Lambda(lambda x: tf.expand_dims(x,axis=1))(inputs)\n",
        "# x= layers.LSTM(128,return_sequences=True)(x)\n",
        "x= layers.LSTM(128,activation=\"relu\")(x)\n",
        "x= layers.Dense(32, activation=\"relu\")(x)\n",
        "output=layers.Dense(HORIZON)(x)\n",
        "model_5=tf.keras.Model(inputs=inputs,outputs=output, name=\"lstm_model_5\")\n",
        "\n",
        "model_5.compile(loss=\"mae\",optimizer=tf.keras.optimizers.Adam())\n",
        "\n",
        "model_5.fit(train_windows,train_labels,epochs=100,verbose=1,batch_size=128,\n",
        "            validation_data=(test_windows,test_labels),\n",
        "            callbacks=[create_model_checkpoint(model_name=model_5.name)])\n"
      ],
      "metadata": {
        "colab": {
          "base_uri": "https://localhost:8080/"
        },
        "id": "0k5qMD_JAgSt",
        "outputId": "32987cbe-bb6a-4d64-d517-bacbdf054ff7"
      },
      "execution_count": null,
      "outputs": [
        {
          "output_type": "stream",
          "name": "stderr",
          "text": [
            "WARNING:tensorflow:Layer lstm will not use cuDNN kernels since it doesn't meet the criteria. It will use a generic GPU kernel as fallback when running on GPU.\n"
          ]
        },
        {
          "output_type": "stream",
          "name": "stdout",
          "text": [
            "Epoch 1/100\n",
            "18/18 [==============================] - 4s 114ms/step - loss: 2430.3960 - val_loss: 9471.2344\n",
            "Epoch 2/100\n",
            "18/18 [==============================] - 4s 209ms/step - loss: 653.4048 - val_loss: 1945.4353\n",
            "Epoch 3/100\n",
            "18/18 [==============================] - 4s 235ms/step - loss: 217.8997 - val_loss: 993.6396\n",
            "Epoch 4/100\n",
            "18/18 [==============================] - 0s 15ms/step - loss: 182.8415 - val_loss: 1053.0714\n",
            "Epoch 5/100\n",
            "18/18 [==============================] - 2s 130ms/step - loss: 180.3832 - val_loss: 969.9511\n",
            "Epoch 6/100\n",
            "18/18 [==============================] - 0s 7ms/step - loss: 177.2040 - val_loss: 993.2447\n",
            "Epoch 7/100\n",
            "18/18 [==============================] - 2s 105ms/step - loss: 171.0074 - val_loss: 929.4769\n",
            "Epoch 8/100\n",
            "18/18 [==============================] - 0s 7ms/step - loss: 159.0419 - val_loss: 1168.5238\n",
            "Epoch 9/100\n",
            "18/18 [==============================] - 2s 133ms/step - loss: 168.5740 - val_loss: 905.4762\n",
            "Epoch 10/100\n",
            "18/18 [==============================] - 3s 202ms/step - loss: 164.0249 - val_loss: 891.4745\n",
            "Epoch 11/100\n",
            "18/18 [==============================] - 2s 101ms/step - loss: 157.4556 - val_loss: 890.4639\n",
            "Epoch 12/100\n",
            "18/18 [==============================] - 0s 7ms/step - loss: 158.9950 - val_loss: 921.4206\n",
            "Epoch 13/100\n",
            "18/18 [==============================] - 2s 114ms/step - loss: 155.6899 - val_loss: 877.0350\n",
            "Epoch 14/100\n",
            "18/18 [==============================] - 0s 13ms/step - loss: 152.9771 - val_loss: 889.6005\n",
            "Epoch 15/100\n",
            "18/18 [==============================] - 4s 260ms/step - loss: 151.8184 - val_loss: 841.4518\n",
            "Epoch 16/100\n",
            "18/18 [==============================] - 4s 226ms/step - loss: 148.1449 - val_loss: 827.9001\n",
            "Epoch 17/100\n",
            "18/18 [==============================] - 4s 238ms/step - loss: 147.5420 - val_loss: 809.1055\n",
            "Epoch 18/100\n",
            "18/18 [==============================] - 0s 11ms/step - loss: 144.4244 - val_loss: 812.9083\n",
            "Epoch 19/100\n",
            "18/18 [==============================] - 0s 11ms/step - loss: 141.3988 - val_loss: 817.4680\n",
            "Epoch 20/100\n",
            "18/18 [==============================] - 4s 231ms/step - loss: 142.1871 - val_loss: 784.3423\n",
            "Epoch 21/100\n",
            "18/18 [==============================] - 3s 149ms/step - loss: 140.3873 - val_loss: 758.4402\n",
            "Epoch 22/100\n",
            "18/18 [==============================] - 2s 123ms/step - loss: 137.4955 - val_loss: 753.2953\n",
            "Epoch 23/100\n",
            "18/18 [==============================] - 2s 103ms/step - loss: 134.0226 - val_loss: 741.0139\n",
            "Epoch 24/100\n",
            "18/18 [==============================] - 2s 105ms/step - loss: 132.9690 - val_loss: 729.3610\n",
            "Epoch 25/100\n",
            "18/18 [==============================] - 2s 102ms/step - loss: 131.2256 - val_loss: 718.9528\n",
            "Epoch 26/100\n",
            "18/18 [==============================] - 2s 125ms/step - loss: 130.8747 - val_loss: 709.4251\n",
            "Epoch 27/100\n",
            "18/18 [==============================] - 2s 103ms/step - loss: 128.8624 - val_loss: 699.1089\n",
            "Epoch 28/100\n",
            "18/18 [==============================] - 0s 7ms/step - loss: 126.5246 - val_loss: 701.8398\n",
            "Epoch 29/100\n",
            "18/18 [==============================] - 0s 7ms/step - loss: 125.6415 - val_loss: 699.3660\n",
            "Epoch 30/100\n",
            "18/18 [==============================] - 2s 103ms/step - loss: 129.7657 - val_loss: 695.6400\n",
            "Epoch 31/100\n",
            "18/18 [==============================] - 0s 8ms/step - loss: 128.2078 - val_loss: 721.2807\n",
            "Epoch 32/100\n",
            "18/18 [==============================] - 2s 104ms/step - loss: 124.2796 - val_loss: 672.4564\n",
            "Epoch 33/100\n",
            "18/18 [==============================] - 0s 7ms/step - loss: 128.4724 - val_loss: 720.0610\n",
            "Epoch 34/100\n",
            "18/18 [==============================] - 2s 125ms/step - loss: 127.1336 - val_loss: 665.6751\n",
            "Epoch 35/100\n",
            "18/18 [==============================] - 2s 105ms/step - loss: 122.5629 - val_loss: 653.0281\n",
            "Epoch 36/100\n",
            "18/18 [==============================] - 0s 7ms/step - loss: 123.3550 - val_loss: 686.5794\n",
            "Epoch 37/100\n",
            "18/18 [==============================] - 0s 7ms/step - loss: 123.3908 - val_loss: 664.0300\n",
            "Epoch 38/100\n",
            "18/18 [==============================] - 2s 103ms/step - loss: 121.4523 - val_loss: 649.2108\n",
            "Epoch 39/100\n",
            "18/18 [==============================] - 0s 6ms/step - loss: 121.7496 - val_loss: 665.5979\n",
            "Epoch 40/100\n",
            "18/18 [==============================] - 2s 121ms/step - loss: 119.1824 - val_loss: 648.0320\n",
            "Epoch 41/100\n",
            "18/18 [==============================] - 2s 103ms/step - loss: 119.9158 - val_loss: 635.7198\n",
            "Epoch 42/100\n",
            "18/18 [==============================] - 0s 7ms/step - loss: 121.2074 - val_loss: 648.1930\n",
            "Epoch 43/100\n",
            "18/18 [==============================] - 0s 7ms/step - loss: 118.2034 - val_loss: 648.7488\n",
            "Epoch 44/100\n",
            "18/18 [==============================] - 2s 102ms/step - loss: 118.6505 - val_loss: 629.4710\n",
            "Epoch 45/100\n",
            "18/18 [==============================] - 0s 7ms/step - loss: 117.6644 - val_loss: 642.1154\n",
            "Epoch 46/100\n",
            "18/18 [==============================] - 0s 7ms/step - loss: 119.7524 - val_loss: 654.7820\n",
            "Epoch 47/100\n",
            "18/18 [==============================] - 0s 7ms/step - loss: 120.5276 - val_loss: 673.0721\n",
            "Epoch 48/100\n",
            "18/18 [==============================] - 0s 8ms/step - loss: 117.1148 - val_loss: 664.7015\n",
            "Epoch 49/100\n",
            "18/18 [==============================] - 2s 100ms/step - loss: 119.5236 - val_loss: 622.4902\n",
            "Epoch 50/100\n",
            "18/18 [==============================] - 0s 7ms/step - loss: 114.9516 - val_loss: 623.7268\n",
            "Epoch 51/100\n",
            "18/18 [==============================] - 2s 131ms/step - loss: 114.3848 - val_loss: 618.2130\n",
            "Epoch 52/100\n",
            "18/18 [==============================] - 0s 13ms/step - loss: 115.1563 - val_loss: 624.9448\n",
            "Epoch 53/100\n",
            "18/18 [==============================] - 0s 12ms/step - loss: 117.8964 - val_loss: 632.3379\n",
            "Epoch 54/100\n",
            "18/18 [==============================] - 0s 12ms/step - loss: 117.1641 - val_loss: 669.3772\n",
            "Epoch 55/100\n",
            "18/18 [==============================] - 0s 13ms/step - loss: 118.3468 - val_loss: 621.0544\n",
            "Epoch 56/100\n",
            "18/18 [==============================] - 0s 13ms/step - loss: 113.6534 - val_loss: 743.4507\n",
            "Epoch 57/100\n",
            "18/18 [==============================] - 0s 12ms/step - loss: 128.7127 - val_loss: 737.2003\n",
            "Epoch 58/100\n",
            "18/18 [==============================] - 0s 12ms/step - loss: 124.5841 - val_loss: 710.7336\n",
            "Epoch 59/100\n",
            "18/18 [==============================] - 0s 13ms/step - loss: 114.8611 - val_loss: 620.7120\n",
            "Epoch 60/100\n",
            "18/18 [==============================] - 0s 9ms/step - loss: 114.5675 - val_loss: 662.6795\n",
            "Epoch 61/100\n",
            "18/18 [==============================] - 0s 7ms/step - loss: 115.7289 - val_loss: 621.7161\n",
            "Epoch 62/100\n",
            "18/18 [==============================] - 0s 7ms/step - loss: 112.5057 - val_loss: 632.3128\n",
            "Epoch 63/100\n",
            "18/18 [==============================] - 2s 102ms/step - loss: 115.6549 - val_loss: 610.1492\n",
            "Epoch 64/100\n",
            "18/18 [==============================] - 0s 7ms/step - loss: 114.5808 - val_loss: 681.4187\n",
            "Epoch 65/100\n",
            "18/18 [==============================] - 2s 99ms/step - loss: 115.5729 - val_loss: 603.0079\n",
            "Epoch 66/100\n",
            "18/18 [==============================] - 2s 101ms/step - loss: 113.4928 - val_loss: 600.1566\n",
            "Epoch 67/100\n",
            "18/18 [==============================] - 0s 7ms/step - loss: 111.5437 - val_loss: 682.8729\n",
            "Epoch 68/100\n",
            "18/18 [==============================] - 0s 7ms/step - loss: 116.9227 - val_loss: 753.1815\n",
            "Epoch 69/100\n",
            "18/18 [==============================] - 0s 7ms/step - loss: 130.0684 - val_loss: 700.8273\n",
            "Epoch 70/100\n",
            "18/18 [==============================] - 0s 7ms/step - loss: 122.5141 - val_loss: 607.0980\n",
            "Epoch 71/100\n",
            "18/18 [==============================] - 0s 7ms/step - loss: 114.7675 - val_loss: 646.8760\n",
            "Epoch 72/100\n",
            "18/18 [==============================] - 0s 8ms/step - loss: 114.0527 - val_loss: 610.8257\n",
            "Epoch 73/100\n",
            "18/18 [==============================] - 0s 7ms/step - loss: 113.1361 - val_loss: 600.2453\n",
            "Epoch 74/100\n",
            "18/18 [==============================] - 2s 119ms/step - loss: 113.1536 - val_loss: 594.1146\n",
            "Epoch 75/100\n",
            "18/18 [==============================] - 0s 6ms/step - loss: 110.8790 - val_loss: 613.1906\n",
            "Epoch 76/100\n",
            "18/18 [==============================] - 0s 7ms/step - loss: 113.0247 - val_loss: 609.0198\n",
            "Epoch 77/100\n",
            "18/18 [==============================] - 2s 104ms/step - loss: 111.6977 - val_loss: 593.4573\n",
            "Epoch 78/100\n",
            "18/18 [==============================] - 0s 8ms/step - loss: 112.0261 - val_loss: 594.2037\n",
            "Epoch 79/100\n",
            "18/18 [==============================] - 0s 7ms/step - loss: 110.9509 - val_loss: 603.3113\n",
            "Epoch 80/100\n",
            "18/18 [==============================] - 0s 7ms/step - loss: 110.6534 - val_loss: 594.0740\n",
            "Epoch 81/100\n",
            "18/18 [==============================] - 2s 101ms/step - loss: 109.2804 - val_loss: 592.2504\n",
            "Epoch 82/100\n",
            "18/18 [==============================] - 0s 7ms/step - loss: 114.0045 - val_loss: 612.0263\n",
            "Epoch 83/100\n",
            "18/18 [==============================] - 0s 7ms/step - loss: 115.5309 - val_loss: 619.4869\n",
            "Epoch 84/100\n",
            "18/18 [==============================] - 0s 8ms/step - loss: 112.9927 - val_loss: 597.4677\n",
            "Epoch 85/100\n",
            "18/18 [==============================] - 2s 102ms/step - loss: 109.9676 - val_loss: 585.8745\n",
            "Epoch 86/100\n",
            "18/18 [==============================] - 0s 7ms/step - loss: 109.7234 - val_loss: 662.7655\n",
            "Epoch 87/100\n",
            "18/18 [==============================] - 0s 8ms/step - loss: 110.5224 - val_loss: 587.2040\n",
            "Epoch 88/100\n",
            "18/18 [==============================] - 0s 7ms/step - loss: 110.5509 - val_loss: 652.3259\n",
            "Epoch 89/100\n",
            "18/18 [==============================] - 2s 119ms/step - loss: 112.3917 - val_loss: 585.4735\n",
            "Epoch 90/100\n",
            "18/18 [==============================] - 0s 7ms/step - loss: 109.8892 - val_loss: 701.3409\n",
            "Epoch 91/100\n",
            "18/18 [==============================] - 0s 7ms/step - loss: 115.3002 - val_loss: 637.4891\n",
            "Epoch 92/100\n",
            "18/18 [==============================] - 0s 7ms/step - loss: 111.0053 - val_loss: 592.5114\n",
            "Epoch 93/100\n",
            "18/18 [==============================] - 0s 6ms/step - loss: 115.3013 - val_loss: 635.3071\n",
            "Epoch 94/100\n",
            "18/18 [==============================] - 0s 7ms/step - loss: 109.7000 - val_loss: 599.4717\n",
            "Epoch 95/100\n",
            "18/18 [==============================] - 0s 7ms/step - loss: 110.2437 - val_loss: 594.1656\n",
            "Epoch 96/100\n",
            "18/18 [==============================] - 0s 7ms/step - loss: 116.7353 - val_loss: 600.3373\n",
            "Epoch 97/100\n",
            "18/18 [==============================] - 0s 7ms/step - loss: 111.8364 - val_loss: 646.5994\n",
            "Epoch 98/100\n",
            "18/18 [==============================] - 0s 8ms/step - loss: 109.9903 - val_loss: 587.4502\n",
            "Epoch 99/100\n",
            "18/18 [==============================] - 2s 105ms/step - loss: 108.5987 - val_loss: 582.6221\n",
            "Epoch 100/100\n",
            "18/18 [==============================] - 0s 7ms/step - loss: 110.3733 - val_loss: 628.4566\n"
          ]
        },
        {
          "output_type": "execute_result",
          "data": {
            "text/plain": [
              "<keras.callbacks.History at 0x7fc620ffb3d0>"
            ]
          },
          "metadata": {},
          "execution_count": 74
        }
      ]
    },
    {
      "cell_type": "code",
      "source": [
        "model_5=tf.keras.models.load_model(\"/content/model_experiments/lstm_model_5\")\n",
        "model_5.evaluate(test_windows,test_labels)"
      ],
      "metadata": {
        "colab": {
          "base_uri": "https://localhost:8080/"
        },
        "id": "n3902f3ODsCC",
        "outputId": "7755b6dc-079b-4c3e-acf9-3385f17b1a0c"
      },
      "execution_count": null,
      "outputs": [
        {
          "output_type": "stream",
          "name": "stderr",
          "text": [
            "WARNING:tensorflow:Layer lstm will not use cuDNN kernels since it doesn't meet the criteria. It will use a generic GPU kernel as fallback when running on GPU.\n"
          ]
        },
        {
          "output_type": "stream",
          "name": "stdout",
          "text": [
            "18/18 [==============================] - 0s 3ms/step - loss: 582.6221\n"
          ]
        },
        {
          "output_type": "execute_result",
          "data": {
            "text/plain": [
              "582.6220703125"
            ]
          },
          "metadata": {},
          "execution_count": 75
        }
      ]
    },
    {
      "cell_type": "code",
      "source": [
        "model_5_preds=make_preds(model_5,test_windows)\n",
        "model_5_preds[:5]"
      ],
      "metadata": {
        "colab": {
          "base_uri": "https://localhost:8080/"
        },
        "id": "kpxo6qmBD9nu",
        "outputId": "cc435fcd-4625-4bf4-a108-98bea677413e"
      },
      "execution_count": null,
      "outputs": [
        {
          "output_type": "stream",
          "name": "stdout",
          "text": [
            "18/18 [==============================] - 0s 2ms/step\n"
          ]
        },
        {
          "output_type": "execute_result",
          "data": {
            "text/plain": [
              "<tf.Tensor: shape=(5,), dtype=float32, numpy=array([8856.167, 8708.51 , 8937.245, 8737.986, 8674.841], dtype=float32)>"
            ]
          },
          "metadata": {},
          "execution_count": 76
        }
      ]
    },
    {
      "cell_type": "code",
      "source": [
        "model_5_results=evaluate_preds(y_true=tf.squeeze(test_labels),\n",
        "                               y_pred=model_5_preds)\n",
        "model_5_results"
      ],
      "metadata": {
        "colab": {
          "base_uri": "https://localhost:8080/"
        },
        "id": "LG92ZEaTELhx",
        "outputId": "4f224f34-27b8-49ab-99de-a929a6c7f9d6"
      },
      "execution_count": null,
      "outputs": [
        {
          "output_type": "execute_result",
          "data": {
            "text/plain": [
              "{'mae': 582.6222,\n",
              " 'mse': 1211086.2,\n",
              " 'rmse': 1100.4937,\n",
              " 'mape': 2.6325474,\n",
              " 'mase': 1.0235058}"
            ]
          },
          "metadata": {},
          "execution_count": 77
        }
      ]
    },
    {
      "cell_type": "markdown",
      "source": [
        "lets make a multivariete time series dataset"
      ],
      "metadata": {
        "id": "EAQ0rgZEPyqC"
      }
    },
    {
      "cell_type": "markdown",
      "source": [
        "add bitcoin halving event in the dataset"
      ],
      "metadata": {
        "id": "pZpQquyvP2gq"
      }
    },
    {
      "cell_type": "code",
      "source": [
        "block_reward_1= 50 #3 january 2009- this block reward not posible in our dataset\n",
        "block_reward_2= 25 # not possible\n",
        "block_reward_3= 12.5 # 9 july 2016 \n",
        "block_reward_4= 6.25 # 18 may 2020\n",
        "\n"
      ],
      "metadata": {
        "id": "yOnm_8eDQZwz"
      },
      "execution_count": null,
      "outputs": []
    },
    {
      "cell_type": "code",
      "source": [
        "block_reward_2_datetime=np.datetime64(\"2012-11-28\")\n",
        "block_reward_3_datetime=np.datetime64(\"2016-07-09\")\n",
        "block_reward_4_datetime=np.datetime64(\"2020-05-18\")\n"
      ],
      "metadata": {
        "id": "yp-4sj1zRJsd"
      },
      "execution_count": null,
      "outputs": []
    },
    {
      "cell_type": "code",
      "source": [
        "# create data ranges where specific block values would be\n",
        "block_reward_2_days= (block_reward_3_datetime-bitcoin_prices.index[0]).days\n",
        "block_reward_3_days= (block_reward_4_datetime-bitcoin_prices.index[0]).days\n",
        "\n",
        "block_reward_2_days,block_reward_3_days"
      ],
      "metadata": {
        "colab": {
          "base_uri": "https://localhost:8080/"
        },
        "id": "ZJJ8ToUBSo4b",
        "outputId": "6dc45fcb-d58c-4499-9c9f-e9d75dc80b26"
      },
      "execution_count": null,
      "outputs": [
        {
          "output_type": "execute_result",
          "data": {
            "text/plain": [
              "(1012, 2421)"
            ]
          },
          "metadata": {},
          "execution_count": 80
        }
      ]
    },
    {
      "cell_type": "code",
      "source": [
        "# adding a block reward column\n",
        "bitcoin_prices_block=bitcoin_prices.copy()\n",
        "bitcoin_prices_block[\"block_reward\"]=None\n",
        "\n",
        "# add the values in the column\n",
        "bitcoin_prices_block.iloc[:block_reward_2_days,-1]=block_reward_2\n",
        "bitcoin_prices_block.iloc[block_reward_2_days:block_reward_3_days,-1]=block_reward_3 \n",
        "bitcoin_prices_block.iloc[block_reward_3_days:,-1]=block_reward_4\n",
        "\n"
      ],
      "metadata": {
        "id": "C5fq4JFCUR-6"
      },
      "execution_count": null,
      "outputs": []
    },
    {
      "cell_type": "code",
      "source": [
        "bitcoin_prices_block.tail()"
      ],
      "metadata": {
        "colab": {
          "base_uri": "https://localhost:8080/",
          "height": 237
        },
        "id": "WUPmLklvU18u",
        "outputId": "57d47fa2-0652-44f8-a0eb-6500701ae529"
      },
      "execution_count": null,
      "outputs": [
        {
          "output_type": "execute_result",
          "data": {
            "text/plain": [
              "            Closing Price (USD) block_reward\n",
              "Date                                        \n",
              "2021-05-14         49764.132082         6.25\n",
              "2021-05-15         50032.693137         6.25\n",
              "2021-05-16         47885.625255         6.25\n",
              "2021-05-17         45604.615754         6.25\n",
              "2021-05-18         43144.471291         6.25"
            ],
            "text/html": [
              "\n",
              "  <div id=\"df-9183bec9-2103-4ace-9768-8287ec9b636d\">\n",
              "    <div class=\"colab-df-container\">\n",
              "      <div>\n",
              "<style scoped>\n",
              "    .dataframe tbody tr th:only-of-type {\n",
              "        vertical-align: middle;\n",
              "    }\n",
              "\n",
              "    .dataframe tbody tr th {\n",
              "        vertical-align: top;\n",
              "    }\n",
              "\n",
              "    .dataframe thead th {\n",
              "        text-align: right;\n",
              "    }\n",
              "</style>\n",
              "<table border=\"1\" class=\"dataframe\">\n",
              "  <thead>\n",
              "    <tr style=\"text-align: right;\">\n",
              "      <th></th>\n",
              "      <th>Closing Price (USD)</th>\n",
              "      <th>block_reward</th>\n",
              "    </tr>\n",
              "    <tr>\n",
              "      <th>Date</th>\n",
              "      <th></th>\n",
              "      <th></th>\n",
              "    </tr>\n",
              "  </thead>\n",
              "  <tbody>\n",
              "    <tr>\n",
              "      <th>2021-05-14</th>\n",
              "      <td>49764.132082</td>\n",
              "      <td>6.25</td>\n",
              "    </tr>\n",
              "    <tr>\n",
              "      <th>2021-05-15</th>\n",
              "      <td>50032.693137</td>\n",
              "      <td>6.25</td>\n",
              "    </tr>\n",
              "    <tr>\n",
              "      <th>2021-05-16</th>\n",
              "      <td>47885.625255</td>\n",
              "      <td>6.25</td>\n",
              "    </tr>\n",
              "    <tr>\n",
              "      <th>2021-05-17</th>\n",
              "      <td>45604.615754</td>\n",
              "      <td>6.25</td>\n",
              "    </tr>\n",
              "    <tr>\n",
              "      <th>2021-05-18</th>\n",
              "      <td>43144.471291</td>\n",
              "      <td>6.25</td>\n",
              "    </tr>\n",
              "  </tbody>\n",
              "</table>\n",
              "</div>\n",
              "      <button class=\"colab-df-convert\" onclick=\"convertToInteractive('df-9183bec9-2103-4ace-9768-8287ec9b636d')\"\n",
              "              title=\"Convert this dataframe to an interactive table.\"\n",
              "              style=\"display:none;\">\n",
              "        \n",
              "  <svg xmlns=\"http://www.w3.org/2000/svg\" height=\"24px\"viewBox=\"0 0 24 24\"\n",
              "       width=\"24px\">\n",
              "    <path d=\"M0 0h24v24H0V0z\" fill=\"none\"/>\n",
              "    <path d=\"M18.56 5.44l.94 2.06.94-2.06 2.06-.94-2.06-.94-.94-2.06-.94 2.06-2.06.94zm-11 1L8.5 8.5l.94-2.06 2.06-.94-2.06-.94L8.5 2.5l-.94 2.06-2.06.94zm10 10l.94 2.06.94-2.06 2.06-.94-2.06-.94-.94-2.06-.94 2.06-2.06.94z\"/><path d=\"M17.41 7.96l-1.37-1.37c-.4-.4-.92-.59-1.43-.59-.52 0-1.04.2-1.43.59L10.3 9.45l-7.72 7.72c-.78.78-.78 2.05 0 2.83L4 21.41c.39.39.9.59 1.41.59.51 0 1.02-.2 1.41-.59l7.78-7.78 2.81-2.81c.8-.78.8-2.07 0-2.86zM5.41 20L4 18.59l7.72-7.72 1.47 1.35L5.41 20z\"/>\n",
              "  </svg>\n",
              "      </button>\n",
              "      \n",
              "  <style>\n",
              "    .colab-df-container {\n",
              "      display:flex;\n",
              "      flex-wrap:wrap;\n",
              "      gap: 12px;\n",
              "    }\n",
              "\n",
              "    .colab-df-convert {\n",
              "      background-color: #E8F0FE;\n",
              "      border: none;\n",
              "      border-radius: 50%;\n",
              "      cursor: pointer;\n",
              "      display: none;\n",
              "      fill: #1967D2;\n",
              "      height: 32px;\n",
              "      padding: 0 0 0 0;\n",
              "      width: 32px;\n",
              "    }\n",
              "\n",
              "    .colab-df-convert:hover {\n",
              "      background-color: #E2EBFA;\n",
              "      box-shadow: 0px 1px 2px rgba(60, 64, 67, 0.3), 0px 1px 3px 1px rgba(60, 64, 67, 0.15);\n",
              "      fill: #174EA6;\n",
              "    }\n",
              "\n",
              "    [theme=dark] .colab-df-convert {\n",
              "      background-color: #3B4455;\n",
              "      fill: #D2E3FC;\n",
              "    }\n",
              "\n",
              "    [theme=dark] .colab-df-convert:hover {\n",
              "      background-color: #434B5C;\n",
              "      box-shadow: 0px 1px 3px 1px rgba(0, 0, 0, 0.15);\n",
              "      filter: drop-shadow(0px 1px 2px rgba(0, 0, 0, 0.3));\n",
              "      fill: #FFFFFF;\n",
              "    }\n",
              "  </style>\n",
              "\n",
              "      <script>\n",
              "        const buttonEl =\n",
              "          document.querySelector('#df-9183bec9-2103-4ace-9768-8287ec9b636d button.colab-df-convert');\n",
              "        buttonEl.style.display =\n",
              "          google.colab.kernel.accessAllowed ? 'block' : 'none';\n",
              "\n",
              "        async function convertToInteractive(key) {\n",
              "          const element = document.querySelector('#df-9183bec9-2103-4ace-9768-8287ec9b636d');\n",
              "          const dataTable =\n",
              "            await google.colab.kernel.invokeFunction('convertToInteractive',\n",
              "                                                     [key], {});\n",
              "          if (!dataTable) return;\n",
              "\n",
              "          const docLinkHtml = 'Like what you see? Visit the ' +\n",
              "            '<a target=\"_blank\" href=https://colab.research.google.com/notebooks/data_table.ipynb>data table notebook</a>'\n",
              "            + ' to learn more about interactive tables.';\n",
              "          element.innerHTML = '';\n",
              "          dataTable['output_type'] = 'display_data';\n",
              "          await google.colab.output.renderOutput(dataTable, element);\n",
              "          const docLink = document.createElement('div');\n",
              "          docLink.innerHTML = docLinkHtml;\n",
              "          element.appendChild(docLink);\n",
              "        }\n",
              "      </script>\n",
              "    </div>\n",
              "  </div>\n",
              "  "
            ]
          },
          "metadata": {},
          "execution_count": 82
        }
      ]
    },
    {
      "cell_type": "code",
      "source": [
        "# Plot the block reward/price over time\n",
        "# Note: Because of the different scales of our values we'll scale them to be between 0 and 1.\n",
        "from sklearn.preprocessing import minmax_scale\n",
        "scaled_price_block_df = pd.DataFrame(minmax_scale(bitcoin_prices_block[[\"Closing Price (USD)\", \"block_reward\"]]), # we need to scale the data first\n",
        "                                     columns=bitcoin_prices_block.columns,\n",
        "                                     index=bitcoin_prices_block.index)\n",
        "scaled_price_block_df.plot(figsize=(10, 7));"
      ],
      "metadata": {
        "colab": {
          "base_uri": "https://localhost:8080/",
          "height": 442
        },
        "id": "3co5J29pV2Ga",
        "outputId": "e8dbcfc3-a5c4-4a80-e1df-43021e116c18"
      },
      "execution_count": null,
      "outputs": [
        {
          "output_type": "display_data",
          "data": {
            "text/plain": [
              "<Figure size 720x504 with 1 Axes>"
            ],
            "image/png": "[encoded data removed]"
          },
          "metadata": {
            "needs_background": "light"
          }
        }
      ]
    },
    {
      "cell_type": "markdown",
      "source": [
        "# making windowed dataset with pandas\n",
        "previously we turned our univariet data into windows using the helper functions, but now we have multi variet data hence cannot use it now.\n",
        "Now we will use pandas dataframe shift method.\n"
      ],
      "metadata": {
        "id": "SLuJA8V5WHEv"
      }
    },
    {
      "cell_type": "code",
      "source": [
        "HORIZON=1\n",
        "WINDOW_SIZE=7"
      ],
      "metadata": {
        "id": "EniJ3fKhW09b"
      },
      "execution_count": null,
      "outputs": []
    },
    {
      "cell_type": "code",
      "source": [
        "# MAKE A COPY OF THE DATA WITH BLOCK REWARD\n",
        "\n",
        "bitcoin_prices_windowed= bitcoin_prices_block.copy()\n",
        "\n",
        "# add windowed columns\n",
        "for i in range(WINDOW_SIZE):\n",
        "  bitcoin_prices_windowed[f\"Price+{i+1}\"]=bitcoin_prices_windowed[\"Closing Price (USD)\"].shift(periods=i+1)\n",
        "bitcoin_prices_windowed.head(10)"
      ],
      "metadata": {
        "colab": {
          "base_uri": "https://localhost:8080/",
          "height": 394
        },
        "id": "np7xPtq6XDUF",
        "outputId": "3b63e579-5b2a-4ae3-8cb6-a14badae1a74"
      },
      "execution_count": null,
      "outputs": [
        {
          "output_type": "execute_result",
          "data": {
            "text/plain": [
              "            Closing Price (USD) block_reward    Price+1    Price+2    Price+3  \\\n",
              "Date                                                                            \n",
              "2013-10-01            123.65499           25        NaN        NaN        NaN   \n",
              "2013-10-02            125.45500           25  123.65499        NaN        NaN   \n",
              "2013-10-03            108.58483           25  125.45500  123.65499        NaN   \n",
              "2013-10-04            118.67466           25  108.58483  125.45500  123.65499   \n",
              "2013-10-05            121.33866           25  118.67466  108.58483  125.45500   \n",
              "2013-10-06            120.65533           25  121.33866  118.67466  108.58483   \n",
              "2013-10-07            121.79500           25  120.65533  121.33866  118.67466   \n",
              "2013-10-08            123.03300           25  121.79500  120.65533  121.33866   \n",
              "2013-10-09            124.04900           25  123.03300  121.79500  120.65533   \n",
              "2013-10-10            125.96116           25  124.04900  123.03300  121.79500   \n",
              "\n",
              "              Price+4    Price+5    Price+6    Price+7  \n",
              "Date                                                    \n",
              "2013-10-01        NaN        NaN        NaN        NaN  \n",
              "2013-10-02        NaN        NaN        NaN        NaN  \n",
              "2013-10-03        NaN        NaN        NaN        NaN  \n",
              "2013-10-04        NaN        NaN        NaN        NaN  \n",
              "2013-10-05  123.65499        NaN        NaN        NaN  \n",
              "2013-10-06  125.45500  123.65499        NaN        NaN  \n",
              "2013-10-07  108.58483  125.45500  123.65499        NaN  \n",
              "2013-10-08  118.67466  108.58483  125.45500  123.65499  \n",
              "2013-10-09  121.33866  118.67466  108.58483  125.45500  \n",
              "2013-10-10  120.65533  121.33866  118.67466  108.58483  "
            ],
            "text/html": [
              "\n",
              "  <div id=\"df-ee5187ec-d093-4fb1-82de-cbb8ed899a69\">\n",
              "    <div class=\"colab-df-container\">\n",
              "      <div>\n",
              "<style scoped>\n",
              "    .dataframe tbody tr th:only-of-type {\n",
              "        vertical-align: middle;\n",
              "    }\n",
              "\n",
              "    .dataframe tbody tr th {\n",
              "        vertical-align: top;\n",
              "    }\n",
              "\n",
              "    .dataframe thead th {\n",
              "        text-align: right;\n",
              "    }\n",
              "</style>\n",
              "<table border=\"1\" class=\"dataframe\">\n",
              "  <thead>\n",
              "    <tr style=\"text-align: right;\">\n",
              "      <th></th>\n",
              "      <th>Closing Price (USD)</th>\n",
              "      <th>block_reward</th>\n",
              "      <th>Price+1</th>\n",
              "      <th>Price+2</th>\n",
              "      <th>Price+3</th>\n",
              "      <th>Price+4</th>\n",
              "      <th>Price+5</th>\n",
              "      <th>Price+6</th>\n",
              "      <th>Price+7</th>\n",
              "    </tr>\n",
              "    <tr>\n",
              "      <th>Date</th>\n",
              "      <th></th>\n",
              "      <th></th>\n",
              "      <th></th>\n",
              "      <th></th>\n",
              "      <th></th>\n",
              "      <th></th>\n",
              "      <th></th>\n",
              "      <th></th>\n",
              "      <th></th>\n",
              "    </tr>\n",
              "  </thead>\n",
              "  <tbody>\n",
              "    <tr>\n",
              "      <th>2013-10-01</th>\n",
              "      <td>123.65499</td>\n",
              "      <td>25</td>\n",
              "      <td>NaN</td>\n",
              "      <td>NaN</td>\n",
              "      <td>NaN</td>\n",
              "      <td>NaN</td>\n",
              "      <td>NaN</td>\n",
              "      <td>NaN</td>\n",
              "      <td>NaN</td>\n",
              "    </tr>\n",
              "    <tr>\n",
              "      <th>2013-10-02</th>\n",
              "      <td>125.45500</td>\n",
              "      <td>25</td>\n",
              "      <td>123.65499</td>\n",
              "      <td>NaN</td>\n",
              "      <td>NaN</td>\n",
              "      <td>NaN</td>\n",
              "      <td>NaN</td>\n",
              "      <td>NaN</td>\n",
              "      <td>NaN</td>\n",
              "    </tr>\n",
              "    <tr>\n",
              "      <th>2013-10-03</th>\n",
              "      <td>108.58483</td>\n",
              "      <td>25</td>\n",
              "      <td>125.45500</td>\n",
              "      <td>123.65499</td>\n",
              "      <td>NaN</td>\n",
              "      <td>NaN</td>\n",
              "      <td>NaN</td>\n",
              "      <td>NaN</td>\n",
              "      <td>NaN</td>\n",
              "    </tr>\n",
              "    <tr>\n",
              "      <th>2013-10-04</th>\n",
              "      <td>118.67466</td>\n",
              "      <td>25</td>\n",
              "      <td>108.58483</td>\n",
              "      <td>125.45500</td>\n",
              "      <td>123.65499</td>\n",
              "      <td>NaN</td>\n",
              "      <td>NaN</td>\n",
              "      <td>NaN</td>\n",
              "      <td>NaN</td>\n",
              "    </tr>\n",
              "    <tr>\n",
              "      <th>2013-10-05</th>\n",
              "      <td>121.33866</td>\n",
              "      <td>25</td>\n",
              "      <td>118.67466</td>\n",
              "      <td>108.58483</td>\n",
              "      <td>125.45500</td>\n",
              "      <td>123.65499</td>\n",
              "      <td>NaN</td>\n",
              "      <td>NaN</td>\n",
              "      <td>NaN</td>\n",
              "    </tr>\n",
              "    <tr>\n",
              "      <th>2013-10-06</th>\n",
              "      <td>120.65533</td>\n",
              "      <td>25</td>\n",
              "      <td>121.33866</td>\n",
              "      <td>118.67466</td>\n",
              "      <td>108.58483</td>\n",
              "      <td>125.45500</td>\n",
              "      <td>123.65499</td>\n",
              "      <td>NaN</td>\n",
              "      <td>NaN</td>\n",
              "    </tr>\n",
              "    <tr>\n",
              "      <th>2013-10-07</th>\n",
              "      <td>121.79500</td>\n",
              "      <td>25</td>\n",
              "      <td>120.65533</td>\n",
              "      <td>121.33866</td>\n",
              "      <td>118.67466</td>\n",
              "      <td>108.58483</td>\n",
              "      <td>125.45500</td>\n",
              "      <td>123.65499</td>\n",
              "      <td>NaN</td>\n",
              "    </tr>\n",
              "    <tr>\n",
              "      <th>2013-10-08</th>\n",
              "      <td>123.03300</td>\n",
              "      <td>25</td>\n",
              "      <td>121.79500</td>\n",
              "      <td>120.65533</td>\n",
              "      <td>121.33866</td>\n",
              "      <td>118.67466</td>\n",
              "      <td>108.58483</td>\n",
              "      <td>125.45500</td>\n",
              "      <td>123.65499</td>\n",
              "    </tr>\n",
              "    <tr>\n",
              "      <th>2013-10-09</th>\n",
              "      <td>124.04900</td>\n",
              "      <td>25</td>\n",
              "      <td>123.03300</td>\n",
              "      <td>121.79500</td>\n",
              "      <td>120.65533</td>\n",
              "      <td>121.33866</td>\n",
              "      <td>118.67466</td>\n",
              "      <td>108.58483</td>\n",
              "      <td>125.45500</td>\n",
              "    </tr>\n",
              "    <tr>\n",
              "      <th>2013-10-10</th>\n",
              "      <td>125.96116</td>\n",
              "      <td>25</td>\n",
              "      <td>124.04900</td>\n",
              "      <td>123.03300</td>\n",
              "      <td>121.79500</td>\n",
              "      <td>120.65533</td>\n",
              "      <td>121.33866</td>\n",
              "      <td>118.67466</td>\n",
              "      <td>108.58483</td>\n",
              "    </tr>\n",
              "  </tbody>\n",
              "</table>\n",
              "</div>\n",
              "      <button class=\"colab-df-convert\" onclick=\"convertToInteractive('df-ee5187ec-d093-4fb1-82de-cbb8ed899a69')\"\n",
              "              title=\"Convert this dataframe to an interactive table.\"\n",
              "              style=\"display:none;\">\n",
              "        \n",
              "  <svg xmlns=\"http://www.w3.org/2000/svg\" height=\"24px\"viewBox=\"0 0 24 24\"\n",
              "       width=\"24px\">\n",
              "    <path d=\"M0 0h24v24H0V0z\" fill=\"none\"/>\n",
              "    <path d=\"M18.56 5.44l.94 2.06.94-2.06 2.06-.94-2.06-.94-.94-2.06-.94 2.06-2.06.94zm-11 1L8.5 8.5l.94-2.06 2.06-.94-2.06-.94L8.5 2.5l-.94 2.06-2.06.94zm10 10l.94 2.06.94-2.06 2.06-.94-2.06-.94-.94-2.06-.94 2.06-2.06.94z\"/><path d=\"M17.41 7.96l-1.37-1.37c-.4-.4-.92-.59-1.43-.59-.52 0-1.04.2-1.43.59L10.3 9.45l-7.72 7.72c-.78.78-.78 2.05 0 2.83L4 21.41c.39.39.9.59 1.41.59.51 0 1.02-.2 1.41-.59l7.78-7.78 2.81-2.81c.8-.78.8-2.07 0-2.86zM5.41 20L4 18.59l7.72-7.72 1.47 1.35L5.41 20z\"/>\n",
              "  </svg>\n",
              "      </button>\n",
              "      \n",
              "  <style>\n",
              "    .colab-df-container {\n",
              "      display:flex;\n",
              "      flex-wrap:wrap;\n",
              "      gap: 12px;\n",
              "    }\n",
              "\n",
              "    .colab-df-convert {\n",
              "      background-color: #E8F0FE;\n",
              "      border: none;\n",
              "      border-radius: 50%;\n",
              "      cursor: pointer;\n",
              "      display: none;\n",
              "      fill: #1967D2;\n",
              "      height: 32px;\n",
              "      padding: 0 0 0 0;\n",
              "      width: 32px;\n",
              "    }\n",
              "\n",
              "    .colab-df-convert:hover {\n",
              "      background-color: #E2EBFA;\n",
              "      box-shadow: 0px 1px 2px rgba(60, 64, 67, 0.3), 0px 1px 3px 1px rgba(60, 64, 67, 0.15);\n",
              "      fill: #174EA6;\n",
              "    }\n",
              "\n",
              "    [theme=dark] .colab-df-convert {\n",
              "      background-color: #3B4455;\n",
              "      fill: #D2E3FC;\n",
              "    }\n",
              "\n",
              "    [theme=dark] .colab-df-convert:hover {\n",
              "      background-color: #434B5C;\n",
              "      box-shadow: 0px 1px 3px 1px rgba(0, 0, 0, 0.15);\n",
              "      filter: drop-shadow(0px 1px 2px rgba(0, 0, 0, 0.3));\n",
              "      fill: #FFFFFF;\n",
              "    }\n",
              "  </style>\n",
              "\n",
              "      <script>\n",
              "        const buttonEl =\n",
              "          document.querySelector('#df-ee5187ec-d093-4fb1-82de-cbb8ed899a69 button.colab-df-convert');\n",
              "        buttonEl.style.display =\n",
              "          google.colab.kernel.accessAllowed ? 'block' : 'none';\n",
              "\n",
              "        async function convertToInteractive(key) {\n",
              "          const element = document.querySelector('#df-ee5187ec-d093-4fb1-82de-cbb8ed899a69');\n",
              "          const dataTable =\n",
              "            await google.colab.kernel.invokeFunction('convertToInteractive',\n",
              "                                                     [key], {});\n",
              "          if (!dataTable) return;\n",
              "\n",
              "          const docLinkHtml = 'Like what you see? Visit the ' +\n",
              "            '<a target=\"_blank\" href=https://colab.research.google.com/notebooks/data_table.ipynb>data table notebook</a>'\n",
              "            + ' to learn more about interactive tables.';\n",
              "          element.innerHTML = '';\n",
              "          dataTable['output_type'] = 'display_data';\n",
              "          await google.colab.output.renderOutput(dataTable, element);\n",
              "          const docLink = document.createElement('div');\n",
              "          docLink.innerHTML = docLinkHtml;\n",
              "          element.appendChild(docLink);\n",
              "        }\n",
              "      </script>\n",
              "    </div>\n",
              "  </div>\n",
              "  "
            ]
          },
          "metadata": {},
          "execution_count": 85
        }
      ]
    },
    {
      "cell_type": "code",
      "source": [
        "# Let's create X & y, remove the NaN's and convert to float32 to prevent TensorFlow errors \n",
        "X = bitcoin_prices_windowed.dropna().drop(\"Closing Price (USD)\", axis=1).astype(np.float32) \n",
        "y = bitcoin_prices_windowed.dropna()[\"Closing Price (USD)\"].astype(np.float32)\n",
        "X.head()"
      ],
      "metadata": {
        "colab": {
          "base_uri": "https://localhost:8080/",
          "height": 237
        },
        "id": "kYpOxSgEY9_8",
        "outputId": "c7a8e5b4-4f41-4123-cc48-59f5417819c8"
      },
      "execution_count": null,
      "outputs": [
        {
          "output_type": "execute_result",
          "data": {
            "text/plain": [
              "            block_reward     Price+1     Price+2     Price+3     Price+4  \\\n",
              "Date                                                                       \n",
              "2013-10-08          25.0  121.794998  120.655327  121.338661  118.674660   \n",
              "2013-10-09          25.0  123.032997  121.794998  120.655327  121.338661   \n",
              "2013-10-10          25.0  124.049004  123.032997  121.794998  120.655327   \n",
              "2013-10-11          25.0  125.961159  124.049004  123.032997  121.794998   \n",
              "2013-10-12          25.0  125.279663  125.961159  124.049004  123.032997   \n",
              "\n",
              "               Price+5     Price+6     Price+7  \n",
              "Date                                            \n",
              "2013-10-08  108.584831  125.455002  123.654991  \n",
              "2013-10-09  118.674660  108.584831  125.455002  \n",
              "2013-10-10  121.338661  118.674660  108.584831  \n",
              "2013-10-11  120.655327  121.338661  118.674660  \n",
              "2013-10-12  121.794998  120.655327  121.338661  "
            ],
            "text/html": [
              "\n",
              "  <div id=\"df-96e64886-e94f-4ac8-9a65-0eadfca52790\">\n",
              "    <div class=\"colab-df-container\">\n",
              "      <div>\n",
              "<style scoped>\n",
              "    .dataframe tbody tr th:only-of-type {\n",
              "        vertical-align: middle;\n",
              "    }\n",
              "\n",
              "    .dataframe tbody tr th {\n",
              "        vertical-align: top;\n",
              "    }\n",
              "\n",
              "    .dataframe thead th {\n",
              "        text-align: right;\n",
              "    }\n",
              "</style>\n",
              "<table border=\"1\" class=\"dataframe\">\n",
              "  <thead>\n",
              "    <tr style=\"text-align: right;\">\n",
              "      <th></th>\n",
              "      <th>block_reward</th>\n",
              "      <th>Price+1</th>\n",
              "      <th>Price+2</th>\n",
              "      <th>Price+3</th>\n",
              "      <th>Price+4</th>\n",
              "      <th>Price+5</th>\n",
              "      <th>Price+6</th>\n",
              "      <th>Price+7</th>\n",
              "    </tr>\n",
              "    <tr>\n",
              "      <th>Date</th>\n",
              "      <th></th>\n",
              "      <th></th>\n",
              "      <th></th>\n",
              "      <th></th>\n",
              "      <th></th>\n",
              "      <th></th>\n",
              "      <th></th>\n",
              "      <th></th>\n",
              "    </tr>\n",
              "  </thead>\n",
              "  <tbody>\n",
              "    <tr>\n",
              "      <th>2013-10-08</th>\n",
              "      <td>25.0</td>\n",
              "      <td>121.794998</td>\n",
              "      <td>120.655327</td>\n",
              "      <td>121.338661</td>\n",
              "      <td>118.674660</td>\n",
              "      <td>108.584831</td>\n",
              "      <td>125.455002</td>\n",
              "      <td>123.654991</td>\n",
              "    </tr>\n",
              "    <tr>\n",
              "      <th>2013-10-09</th>\n",
              "      <td>25.0</td>\n",
              "      <td>123.032997</td>\n",
              "      <td>121.794998</td>\n",
              "      <td>120.655327</td>\n",
              "      <td>121.338661</td>\n",
              "      <td>118.674660</td>\n",
              "      <td>108.584831</td>\n",
              "      <td>125.455002</td>\n",
              "    </tr>\n",
              "    <tr>\n",
              "      <th>2013-10-10</th>\n",
              "      <td>25.0</td>\n",
              "      <td>124.049004</td>\n",
              "      <td>123.032997</td>\n",
              "      <td>121.794998</td>\n",
              "      <td>120.655327</td>\n",
              "      <td>121.338661</td>\n",
              "      <td>118.674660</td>\n",
              "      <td>108.584831</td>\n",
              "    </tr>\n",
              "    <tr>\n",
              "      <th>2013-10-11</th>\n",
              "      <td>25.0</td>\n",
              "      <td>125.961159</td>\n",
              "      <td>124.049004</td>\n",
              "      <td>123.032997</td>\n",
              "      <td>121.794998</td>\n",
              "      <td>120.655327</td>\n",
              "      <td>121.338661</td>\n",
              "      <td>118.674660</td>\n",
              "    </tr>\n",
              "    <tr>\n",
              "      <th>2013-10-12</th>\n",
              "      <td>25.0</td>\n",
              "      <td>125.279663</td>\n",
              "      <td>125.961159</td>\n",
              "      <td>124.049004</td>\n",
              "      <td>123.032997</td>\n",
              "      <td>121.794998</td>\n",
              "      <td>120.655327</td>\n",
              "      <td>121.338661</td>\n",
              "    </tr>\n",
              "  </tbody>\n",
              "</table>\n",
              "</div>\n",
              "      <button class=\"colab-df-convert\" onclick=\"convertToInteractive('df-96e64886-e94f-4ac8-9a65-0eadfca52790')\"\n",
              "              title=\"Convert this dataframe to an interactive table.\"\n",
              "              style=\"display:none;\">\n",
              "        \n",
              "  <svg xmlns=\"http://www.w3.org/2000/svg\" height=\"24px\"viewBox=\"0 0 24 24\"\n",
              "       width=\"24px\">\n",
              "    <path d=\"M0 0h24v24H0V0z\" fill=\"none\"/>\n",
              "    <path d=\"M18.56 5.44l.94 2.06.94-2.06 2.06-.94-2.06-.94-.94-2.06-.94 2.06-2.06.94zm-11 1L8.5 8.5l.94-2.06 2.06-.94-2.06-.94L8.5 2.5l-.94 2.06-2.06.94zm10 10l.94 2.06.94-2.06 2.06-.94-2.06-.94-.94-2.06-.94 2.06-2.06.94z\"/><path d=\"M17.41 7.96l-1.37-1.37c-.4-.4-.92-.59-1.43-.59-.52 0-1.04.2-1.43.59L10.3 9.45l-7.72 7.72c-.78.78-.78 2.05 0 2.83L4 21.41c.39.39.9.59 1.41.59.51 0 1.02-.2 1.41-.59l7.78-7.78 2.81-2.81c.8-.78.8-2.07 0-2.86zM5.41 20L4 18.59l7.72-7.72 1.47 1.35L5.41 20z\"/>\n",
              "  </svg>\n",
              "      </button>\n",
              "      \n",
              "  <style>\n",
              "    .colab-df-container {\n",
              "      display:flex;\n",
              "      flex-wrap:wrap;\n",
              "      gap: 12px;\n",
              "    }\n",
              "\n",
              "    .colab-df-convert {\n",
              "      background-color: #E8F0FE;\n",
              "      border: none;\n",
              "      border-radius: 50%;\n",
              "      cursor: pointer;\n",
              "      display: none;\n",
              "      fill: #1967D2;\n",
              "      height: 32px;\n",
              "      padding: 0 0 0 0;\n",
              "      width: 32px;\n",
              "    }\n",
              "\n",
              "    .colab-df-convert:hover {\n",
              "      background-color: #E2EBFA;\n",
              "      box-shadow: 0px 1px 2px rgba(60, 64, 67, 0.3), 0px 1px 3px 1px rgba(60, 64, 67, 0.15);\n",
              "      fill: #174EA6;\n",
              "    }\n",
              "\n",
              "    [theme=dark] .colab-df-convert {\n",
              "      background-color: #3B4455;\n",
              "      fill: #D2E3FC;\n",
              "    }\n",
              "\n",
              "    [theme=dark] .colab-df-convert:hover {\n",
              "      background-color: #434B5C;\n",
              "      box-shadow: 0px 1px 3px 1px rgba(0, 0, 0, 0.15);\n",
              "      filter: drop-shadow(0px 1px 2px rgba(0, 0, 0, 0.3));\n",
              "      fill: #FFFFFF;\n",
              "    }\n",
              "  </style>\n",
              "\n",
              "      <script>\n",
              "        const buttonEl =\n",
              "          document.querySelector('#df-96e64886-e94f-4ac8-9a65-0eadfca52790 button.colab-df-convert');\n",
              "        buttonEl.style.display =\n",
              "          google.colab.kernel.accessAllowed ? 'block' : 'none';\n",
              "\n",
              "        async function convertToInteractive(key) {\n",
              "          const element = document.querySelector('#df-96e64886-e94f-4ac8-9a65-0eadfca52790');\n",
              "          const dataTable =\n",
              "            await google.colab.kernel.invokeFunction('convertToInteractive',\n",
              "                                                     [key], {});\n",
              "          if (!dataTable) return;\n",
              "\n",
              "          const docLinkHtml = 'Like what you see? Visit the ' +\n",
              "            '<a target=\"_blank\" href=https://colab.research.google.com/notebooks/data_table.ipynb>data table notebook</a>'\n",
              "            + ' to learn more about interactive tables.';\n",
              "          element.innerHTML = '';\n",
              "          dataTable['output_type'] = 'display_data';\n",
              "          await google.colab.output.renderOutput(dataTable, element);\n",
              "          const docLink = document.createElement('div');\n",
              "          docLink.innerHTML = docLinkHtml;\n",
              "          element.appendChild(docLink);\n",
              "        }\n",
              "      </script>\n",
              "    </div>\n",
              "  </div>\n",
              "  "
            ]
          },
          "metadata": {},
          "execution_count": 86
        }
      ]
    },
    {
      "cell_type": "code",
      "source": [
        "# Make train and test sets\n",
        "split_size = int(len(X) * 0.8)\n",
        "X_train, y_train = X[:split_size], y[:split_size]\n",
        "X_test, y_test = X[split_size:], y[split_size:]\n",
        "len(X_train), len(y_train), len(X_test), len(y_test)"
      ],
      "metadata": {
        "colab": {
          "base_uri": "https://localhost:8080/"
        },
        "id": "nEOAbbRkZZEF",
        "outputId": "a57b4bf2-d738-49e2-a243-6d1e95263b1d"
      },
      "execution_count": null,
      "outputs": [
        {
          "output_type": "execute_result",
          "data": {
            "text/plain": [
              "(2224, 2224, 556, 556)"
            ]
          },
          "metadata": {},
          "execution_count": 87
        }
      ]
    },
    {
      "cell_type": "code",
      "source": [
        "tf.random.set_seed(42)\n",
        "\n",
        "# Make multivariate time series model\n",
        "model_6 = tf.keras.Sequential([\n",
        "  layers.Dense(128, activation=\"relu\"),\n",
        "  # layers.Dense(128, activation=\"relu\"), # adding an extra layer here should lead to beating the naive model\n",
        "  layers.Dense(HORIZON)\n",
        "], name=\"model_6_dense_multivariate\")\n",
        "\n",
        "# Compile\n",
        "model_6.compile(loss=\"mae\",\n",
        "                optimizer=tf.keras.optimizers.Adam())\n",
        "\n",
        "# Fit\n",
        "model_6.fit(X_train, y_train,\n",
        "            epochs=100,\n",
        "            batch_size=128,\n",
        "            verbose=0, # only print 1 line per epoch\n",
        "            validation_data=(X_test, y_test),\n",
        "            callbacks=[create_model_checkpoint(model_name=model_6.name)])"
      ],
      "metadata": {
        "colab": {
          "base_uri": "https://localhost:8080/"
        },
        "id": "iTbqAInbZlVO",
        "outputId": "b7f8071f-35fc-4b3c-f6aa-4b06af29db22"
      },
      "execution_count": null,
      "outputs": [
        {
          "output_type": "execute_result",
          "data": {
            "text/plain": [
              "<keras.callbacks.History at 0x7fc6217c85b0>"
            ]
          },
          "metadata": {},
          "execution_count": 88
        }
      ]
    },
    {
      "cell_type": "code",
      "source": [
        "# Make sure best model is loaded and evaluate\n",
        "model_6 = tf.keras.models.load_model(\"model_experiments/model_6_dense_multivariate\")\n",
        "model_6.evaluate(X_test, y_test)"
      ],
      "metadata": {
        "colab": {
          "base_uri": "https://localhost:8080/"
        },
        "id": "i5QHoYA5Z0iC",
        "outputId": "f3df61d0-7a9c-4735-85e3-2f0bdd531530"
      },
      "execution_count": null,
      "outputs": [
        {
          "output_type": "stream",
          "name": "stdout",
          "text": [
            "18/18 [==============================] - 0s 2ms/step - loss: 567.8899\n"
          ]
        },
        {
          "output_type": "execute_result",
          "data": {
            "text/plain": [
              "567.889892578125"
            ]
          },
          "metadata": {},
          "execution_count": 89
        }
      ]
    },
    {
      "cell_type": "code",
      "source": [
        "# Make predictions on multivariate data\n",
        "model_6_preds = tf.squeeze(model_6.predict(X_test))\n",
        "model_6_preds[:10]"
      ],
      "metadata": {
        "colab": {
          "base_uri": "https://localhost:8080/"
        },
        "id": "LTSL5YTLZ2aM",
        "outputId": "d0555b0b-064c-492d-a74c-f1405a967680"
      },
      "execution_count": null,
      "outputs": [
        {
          "output_type": "stream",
          "name": "stdout",
          "text": [
            "18/18 [==============================] - 0s 1ms/step\n"
          ]
        },
        {
          "output_type": "execute_result",
          "data": {
            "text/plain": [
              "<tf.Tensor: shape=(10,), dtype=float32, numpy=\n",
              "array([8844.684, 8769.905, 9045.17 , 8747.686, 8728.429, 8772.757,\n",
              "       8667.292, 8503.437, 8470.313, 8527.244], dtype=float32)>"
            ]
          },
          "metadata": {},
          "execution_count": 90
        }
      ]
    },
    {
      "cell_type": "code",
      "source": [
        "# Evaluate preds\n",
        "model_6_results = evaluate_preds(y_true=y_test,\n",
        "                                 y_pred=model_6_preds)\n",
        "model_6_results"
      ],
      "metadata": {
        "colab": {
          "base_uri": "https://localhost:8080/"
        },
        "id": "OxdYCWzaZ32T",
        "outputId": "40110a90-d533-48ca-c971-4fdf95c8f9bb"
      },
      "execution_count": null,
      "outputs": [
        {
          "output_type": "execute_result",
          "data": {
            "text/plain": [
              "{'mae': 567.8899,\n",
              " 'mse': 1164816.4,\n",
              " 'rmse': 1079.2666,\n",
              " 'mape': 2.5460758,\n",
              " 'mase': 0.99762523}"
            ]
          },
          "metadata": {},
          "execution_count": 91
        }
      ]
    },
    {
      "cell_type": "code",
      "source": [
        "naive_results"
      ],
      "metadata": {
        "colab": {
          "base_uri": "https://localhost:8080/"
        },
        "id": "I9EkGNx0aGhH",
        "outputId": "5a6a484b-d6a8-44ed-cb87-f65b441ecaba"
      },
      "execution_count": null,
      "outputs": [
        {
          "output_type": "execute_result",
          "data": {
            "text/plain": [
              "{'mae': 567.9802,\n",
              " 'mse': 1147547.0,\n",
              " 'rmse': 1071.2362,\n",
              " 'mape': 2.516525,\n",
              " 'mase': 0.99957}"
            ]
          },
          "metadata": {},
          "execution_count": 92
        }
      ]
    },
    {
      "cell_type": "markdown",
      "source": [
        "N-BEATS (NEURAL BASIS EXPANSION ANALYSIS FOR INTERPRETABLE TIME SERIES FORECASTING) ALGORITHM "
      ],
      "metadata": {
        "id": "quQ0LkGwyD2X"
      }
    },
    {
      "cell_type": "code",
      "source": [
        "# building and testing the n beats block layer\n",
        "# because the n beats block layer doesnt exist in tf,hence we need to create is using sub-classing"
      ],
      "metadata": {
        "id": "GA-PwFr_0Q26"
      },
      "execution_count": null,
      "outputs": []
    },
    {
      "cell_type": "code",
      "source": [
        "import tensorflow as tf\n",
        "# Create NBeatsBlock custom layer \n",
        "class NBeatsBlock(tf.keras.layers.Layer):\n",
        "  def __init__(self, # the constructor takes all the hyperparameters for the layer\n",
        "               input_size: int,\n",
        "               theta_size: int,\n",
        "               horizon: int,\n",
        "               n_neurons: int,\n",
        "               n_layers: int,\n",
        "               **kwargs): # the **kwargs argument takes care of all of the arguments for the parent class (input_shape, trainable, name)\n",
        "    super().__init__(**kwargs)\n",
        "    self.input_size = input_size\n",
        "    self.theta_size = theta_size\n",
        "    self.horizon = horizon\n",
        "    self.n_neurons = n_neurons\n",
        "    self.n_layers = n_layers\n",
        "\n",
        "    # Block contains stack of 4 fully connected layers each has ReLU activation\n",
        "    self.hidden = [tf.keras.layers.Dense(n_neurons, activation=\"relu\") for _ in range(n_layers)]\n",
        "    # Output of block is a theta layer with linear activation\n",
        "    self.theta_layer = tf.keras.layers.Dense(theta_size, activation=\"linear\", name=\"theta\")\n",
        "\n",
        "  def call(self, inputs): # the call method is what runs when the layer is called \n",
        "    x = inputs \n",
        "    for layer in self.hidden: # pass inputs through each hidden layer \n",
        "      x = layer(x)\n",
        "    theta = self.theta_layer(x) \n",
        "    # Output the backcast and forecast from theta\n",
        "    backcast, forecast = theta[:, :self.input_size], theta[:, -self.horizon:]\n",
        "    return backcast, forecast\n",
        "     "
      ],
      "metadata": {
        "id": "gUdYGXza02q4"
      },
      "execution_count": null,
      "outputs": []
    },
    {
      "cell_type": "code",
      "source": [
        "# Set up dummy NBeatsBlock layer to represent inputs and outputs\n",
        "dummy_nbeats_block_layer = NBeatsBlock(input_size=WINDOW_SIZE, \n",
        "                                       theta_size=WINDOW_SIZE+HORIZON, # backcast + forecast \n",
        "                                       horizon=HORIZON,\n",
        "                                       n_neurons=128,\n",
        "                                       n_layers=4)\n",
        "     "
      ],
      "metadata": {
        "id": "4OO9piXR3k3j"
      },
      "execution_count": null,
      "outputs": []
    },
    {
      "cell_type": "code",
      "source": [
        "# Create dummy inputs (have to be same size as input_size)\n",
        "dummy_inputs = tf.expand_dims(tf.range(WINDOW_SIZE) + 1, axis=0) # input shape to the model has to reflect Dense layer input requirements (ndim=2)\n",
        "dummy_inputs"
      ],
      "metadata": {
        "colab": {
          "base_uri": "https://localhost:8080/"
        },
        "id": "shwcNF7J5llo",
        "outputId": "cb9c5cb4-c03e-47df-982b-5081ebe3bc8b"
      },
      "execution_count": null,
      "outputs": [
        {
          "output_type": "execute_result",
          "data": {
            "text/plain": [
              "<tf.Tensor: shape=(1, 7), dtype=int32, numpy=array([[1, 2, 3, 4, 5, 6, 7]], dtype=int32)>"
            ]
          },
          "metadata": {},
          "execution_count": 96
        }
      ]
    },
    {
      "cell_type": "code",
      "source": [
        "# Pass dummy inputs to dummy NBeatsBlock layer\n",
        "backcast, forecast = dummy_nbeats_block_layer(dummy_inputs)\n",
        "# These are the activation outputs of the theta layer (they'll be random due to no training of the model)\n",
        "print(f\"Backcast: {tf.squeeze(backcast.numpy())}\")\n",
        "print(f\"Forecast: {tf.squeeze(forecast.numpy())}\")"
      ],
      "metadata": {
        "colab": {
          "base_uri": "https://localhost:8080/"
        },
        "id": "lRcu_BT89F5K",
        "outputId": "ecf13e02-07a2-4236-a6af-b0790d7e32cb"
      },
      "execution_count": null,
      "outputs": [
        {
          "output_type": "stream",
          "name": "stdout",
          "text": [
            "Backcast: [ 0.19014993  0.83798355 -0.3287001   0.2515993  -0.47540283 -0.7783665\n",
            " -0.5299447 ]\n",
            "Forecast: -0.7554212808609009\n"
          ]
        }
      ]
    },
    {
      "cell_type": "code",
      "source": [
        "HORIZON = 1 # how far to predict forward\n",
        "WINDOW_SIZE = 7 # how far to lookback"
      ],
      "metadata": {
        "id": "ghzRdhw995oF"
      },
      "execution_count": null,
      "outputs": []
    },
    {
      "cell_type": "code",
      "source": [
        "# Create NBEATS data inputs (NBEATS works with univariate time series)\n",
        "bitcoin_prices.head()"
      ],
      "metadata": {
        "colab": {
          "base_uri": "https://localhost:8080/",
          "height": 237
        },
        "id": "t4UKHaB_96ig",
        "outputId": "0581a6b3-fca4-44ec-89f1-2319358a4d02"
      },
      "execution_count": null,
      "outputs": [
        {
          "output_type": "execute_result",
          "data": {
            "text/plain": [
              "            Closing Price (USD)\n",
              "Date                           \n",
              "2013-10-01            123.65499\n",
              "2013-10-02            125.45500\n",
              "2013-10-03            108.58483\n",
              "2013-10-04            118.67466\n",
              "2013-10-05            121.33866"
            ],
            "text/html": [
              "\n",
              "  <div id=\"df-0d2e9241-e34a-4f4b-8137-c8183254c715\">\n",
              "    <div class=\"colab-df-container\">\n",
              "      <div>\n",
              "<style scoped>\n",
              "    .dataframe tbody tr th:only-of-type {\n",
              "        vertical-align: middle;\n",
              "    }\n",
              "\n",
              "    .dataframe tbody tr th {\n",
              "        vertical-align: top;\n",
              "    }\n",
              "\n",
              "    .dataframe thead th {\n",
              "        text-align: right;\n",
              "    }\n",
              "</style>\n",
              "<table border=\"1\" class=\"dataframe\">\n",
              "  <thead>\n",
              "    <tr style=\"text-align: right;\">\n",
              "      <th></th>\n",
              "      <th>Closing Price (USD)</th>\n",
              "    </tr>\n",
              "    <tr>\n",
              "      <th>Date</th>\n",
              "      <th></th>\n",
              "    </tr>\n",
              "  </thead>\n",
              "  <tbody>\n",
              "    <tr>\n",
              "      <th>2013-10-01</th>\n",
              "      <td>123.65499</td>\n",
              "    </tr>\n",
              "    <tr>\n",
              "      <th>2013-10-02</th>\n",
              "      <td>125.45500</td>\n",
              "    </tr>\n",
              "    <tr>\n",
              "      <th>2013-10-03</th>\n",
              "      <td>108.58483</td>\n",
              "    </tr>\n",
              "    <tr>\n",
              "      <th>2013-10-04</th>\n",
              "      <td>118.67466</td>\n",
              "    </tr>\n",
              "    <tr>\n",
              "      <th>2013-10-05</th>\n",
              "      <td>121.33866</td>\n",
              "    </tr>\n",
              "  </tbody>\n",
              "</table>\n",
              "</div>\n",
              "      <button class=\"colab-df-convert\" onclick=\"convertToInteractive('df-0d2e9241-e34a-4f4b-8137-c8183254c715')\"\n",
              "              title=\"Convert this dataframe to an interactive table.\"\n",
              "              style=\"display:none;\">\n",
              "        \n",
              "  <svg xmlns=\"http://www.w3.org/2000/svg\" height=\"24px\"viewBox=\"0 0 24 24\"\n",
              "       width=\"24px\">\n",
              "    <path d=\"M0 0h24v24H0V0z\" fill=\"none\"/>\n",
              "    <path d=\"M18.56 5.44l.94 2.06.94-2.06 2.06-.94-2.06-.94-.94-2.06-.94 2.06-2.06.94zm-11 1L8.5 8.5l.94-2.06 2.06-.94-2.06-.94L8.5 2.5l-.94 2.06-2.06.94zm10 10l.94 2.06.94-2.06 2.06-.94-2.06-.94-.94-2.06-.94 2.06-2.06.94z\"/><path d=\"M17.41 7.96l-1.37-1.37c-.4-.4-.92-.59-1.43-.59-.52 0-1.04.2-1.43.59L10.3 9.45l-7.72 7.72c-.78.78-.78 2.05 0 2.83L4 21.41c.39.39.9.59 1.41.59.51 0 1.02-.2 1.41-.59l7.78-7.78 2.81-2.81c.8-.78.8-2.07 0-2.86zM5.41 20L4 18.59l7.72-7.72 1.47 1.35L5.41 20z\"/>\n",
              "  </svg>\n",
              "      </button>\n",
              "      \n",
              "  <style>\n",
              "    .colab-df-container {\n",
              "      display:flex;\n",
              "      flex-wrap:wrap;\n",
              "      gap: 12px;\n",
              "    }\n",
              "\n",
              "    .colab-df-convert {\n",
              "      background-color: #E8F0FE;\n",
              "      border: none;\n",
              "      border-radius: 50%;\n",
              "      cursor: pointer;\n",
              "      display: none;\n",
              "      fill: #1967D2;\n",
              "      height: 32px;\n",
              "      padding: 0 0 0 0;\n",
              "      width: 32px;\n",
              "    }\n",
              "\n",
              "    .colab-df-convert:hover {\n",
              "      background-color: #E2EBFA;\n",
              "      box-shadow: 0px 1px 2px rgba(60, 64, 67, 0.3), 0px 1px 3px 1px rgba(60, 64, 67, 0.15);\n",
              "      fill: #174EA6;\n",
              "    }\n",
              "\n",
              "    [theme=dark] .colab-df-convert {\n",
              "      background-color: #3B4455;\n",
              "      fill: #D2E3FC;\n",
              "    }\n",
              "\n",
              "    [theme=dark] .colab-df-convert:hover {\n",
              "      background-color: #434B5C;\n",
              "      box-shadow: 0px 1px 3px 1px rgba(0, 0, 0, 0.15);\n",
              "      filter: drop-shadow(0px 1px 2px rgba(0, 0, 0, 0.3));\n",
              "      fill: #FFFFFF;\n",
              "    }\n",
              "  </style>\n",
              "\n",
              "      <script>\n",
              "        const buttonEl =\n",
              "          document.querySelector('#df-0d2e9241-e34a-4f4b-8137-c8183254c715 button.colab-df-convert');\n",
              "        buttonEl.style.display =\n",
              "          google.colab.kernel.accessAllowed ? 'block' : 'none';\n",
              "\n",
              "        async function convertToInteractive(key) {\n",
              "          const element = document.querySelector('#df-0d2e9241-e34a-4f4b-8137-c8183254c715');\n",
              "          const dataTable =\n",
              "            await google.colab.kernel.invokeFunction('convertToInteractive',\n",
              "                                                     [key], {});\n",
              "          if (!dataTable) return;\n",
              "\n",
              "          const docLinkHtml = 'Like what you see? Visit the ' +\n",
              "            '<a target=\"_blank\" href=https://colab.research.google.com/notebooks/data_table.ipynb>data table notebook</a>'\n",
              "            + ' to learn more about interactive tables.';\n",
              "          element.innerHTML = '';\n",
              "          dataTable['output_type'] = 'display_data';\n",
              "          await google.colab.output.renderOutput(dataTable, element);\n",
              "          const docLink = document.createElement('div');\n",
              "          docLink.innerHTML = docLinkHtml;\n",
              "          element.appendChild(docLink);\n",
              "        }\n",
              "      </script>\n",
              "    </div>\n",
              "  </div>\n",
              "  "
            ]
          },
          "metadata": {},
          "execution_count": 99
        }
      ]
    },
    {
      "cell_type": "code",
      "source": [
        "# Add windowed columns\n",
        "bitcoin_prices_nbeats = bitcoin_prices.copy()\n",
        "for i in range(WINDOW_SIZE):\n",
        "  bitcoin_prices_nbeats[f\"Price+{i+1}\"] = bitcoin_prices_nbeats[\"Closing Price (USD)\"].shift(periods=i+1)\n",
        "bitcoin_prices_nbeats.dropna().head()"
      ],
      "metadata": {
        "colab": {
          "base_uri": "https://localhost:8080/",
          "height": 237
        },
        "id": "fMsy7iwd-Gkk",
        "outputId": "9eae9ca0-4e4b-4fe8-b35f-5331a420fc75"
      },
      "execution_count": null,
      "outputs": [
        {
          "output_type": "execute_result",
          "data": {
            "text/plain": [
              "            Closing Price (USD)    Price+1    Price+2    Price+3    Price+4  \\\n",
              "Date                                                                          \n",
              "2013-10-08            123.03300  121.79500  120.65533  121.33866  118.67466   \n",
              "2013-10-09            124.04900  123.03300  121.79500  120.65533  121.33866   \n",
              "2013-10-10            125.96116  124.04900  123.03300  121.79500  120.65533   \n",
              "2013-10-11            125.27966  125.96116  124.04900  123.03300  121.79500   \n",
              "2013-10-12            125.92750  125.27966  125.96116  124.04900  123.03300   \n",
              "\n",
              "              Price+5    Price+6    Price+7  \n",
              "Date                                         \n",
              "2013-10-08  108.58483  125.45500  123.65499  \n",
              "2013-10-09  118.67466  108.58483  125.45500  \n",
              "2013-10-10  121.33866  118.67466  108.58483  \n",
              "2013-10-11  120.65533  121.33866  118.67466  \n",
              "2013-10-12  121.79500  120.65533  121.33866  "
            ],
            "text/html": [
              "\n",
              "  <div id=\"df-b750c86d-0123-4cba-8fde-868e1b850f67\">\n",
              "    <div class=\"colab-df-container\">\n",
              "      <div>\n",
              "<style scoped>\n",
              "    .dataframe tbody tr th:only-of-type {\n",
              "        vertical-align: middle;\n",
              "    }\n",
              "\n",
              "    .dataframe tbody tr th {\n",
              "        vertical-align: top;\n",
              "    }\n",
              "\n",
              "    .dataframe thead th {\n",
              "        text-align: right;\n",
              "    }\n",
              "</style>\n",
              "<table border=\"1\" class=\"dataframe\">\n",
              "  <thead>\n",
              "    <tr style=\"text-align: right;\">\n",
              "      <th></th>\n",
              "      <th>Closing Price (USD)</th>\n",
              "      <th>Price+1</th>\n",
              "      <th>Price+2</th>\n",
              "      <th>Price+3</th>\n",
              "      <th>Price+4</th>\n",
              "      <th>Price+5</th>\n",
              "      <th>Price+6</th>\n",
              "      <th>Price+7</th>\n",
              "    </tr>\n",
              "    <tr>\n",
              "      <th>Date</th>\n",
              "      <th></th>\n",
              "      <th></th>\n",
              "      <th></th>\n",
              "      <th></th>\n",
              "      <th></th>\n",
              "      <th></th>\n",
              "      <th></th>\n",
              "      <th></th>\n",
              "    </tr>\n",
              "  </thead>\n",
              "  <tbody>\n",
              "    <tr>\n",
              "      <th>2013-10-08</th>\n",
              "      <td>123.03300</td>\n",
              "      <td>121.79500</td>\n",
              "      <td>120.65533</td>\n",
              "      <td>121.33866</td>\n",
              "      <td>118.67466</td>\n",
              "      <td>108.58483</td>\n",
              "      <td>125.45500</td>\n",
              "      <td>123.65499</td>\n",
              "    </tr>\n",
              "    <tr>\n",
              "      <th>2013-10-09</th>\n",
              "      <td>124.04900</td>\n",
              "      <td>123.03300</td>\n",
              "      <td>121.79500</td>\n",
              "      <td>120.65533</td>\n",
              "      <td>121.33866</td>\n",
              "      <td>118.67466</td>\n",
              "      <td>108.58483</td>\n",
              "      <td>125.45500</td>\n",
              "    </tr>\n",
              "    <tr>\n",
              "      <th>2013-10-10</th>\n",
              "      <td>125.96116</td>\n",
              "      <td>124.04900</td>\n",
              "      <td>123.03300</td>\n",
              "      <td>121.79500</td>\n",
              "      <td>120.65533</td>\n",
              "      <td>121.33866</td>\n",
              "      <td>118.67466</td>\n",
              "      <td>108.58483</td>\n",
              "    </tr>\n",
              "    <tr>\n",
              "      <th>2013-10-11</th>\n",
              "      <td>125.27966</td>\n",
              "      <td>125.96116</td>\n",
              "      <td>124.04900</td>\n",
              "      <td>123.03300</td>\n",
              "      <td>121.79500</td>\n",
              "      <td>120.65533</td>\n",
              "      <td>121.33866</td>\n",
              "      <td>118.67466</td>\n",
              "    </tr>\n",
              "    <tr>\n",
              "      <th>2013-10-12</th>\n",
              "      <td>125.92750</td>\n",
              "      <td>125.27966</td>\n",
              "      <td>125.96116</td>\n",
              "      <td>124.04900</td>\n",
              "      <td>123.03300</td>\n",
              "      <td>121.79500</td>\n",
              "      <td>120.65533</td>\n",
              "      <td>121.33866</td>\n",
              "    </tr>\n",
              "  </tbody>\n",
              "</table>\n",
              "</div>\n",
              "      <button class=\"colab-df-convert\" onclick=\"convertToInteractive('df-b750c86d-0123-4cba-8fde-868e1b850f67')\"\n",
              "              title=\"Convert this dataframe to an interactive table.\"\n",
              "              style=\"display:none;\">\n",
              "        \n",
              "  <svg xmlns=\"http://www.w3.org/2000/svg\" height=\"24px\"viewBox=\"0 0 24 24\"\n",
              "       width=\"24px\">\n",
              "    <path d=\"M0 0h24v24H0V0z\" fill=\"none\"/>\n",
              "    <path d=\"M18.56 5.44l.94 2.06.94-2.06 2.06-.94-2.06-.94-.94-2.06-.94 2.06-2.06.94zm-11 1L8.5 8.5l.94-2.06 2.06-.94-2.06-.94L8.5 2.5l-.94 2.06-2.06.94zm10 10l.94 2.06.94-2.06 2.06-.94-2.06-.94-.94-2.06-.94 2.06-2.06.94z\"/><path d=\"M17.41 7.96l-1.37-1.37c-.4-.4-.92-.59-1.43-.59-.52 0-1.04.2-1.43.59L10.3 9.45l-7.72 7.72c-.78.78-.78 2.05 0 2.83L4 21.41c.39.39.9.59 1.41.59.51 0 1.02-.2 1.41-.59l7.78-7.78 2.81-2.81c.8-.78.8-2.07 0-2.86zM5.41 20L4 18.59l7.72-7.72 1.47 1.35L5.41 20z\"/>\n",
              "  </svg>\n",
              "      </button>\n",
              "      \n",
              "  <style>\n",
              "    .colab-df-container {\n",
              "      display:flex;\n",
              "      flex-wrap:wrap;\n",
              "      gap: 12px;\n",
              "    }\n",
              "\n",
              "    .colab-df-convert {\n",
              "      background-color: #E8F0FE;\n",
              "      border: none;\n",
              "      border-radius: 50%;\n",
              "      cursor: pointer;\n",
              "      display: none;\n",
              "      fill: #1967D2;\n",
              "      height: 32px;\n",
              "      padding: 0 0 0 0;\n",
              "      width: 32px;\n",
              "    }\n",
              "\n",
              "    .colab-df-convert:hover {\n",
              "      background-color: #E2EBFA;\n",
              "      box-shadow: 0px 1px 2px rgba(60, 64, 67, 0.3), 0px 1px 3px 1px rgba(60, 64, 67, 0.15);\n",
              "      fill: #174EA6;\n",
              "    }\n",
              "\n",
              "    [theme=dark] .colab-df-convert {\n",
              "      background-color: #3B4455;\n",
              "      fill: #D2E3FC;\n",
              "    }\n",
              "\n",
              "    [theme=dark] .colab-df-convert:hover {\n",
              "      background-color: #434B5C;\n",
              "      box-shadow: 0px 1px 3px 1px rgba(0, 0, 0, 0.15);\n",
              "      filter: drop-shadow(0px 1px 2px rgba(0, 0, 0, 0.3));\n",
              "      fill: #FFFFFF;\n",
              "    }\n",
              "  </style>\n",
              "\n",
              "      <script>\n",
              "        const buttonEl =\n",
              "          document.querySelector('#df-b750c86d-0123-4cba-8fde-868e1b850f67 button.colab-df-convert');\n",
              "        buttonEl.style.display =\n",
              "          google.colab.kernel.accessAllowed ? 'block' : 'none';\n",
              "\n",
              "        async function convertToInteractive(key) {\n",
              "          const element = document.querySelector('#df-b750c86d-0123-4cba-8fde-868e1b850f67');\n",
              "          const dataTable =\n",
              "            await google.colab.kernel.invokeFunction('convertToInteractive',\n",
              "                                                     [key], {});\n",
              "          if (!dataTable) return;\n",
              "\n",
              "          const docLinkHtml = 'Like what you see? Visit the ' +\n",
              "            '<a target=\"_blank\" href=https://colab.research.google.com/notebooks/data_table.ipynb>data table notebook</a>'\n",
              "            + ' to learn more about interactive tables.';\n",
              "          element.innerHTML = '';\n",
              "          dataTable['output_type'] = 'display_data';\n",
              "          await google.colab.output.renderOutput(dataTable, element);\n",
              "          const docLink = document.createElement('div');\n",
              "          docLink.innerHTML = docLinkHtml;\n",
              "          element.appendChild(docLink);\n",
              "        }\n",
              "      </script>\n",
              "    </div>\n",
              "  </div>\n",
              "  "
            ]
          },
          "metadata": {},
          "execution_count": 34
        }
      ]
    },
    {
      "cell_type": "code",
      "source": [
        "# Make features and labels\n",
        "X = bitcoin_prices_nbeats.dropna().drop(\"Closing Price (USD)\", axis=1)\n",
        "y = bitcoin_prices_nbeats.dropna()[\"Closing Price (USD)\"]\n",
        "\n",
        "# Make train and test sets\n",
        "split_size = int(len(X) * 0.8)\n",
        "X_train, y_train = X[:split_size], y[:split_size]\n",
        "X_test, y_test = X[split_size:], y[split_size:]\n",
        "len(X_train), len(y_train), len(X_test), len(y_test)"
      ],
      "metadata": {
        "colab": {
          "base_uri": "https://localhost:8080/"
        },
        "id": "yIM2pdOX-LW5",
        "outputId": "2bc68cca-4fb7-4828-c13f-1e6a51d621e1"
      },
      "execution_count": null,
      "outputs": [
        {
          "output_type": "execute_result",
          "data": {
            "text/plain": [
              "(2224, 2224, 556, 556)"
            ]
          },
          "metadata": {},
          "execution_count": 35
        }
      ]
    },
    {
      "cell_type": "code",
      "source": [
        "# 1. Turn train and test arrays into tensor Datasets\n",
        "train_features_dataset = tf.data.Dataset.from_tensor_slices(X_train)\n",
        "train_labels_dataset = tf.data.Dataset.from_tensor_slices(y_train)\n",
        "\n",
        "test_features_dataset = tf.data.Dataset.from_tensor_slices(X_test)\n",
        "test_labels_dataset = tf.data.Dataset.from_tensor_slices(y_test)\n",
        "\n",
        "# 2. Combine features & labels (features,labels)\n",
        "train_dataset = tf.data.Dataset.zip((train_features_dataset, train_labels_dataset))\n",
        "test_dataset = tf.data.Dataset.zip((test_features_dataset, test_labels_dataset))\n",
        "\n",
        "# 3. Batch and prefetch for optimal performance\n",
        "BATCH_SIZE = 1024 # taken from Appendix D in N-BEATS paper\n",
        "train_dataset = train_dataset.batch(BATCH_SIZE).prefetch(tf.data.AUTOTUNE)\n",
        "test_dataset = test_dataset.batch(BATCH_SIZE).prefetch(tf.data.AUTOTUNE)\n",
        "\n",
        "train_dataset, test_dataset"
      ],
      "metadata": {
        "colab": {
          "base_uri": "https://localhost:8080/"
        },
        "id": "2qpqbc-d-sBR",
        "outputId": "11122b23-499e-4da8-c63c-de748a65ddc0"
      },
      "execution_count": null,
      "outputs": [
        {
          "output_type": "execute_result",
          "data": {
            "text/plain": [
              "(<PrefetchDataset element_spec=(TensorSpec(shape=(None, 7), dtype=tf.float64, name=None), TensorSpec(shape=(None,), dtype=tf.float64, name=None))>,\n",
              " <PrefetchDataset element_spec=(TensorSpec(shape=(None, 7), dtype=tf.float64, name=None), TensorSpec(shape=(None,), dtype=tf.float64, name=None))>)"
            ]
          },
          "metadata": {},
          "execution_count": 36
        }
      ]
    },
    {
      "cell_type": "code",
      "source": [
        "# Values from N-BEATS paper Figure 1 and Table 18/Appendix D\n",
        "N_EPOCHS = 5000 # called \"Iterations\" in Table 18\n",
        "N_NEURONS = 512 # called \"Width\" in Table 18\n",
        "N_LAYERS = 4\n",
        "N_STACKS = 30\n",
        "\n",
        "INPUT_SIZE = WINDOW_SIZE * HORIZON # called \"Lookback\" in Table 18\n",
        "THETA_SIZE = INPUT_SIZE + HORIZON\n",
        "\n",
        "INPUT_SIZE, THETA_SIZE"
      ],
      "metadata": {
        "colab": {
          "base_uri": "https://localhost:8080/"
        },
        "id": "Hy9CvZZvAjZD",
        "outputId": "b88dbd9f-950f-428e-a561-7c13de379804"
      },
      "execution_count": null,
      "outputs": [
        {
          "output_type": "execute_result",
          "data": {
            "text/plain": [
              "(7, 8)"
            ]
          },
          "metadata": {},
          "execution_count": 103
        }
      ]
    },
    {
      "cell_type": "code",
      "source": [
        "from tensorflow.keras import layers\n",
        "# Make tensors\n",
        "tensor_1 = tf.range(10) + 10\n",
        "tensor_2 = tf.range(10)\n",
        "\n",
        "# Subtract\n",
        "subtracted = layers.subtract([tensor_1, tensor_2])\n",
        "\n",
        "# Add\n",
        "added = layers.add([tensor_1, tensor_2])\n",
        "\n",
        "print(f\"Input tensors: {tensor_1.numpy()} & {tensor_2.numpy()}\")\n",
        "print(f\"Subtracted: {subtracted.numpy()}\")\n",
        "print(f\"Added: {added.numpy()}\")"
      ],
      "metadata": {
        "colab": {
          "base_uri": "https://localhost:8080/"
        },
        "id": "HzRdN483AlDs",
        "outputId": "84576385-5c0b-4d7b-b880-e0311f08c082"
      },
      "execution_count": null,
      "outputs": [
        {
          "output_type": "stream",
          "name": "stdout",
          "text": [
            "Input tensors: [10 11 12 13 14 15 16 17 18 19] & [0 1 2 3 4 5 6 7 8 9]\n",
            "Subtracted: [10 10 10 10 10 10 10 10 10 10]\n",
            "Added: [10 12 14 16 18 20 22 24 26 28]\n"
          ]
        }
      ]
    },
    {
      "cell_type": "markdown",
      "source": [
        "Building, compiling and fitting the N-BEATS algorithm\n",
        "Okay, we've finally got all of the pieces of the puzzle ready for building and training the N-BEATS algorithm.\n",
        "\n",
        "We'll do so by going through the following:\n",
        "\n",
        "1. Setup an instance of the N-BEATS block layer using NBeatsBlock (this'll be the initial block used for the network, the rest will be created as part of stacks)\n",
        "2. Create an input layer for the N-BEATS stack (we'll be using the Keras Functional API for this)\n",
        "3. Make the initial backcast and forecasts for the model with the layer created in (1)\n",
        "4. Use a for loop to create stacks of block layers\n",
        "5. Use the NBeatsBlock class within the for loop created in (4) to create blocks which return backcasts and block-level forecasts\n",
        "6. Create the double residual stacking using subtract and add layers\n",
        "7. Put the model inputs and outputs together using tf.keras.Model()\n",
        "8. Compile the model with MAE loss (the paper uses multiple losses but we'll use MAE to keep it inline with our other models) and Adam optimizer with default settings as per section 5.2 of N-BEATS paper)\n",
        "9. Fit the N-BEATS model for 5000 epochs and since it's fitting for so many epochs, we'll use a couple of callbacks:"
      ],
      "metadata": {
        "id": "PJQhYAMzCxo2"
      }
    },
    {
      "cell_type": "code",
      "source": [
        "%%time\n",
        "\n",
        "tf.random.set_seed(42)\n",
        "\n",
        "# 1. Setup N-BEATS Block layer\n",
        "nbeats_block_layer = NBeatsBlock(input_size=INPUT_SIZE,\n",
        "                                 theta_size=THETA_SIZE,\n",
        "                                 horizon=HORIZON,\n",
        "                                 n_neurons=N_NEURONS,\n",
        "                                 n_layers=N_LAYERS,\n",
        "                                 name=\"InitialBlock\")\n",
        "\n",
        "# 2. Create input to stacks\n",
        "stack_input = layers.Input(shape=(INPUT_SIZE), name=\"stack_input\")\n",
        "\n",
        "# 3. Create initial backcast and forecast input (backwards predictions are referred to as residuals in the paper)\n",
        "backcast, forecast = nbeats_block_layer(stack_input)\n",
        "# Add in subtraction residual link, thank you to: https://github.com/mrdbourke/tensorflow-deep-learning/discussions/174 \n",
        "residuals = layers.subtract([stack_input, backcast], name=f\"subtract_00\") \n",
        "\n",
        "# 4. Create stacks of blocks\n",
        "for i, _ in enumerate(range(N_STACKS-1)): # first stack is already creted in (3)\n",
        "\n",
        "  # 5. Use the NBeatsBlock to calculate the backcast as well as block forecast\n",
        "  backcast, block_forecast = NBeatsBlock(\n",
        "      input_size=INPUT_SIZE,\n",
        "      theta_size=THETA_SIZE,\n",
        "      horizon=HORIZON,\n",
        "      n_neurons=N_NEURONS,\n",
        "      n_layers=N_LAYERS,\n",
        "      name=f\"NBeatsBlock_{i}\"\n",
        "  )(residuals) # pass it in residuals (the backcast)\n",
        "\n",
        "# 6. Create the double residual stacking\n",
        "  residuals = layers.subtract([residuals, backcast], name=f\"subtract_{i}\") \n",
        "  forecast = layers.add([forecast, block_forecast], name=f\"add_{i}\")\n",
        "\n",
        "# 7. Put the stack model together\n",
        "model_7 = tf.keras.Model(inputs=stack_input, \n",
        "                         outputs=forecast, \n",
        "                         name=\"model_7_N-BEATS\")\n",
        "\n",
        "# 8. Compile with MAE loss and Adam optimizer\n",
        "model_7.compile(loss=\"mae\",\n",
        "                optimizer=tf.keras.optimizers.Adam(0.001),\n",
        "                metrics=[\"mae\", \"mse\"])\n",
        "\n",
        "# 9. Fit the model with EarlyStopping and ReduceLROnPlateau callbacks\n",
        "model_7.fit(train_dataset,\n",
        "            epochs=N_EPOCHS,\n",
        "            validation_data=test_dataset,\n",
        "            verbose=0, # prevent large amounts of training outputs\n",
        "            # callbacks=[create_model_checkpoint(model_name=stack_model.name)] # saving model every epoch consumes far too much time\n",
        "            callbacks=[tf.keras.callbacks.EarlyStopping(monitor=\"val_loss\", patience=200, restore_best_weights=True),\n",
        "                      tf.keras.callbacks.ReduceLROnPlateau(monitor=\"val_loss\", patience=100, verbose=1)])"
      ],
      "metadata": {
        "colab": {
          "base_uri": "https://localhost:8080/"
        },
        "id": "qsx1Lr2dDvCV",
        "outputId": "0f1c0a68-fca2-4e72-aa8a-519cfa43db1d"
      },
      "execution_count": null,
      "outputs": [
        {
          "output_type": "stream",
          "name": "stdout",
          "text": [
            "\n",
            "Epoch 312: ReduceLROnPlateau reducing learning rate to 0.00010000000474974513.\n",
            "\n",
            "Epoch 412: ReduceLROnPlateau reducing learning rate to 1.0000000474974514e-05.\n",
            "CPU times: user 1min 15s, sys: 1.92 s, total: 1min 17s\n",
            "Wall time: 1min 21s\n"
          ]
        },
        {
          "output_type": "execute_result",
          "data": {
            "text/plain": [
              "<keras.callbacks.History at 0x7fc6360dcb20>"
            ]
          },
          "metadata": {},
          "execution_count": 105
        }
      ]
    },
    {
      "cell_type": "code",
      "source": [
        "# Evaluate N-BEATS model on the test dataset\n",
        "model_7.evaluate(test_dataset)"
      ],
      "metadata": {
        "colab": {
          "base_uri": "https://localhost:8080/"
        },
        "id": "HIZyhEfLG_EI",
        "outputId": "857f9618-58a5-46d0-ec8f-393d82b3a3ad"
      },
      "execution_count": null,
      "outputs": [
        {
          "output_type": "stream",
          "name": "stdout",
          "text": [
            "1/1 [==============================] - 0s 95ms/step - loss: 584.3943 - mae: 584.3943 - mse: 1184402.3750\n"
          ]
        },
        {
          "output_type": "execute_result",
          "data": {
            "text/plain": [
              "[584.3943481445312, 584.3943481445312, 1184402.375]"
            ]
          },
          "metadata": {},
          "execution_count": 106
        }
      ]
    },
    {
      "cell_type": "code",
      "source": [
        "# Make predictions with N-BEATS model\n",
        "model_7_preds = make_preds(model_7, test_dataset)\n",
        "model_7_preds[:10]"
      ],
      "metadata": {
        "colab": {
          "base_uri": "https://localhost:8080/"
        },
        "id": "t0a3YX9tHCQX",
        "outputId": "c23de80d-873f-44e7-c4a2-cab864bdca2a"
      },
      "execution_count": null,
      "outputs": [
        {
          "output_type": "stream",
          "name": "stdout",
          "text": [
            "1/1 [==============================] - 2s 2s/step\n"
          ]
        },
        {
          "output_type": "execute_result",
          "data": {
            "text/plain": [
              "<tf.Tensor: shape=(10,), dtype=float32, numpy=\n",
              "array([8947.494, 8831.615, 9051.766, 8829.273, 8732.015, 8791.708,\n",
              "       8670.262, 8560.478, 8487.313, 8534.347], dtype=float32)>"
            ]
          },
          "metadata": {},
          "execution_count": 107
        }
      ]
    },
    {
      "cell_type": "code",
      "source": [
        "# Evaluate N-BEATS model predictions\n",
        "model_7_results = evaluate_preds(y_true=y_test,\n",
        "                                 y_pred=model_7_preds)\n",
        "model_7_results\n",
        "     "
      ],
      "metadata": {
        "colab": {
          "base_uri": "https://localhost:8080/"
        },
        "id": "IgSwhhDOHC15",
        "outputId": "ae816ab0-b30f-447e-a831-33bdb2d6138b"
      },
      "execution_count": null,
      "outputs": [
        {
          "output_type": "execute_result",
          "data": {
            "text/plain": [
              "{'mae': 584.39435,\n",
              " 'mse': 1184402.4,\n",
              " 'rmse': 1088.3025,\n",
              " 'mape': 2.7460237,\n",
              " 'mase': 1.026619}"
            ]
          },
          "metadata": {},
          "execution_count": 108
        }
      ]
    },
    {
      "cell_type": "code",
      "source": [
        "# Plot the N-BEATS model and inspect the architecture\n",
        "from tensorflow.keras.utils import plot_model\n",
        "plot_model(model_7)\n",
        "     "
      ],
      "metadata": {
        "id": "LplO4LLMHIR7"
      },
      "execution_count": null,
      "outputs": []
    },
    {
      "cell_type": "markdown",
      "source": [
        "model 8: creating an ensemble (stacking different models together)"
      ],
      "metadata": {
        "id": "p083eTSqH0Wm"
      }
    },
    {
      "cell_type": "code",
      "source": [
        "import tensorflow as tf\n",
        "from tensorflow.keras import layers\n",
        "\n",
        "def get_ensemble_models(horizon=HORIZON, \n",
        "                        train_data=train_dataset,\n",
        "                        test_data=test_dataset,\n",
        "                        num_iter=10, \n",
        "                        num_epochs=100, \n",
        "                        loss_fns=[\"mae\", \"mse\", \"mape\"]):\n",
        "  \"\"\"\n",
        "  Returns a list of num_iter models each trained on MAE, MSE and MAPE loss.\n",
        "\n",
        "  For example, if num_iter=10, a list of 30 trained models will be returned:\n",
        "  10 * len([\"mae\", \"mse\", \"mape\"]).\n",
        "  \"\"\"\n",
        "  # Make empty list for trained ensemble models\n",
        "  ensemble_models = []\n",
        "\n",
        "  # Create num_iter number of models per loss function\n",
        "  for i in range(num_iter):\n",
        "    # Build and fit a new model with a different loss function\n",
        "    for loss_function in loss_fns:\n",
        "      print(f\"Optimizing model by reducing: {loss_function} for {num_epochs} epochs, model number: {i}\")\n",
        "\n",
        "      # Construct a simple model (similar to model_1)\n",
        "      model = tf.keras.Sequential([\n",
        "        # Initialize layers with normal (Gaussian) distribution so we can use the models for prediction\n",
        "        # interval estimation later: https://www.tensorflow.org/api_docs/python/tf/keras/initializers/HeNormal\n",
        "        layers.Dense(128, kernel_initializer=\"he_normal\", activation=\"relu\"), \n",
        "        layers.Dense(128, kernel_initializer=\"he_normal\", activation=\"relu\"),\n",
        "        layers.Dense(HORIZON)                                 \n",
        "      ])\n",
        "\n",
        "      \n",
        "      # Compile simple model with current loss function\n",
        "      model.compile(loss=loss_function,\n",
        "                    optimizer=tf.keras.optimizers.Adam(),\n",
        "                    metrics=[\"mae\", \"mse\"])\n",
        "      \n",
        "      # Fit model\n",
        "      model.fit(train_data,\n",
        "                epochs=num_epochs,\n",
        "                verbose=0,\n",
        "                validation_data=test_data,\n",
        "                # Add callbacks to prevent training from going/stalling for too long\n",
        "                callbacks=[tf.keras.callbacks.EarlyStopping(monitor=\"val_loss\",\n",
        "                                                            patience=200,\n",
        "                                                            restore_best_weights=True),\n",
        "                           tf.keras.callbacks.ReduceLROnPlateau(monitor=\"val_loss\",\n",
        "                                                                patience=100,\n",
        "                                                                verbose=1)])\n",
        "      \n",
        "      # Append fitted model to list of ensemble models\n",
        "      ensemble_models.append(model)\n",
        "\n",
        "  return ensemble_models # return list of trained models\n",
        "     "
      ],
      "metadata": {
        "id": "EwnUwKQVeoP1"
      },
      "execution_count": null,
      "outputs": []
    },
    {
      "cell_type": "code",
      "source": [
        "%%time\n",
        "# Get list of trained ensemble models\n",
        "ensemble_models = get_ensemble_models(num_iter=5,\n",
        "                                      num_epochs=1000)"
      ],
      "metadata": {
        "colab": {
          "base_uri": "https://localhost:8080/"
        },
        "id": "7RuR6haXjwm9",
        "outputId": "a8b62b0f-cc71-4b4d-ed64-5918ba280e17"
      },
      "execution_count": null,
      "outputs": [
        {
          "output_type": "stream",
          "name": "stdout",
          "text": [
            "Optimizing model by reducing: mae for 1000 epochs, model number: 0\n",
            "\n",
            "Epoch 402: ReduceLROnPlateau reducing learning rate to 0.00010000000474974513.\n",
            "Optimizing model by reducing: mse for 1000 epochs, model number: 0\n",
            "\n",
            "Epoch 262: ReduceLROnPlateau reducing learning rate to 0.00010000000474974513.\n",
            "\n",
            "Epoch 362: ReduceLROnPlateau reducing learning rate to 1.0000000474974514e-05.\n",
            "Optimizing model by reducing: mape for 1000 epochs, model number: 0\n",
            "\n",
            "Epoch 277: ReduceLROnPlateau reducing learning rate to 0.00010000000474974513.\n",
            "\n",
            "Epoch 377: ReduceLROnPlateau reducing learning rate to 1.0000000474974514e-05.\n",
            "Optimizing model by reducing: mae for 1000 epochs, model number: 1\n",
            "Optimizing model by reducing: mse for 1000 epochs, model number: 1\n",
            "\n",
            "Epoch 368: ReduceLROnPlateau reducing learning rate to 0.00010000000474974513.\n",
            "\n",
            "Epoch 468: ReduceLROnPlateau reducing learning rate to 1.0000000474974514e-05.\n",
            "Optimizing model by reducing: mape for 1000 epochs, model number: 1\n",
            "\n",
            "Epoch 222: ReduceLROnPlateau reducing learning rate to 0.00010000000474974513.\n",
            "\n",
            "Epoch 712: ReduceLROnPlateau reducing learning rate to 1.0000000474974514e-05.\n",
            "\n",
            "Epoch 815: ReduceLROnPlateau reducing learning rate to 1.0000000656873453e-06.\n",
            "\n",
            "Epoch 915: ReduceLROnPlateau reducing learning rate to 1.0000001111620805e-07.\n",
            "Optimizing model by reducing: mae for 1000 epochs, model number: 2\n",
            "\n",
            "Epoch 788: ReduceLROnPlateau reducing learning rate to 0.00010000000474974513.\n",
            "Optimizing model by reducing: mse for 1000 epochs, model number: 2\n",
            "\n",
            "Epoch 505: ReduceLROnPlateau reducing learning rate to 0.00010000000474974513.\n",
            "\n",
            "Epoch 605: ReduceLROnPlateau reducing learning rate to 1.0000000474974514e-05.\n",
            "Optimizing model by reducing: mape for 1000 epochs, model number: 2\n",
            "\n",
            "Epoch 133: ReduceLROnPlateau reducing learning rate to 0.00010000000474974513.\n",
            "\n",
            "Epoch 811: ReduceLROnPlateau reducing learning rate to 1.0000000474974514e-05.\n",
            "\n",
            "Epoch 911: ReduceLROnPlateau reducing learning rate to 1.0000000656873453e-06.\n",
            "Optimizing model by reducing: mae for 1000 epochs, model number: 3\n",
            "\n",
            "Epoch 940: ReduceLROnPlateau reducing learning rate to 0.00010000000474974513.\n",
            "Optimizing model by reducing: mse for 1000 epochs, model number: 3\n",
            "\n",
            "Epoch 520: ReduceLROnPlateau reducing learning rate to 0.00010000000474974513.\n",
            "\n",
            "Epoch 620: ReduceLROnPlateau reducing learning rate to 1.0000000474974514e-05.\n",
            "Optimizing model by reducing: mape for 1000 epochs, model number: 3\n",
            "\n",
            "Epoch 223: ReduceLROnPlateau reducing learning rate to 0.00010000000474974513.\n",
            "\n",
            "Epoch 324: ReduceLROnPlateau reducing learning rate to 1.0000000474974514e-05.\n",
            "\n",
            "Epoch 424: ReduceLROnPlateau reducing learning rate to 1.0000000656873453e-06.\n",
            "Optimizing model by reducing: mae for 1000 epochs, model number: 4\n",
            "\n",
            "Epoch 540: ReduceLROnPlateau reducing learning rate to 0.00010000000474974513.\n",
            "\n",
            "Epoch 640: ReduceLROnPlateau reducing learning rate to 1.0000000474974514e-05.\n",
            "Optimizing model by reducing: mse for 1000 epochs, model number: 4\n",
            "\n",
            "Epoch 497: ReduceLROnPlateau reducing learning rate to 0.00010000000474974513.\n",
            "\n",
            "Epoch 597: ReduceLROnPlateau reducing learning rate to 1.0000000474974514e-05.\n",
            "Optimizing model by reducing: mape for 1000 epochs, model number: 4\n",
            "\n",
            "Epoch 332: ReduceLROnPlateau reducing learning rate to 0.00010000000474974513.\n",
            "\n",
            "Epoch 432: ReduceLROnPlateau reducing learning rate to 1.0000000474974514e-05.\n",
            "CPU times: user 4min 26s, sys: 23.7 s, total: 4min 50s\n",
            "Wall time: 3min 59s\n"
          ]
        }
      ]
    },
    {
      "cell_type": "code",
      "source": [
        "len(ensemble_models)"
      ],
      "metadata": {
        "colab": {
          "base_uri": "https://localhost:8080/"
        },
        "id": "bG-5eaTYmfaD",
        "outputId": "e3908c73-5217-41ae-80d7-48bcde5f5e0b"
      },
      "execution_count": null,
      "outputs": [
        {
          "output_type": "execute_result",
          "data": {
            "text/plain": [
              "15"
            ]
          },
          "metadata": {},
          "execution_count": 41
        }
      ]
    },
    {
      "cell_type": "code",
      "source": [
        "# Create a function which uses a list of trained models to make and return a list of predictions\n",
        "def make_ensemble_preds(ensemble_models, data):\n",
        "  ensemble_preds = []\n",
        "  for model in ensemble_models:\n",
        "    preds = model.predict(data) # make predictions with current ensemble model\n",
        "    ensemble_preds.append(preds)\n",
        "  return tf.constant(tf.squeeze(ensemble_preds))"
      ],
      "metadata": {
        "id": "L7PQyn0XmlkI"
      },
      "execution_count": null,
      "outputs": []
    },
    {
      "cell_type": "code",
      "source": [
        "# Create a list of ensemble predictions\n",
        "ensemble_preds = make_ensemble_preds(ensemble_models=ensemble_models,\n",
        "                                     data=test_dataset)\n",
        "ensemble_preds"
      ],
      "metadata": {
        "colab": {
          "base_uri": "https://localhost:8080/"
        },
        "id": "SweBZImyrdaO",
        "outputId": "2da9d214-1771-40be-9c2d-281694bd0c7a"
      },
      "execution_count": null,
      "outputs": [
        {
          "output_type": "stream",
          "name": "stdout",
          "text": [
            "1/1 [==============================] - 0s 237ms/step\n",
            "1/1 [==============================] - 0s 103ms/step\n",
            "1/1 [==============================] - 0s 95ms/step\n",
            "1/1 [==============================] - 0s 93ms/step\n"
          ]
        },
        {
          "output_type": "stream",
          "name": "stderr",
          "text": [
            "WARNING:tensorflow:5 out of the last 5 calls to <function Model.make_predict_function.<locals>.predict_function at 0x7f58837e14c0> triggered tf.function retracing. Tracing is expensive and the excessive number of tracings could be due to (1) creating @tf.function repeatedly in a loop, (2) passing tensors with different shapes, (3) passing Python objects instead of tensors. For (1), please define your @tf.function outside of the loop. For (2), @tf.function has reduce_retracing=True option that can avoid unnecessary retracing. For (3), please refer to https://www.tensorflow.org/guide/function#controlling_retracing and https://www.tensorflow.org/api_docs/python/tf/function for  more details.\n"
          ]
        },
        {
          "output_type": "stream",
          "name": "stdout",
          "text": [
            "1/1 [==============================] - 0s 128ms/step\n"
          ]
        },
        {
          "output_type": "stream",
          "name": "stderr",
          "text": [
            "WARNING:tensorflow:6 out of the last 6 calls to <function Model.make_predict_function.<locals>.predict_function at 0x7f5883233dc0> triggered tf.function retracing. Tracing is expensive and the excessive number of tracings could be due to (1) creating @tf.function repeatedly in a loop, (2) passing tensors with different shapes, (3) passing Python objects instead of tensors. For (1), please define your @tf.function outside of the loop. For (2), @tf.function has reduce_retracing=True option that can avoid unnecessary retracing. For (3), please refer to https://www.tensorflow.org/guide/function#controlling_retracing and https://www.tensorflow.org/api_docs/python/tf/function for  more details.\n"
          ]
        },
        {
          "output_type": "stream",
          "name": "stdout",
          "text": [
            "1/1 [==============================] - 0s 74ms/step\n",
            "1/1 [==============================] - 0s 72ms/step\n",
            "1/1 [==============================] - 0s 51ms/step\n",
            "1/1 [==============================] - 0s 34ms/step\n",
            "1/1 [==============================] - 0s 30ms/step\n",
            "1/1 [==============================] - 0s 33ms/step\n",
            "1/1 [==============================] - 0s 30ms/step\n",
            "1/1 [==============================] - 0s 38ms/step\n",
            "1/1 [==============================] - 0s 35ms/step\n",
            "1/1 [==============================] - 0s 32ms/step\n"
          ]
        },
        {
          "output_type": "execute_result",
          "data": {
            "text/plain": [
              "<tf.Tensor: shape=(15, 556), dtype=float32, numpy=\n",
              "array([[ 8864.702 ,  8742.716 ,  9131.178 , ..., 49154.633 , 49523.73  ,\n",
              "        45446.668 ],\n",
              "       [ 8784.735 ,  8741.767 ,  8994.167 , ..., 49941.715 , 48364.785 ,\n",
              "        46545.45  ],\n",
              "       [ 8800.718 ,  8761.968 ,  9052.507 , ..., 49812.723 , 47779.79  ,\n",
              "        45531.273 ],\n",
              "       ...,\n",
              "       [ 8777.0205,  8763.775 ,  9061.077 , ..., 50064.223 , 49472.68  ,\n",
              "        45771.207 ],\n",
              "       [ 8791.024 ,  8741.375 ,  9045.285 , ..., 50090.54  , 48444.47  ,\n",
              "        46450.406 ],\n",
              "       [ 8797.434 ,  8776.359 ,  9071.176 , ..., 49622.918 , 48061.105 ,\n",
              "        46365.754 ]], dtype=float32)>"
            ]
          },
          "metadata": {},
          "execution_count": 43
        }
      ]
    },
    {
      "cell_type": "code",
      "source": [
        "# Evaluate ensemble model(s) predictions\n",
        "ensemble_results = evaluate_preds(y_true=y_test,\n",
        "                                  y_pred=np.median(ensemble_preds, axis=0)) # take the median across all ensemble predictions\n",
        "ensemble_results\n",
        "     "
      ],
      "metadata": {
        "colab": {
          "base_uri": "https://localhost:8080/"
        },
        "id": "LG7LyOo_sAs5",
        "outputId": "a604c2eb-e238-4e48-d0bf-c941e236be42"
      },
      "execution_count": null,
      "outputs": [
        {
          "output_type": "execute_result",
          "data": {
            "text/plain": [
              "{'mae': 567.7398,\n",
              " 'mse': 1144965.6,\n",
              " 'rmse': 1070.0306,\n",
              " 'mape': 2.5616353,\n",
              " 'mase': 0.9973616}"
            ]
          },
          "metadata": {},
          "execution_count": 44
        }
      ]
    },
    {
      "cell_type": "code",
      "source": [
        "# Evaluate ensemble model(s) predictions\n",
        "ensemble_results = evaluate_preds(y_true=y_test,\n",
        "                                  y_pred=np.mean(ensemble_preds, axis=0)) # take the median across all ensemble predictions\n",
        "ensemble_results\n",
        "     "
      ],
      "metadata": {
        "colab": {
          "base_uri": "https://localhost:8080/"
        },
        "id": "m1gfOww-saGo",
        "outputId": "530ec129-5d1c-4c71-88a1-920faa8449d9"
      },
      "execution_count": null,
      "outputs": [
        {
          "output_type": "execute_result",
          "data": {
            "text/plain": [
              "{'mae': 567.5587,\n",
              " 'mse': 1144358.1,\n",
              " 'rmse': 1069.7467,\n",
              " 'mape': 2.555836,\n",
              " 'mase': 0.9970435}"
            ]
          },
          "metadata": {},
          "execution_count": 45
        }
      ]
    },
    {
      "cell_type": "markdown",
      "source": [
        "Model 9: Train a model on the full historical data to make predictions into future"
      ],
      "metadata": {
        "id": "w0rTIDb4AonD"
      }
    },
    {
      "cell_type": "code",
      "source": [
        "bitcoin_prices_windowed.head()\n",
        "\n",
        "# Train model on entire data to make prediction for the next day \n",
        "X_all = bitcoin_prices_windowed.drop([\"Price\", \"block_reward\"], axis=1).dropna().to_numpy() # only want prices, our future model can be a univariate model\n",
        "y_all = bitcoin_prices_windowed.dropna()[\"Price\"].to_numpy()"
      ],
      "metadata": {
        "id": "Q0aqu4xFAsuz"
      },
      "execution_count": null,
      "outputs": []
    },
    {
      "cell_type": "code",
      "source": [
        "# 1. Turn X and y into tensor Datasets\n",
        "features_dataset_all = tf.data.Dataset.from_tensor_slices(X_all)\n",
        "labels_dataset_all = tf.data.Dataset.from_tensor_slices(y_all)\n",
        "\n",
        "# 2. Combine features & labels\n",
        "dataset_all = tf.data.Dataset.zip((features_dataset_all, labels_dataset_all))\n",
        "\n",
        "# 3. Batch and prefetch for optimal performance\n",
        "BATCH_SIZE = 1024 # taken from Appendix D in N-BEATS paper\n",
        "dataset_all = dataset_all.batch(BATCH_SIZE).prefetch(tf.data.AUTOTUNE)\n",
        "\n",
        "dataset_all\n",
        "     "
      ],
      "metadata": {
        "id": "9hlHVBWbAyWA"
      },
      "execution_count": null,
      "outputs": []
    },
    {
      "cell_type": "code",
      "source": [
        "tf.random.set_seed(42)\n",
        "\n",
        "# Create model (nice and simple, just to test)\n",
        "model_9 = tf.keras.Sequential([\n",
        "  layers.Dense(128, activation=\"relu\"),\n",
        "  layers.Dense(128, activation=\"relu\"),\n",
        "  layers.Dense(HORIZON)\n",
        "])\n",
        "\n",
        "# Compile\n",
        "model_9.compile(loss=tf.keras.losses.mae,\n",
        "                optimizer=tf.keras.optimizers.Adam())\n",
        "\n",
        "# Fit model on all of the data to make future forecasts\n",
        "model_9.fit(dataset_all,\n",
        "            epochs=100,\n",
        "            verbose=0) # don't print out anything, we've seen this all before\n",
        "     "
      ],
      "metadata": {
        "id": "cnD4sY38A8dp"
      },
      "execution_count": null,
      "outputs": []
    },
    {
      "cell_type": "markdown",
      "source": [
        "Make predictions on the future"
      ],
      "metadata": {
        "id": "0KP0ucdqA9rM"
      }
    },
    {
      "cell_type": "code",
      "source": [
        "\n",
        "# How many timesteps to predict into the future?\n",
        "INTO_FUTURE = 14 # since our Bitcoin data is daily, this is for 14 day"
      ],
      "metadata": {
        "id": "RZTN92ejBEXX"
      },
      "execution_count": null,
      "outputs": []
    },
    {
      "cell_type": "markdown",
      "source": [
        "To do so, we'll build the following steps:\n",
        "\n",
        "1.Function which takes as input:\n",
        "  a list of values (the Bitcoin historical data)\n",
        "  a trained model (such as model_9)\n",
        "  a window into the future to predict (our INTO_FUTURE variable)\n",
        "  the window size a model was trained on (WINDOW_SIZE) - the model can    only predict on the same kind of data it was trained on\n",
        "\n",
        "2.Creates an empty list for future forecasts (this will be returned at the end of the function) and extracts the last WINDOW_SIZE values from the input values (predictions will start from the last WINDOW_SIZE values of the training data)\n",
        "\n",
        "\n",
        "3.Loop INTO_FUTURE times making a prediction on WINDOW_SIZE datasets which update to remove the first the value and append the latest prediction\n",
        "  Eventually future predictions will be made using the model's own previous predictions as input"
      ],
      "metadata": {
        "id": "BN_lTSy2BM4v"
      }
    },
    {
      "cell_type": "code",
      "source": [
        "# 1. Create function to make predictions into the future\n",
        "def make_future_forecast(values, model, into_future, window_size=WINDOW_SIZE) -> list:\n",
        "  \"\"\"\n",
        "  Makes future forecasts into_future steps after values ends.\n",
        "\n",
        "  Returns future forecasts as list of floats.\n",
        "  \"\"\"\n",
        "  # 2. Make an empty list for future forecasts/prepare data to forecast on\n",
        "  future_forecast = []\n",
        "  last_window = values[-WINDOW_SIZE:] # only want preds from the last window (this will get updated)\n",
        "\n",
        "  # 3. Make INTO_FUTURE number of predictions, altering the data which gets predicted on each time \n",
        "  for _ in range(into_future):\n",
        "    \n",
        "    # Predict on last window then append it again, again, again (model starts to make forecasts on its own forecasts)\n",
        "    future_pred = model.predict(tf.expand_dims(last_window, axis=0))\n",
        "    print(f\"Predicting on: \\n {last_window} -> Prediction: {tf.squeeze(future_pred).numpy()}\\n\")\n",
        "    \n",
        "    # Append predictions to future_forecast\n",
        "    future_forecast.append(tf.squeeze(future_pred).numpy())\n",
        "    # print(future_forecast)\n",
        "\n",
        "    # Update last window with new pred and get WINDOW_SIZE most recent preds (model was trained on WINDOW_SIZE windows)\n",
        "    last_window = np.append(last_window, future_pred)[-WINDOW_SIZE:]\n",
        "  \n",
        "  return future_forecast"
      ],
      "metadata": {
        "id": "jdhvPQ9CBk5q"
      },
      "execution_count": null,
      "outputs": []
    },
    {
      "cell_type": "code",
      "source": [
        "# Make forecasts into future of the price of Bitcoin\n",
        "# Note: if you're reading this at a later date, you may already be in the future, so the forecasts \n",
        "# we're making may not actually be forecasts, if that's the case, readjust the training data.\n",
        "future_forecast = make_future_forecast(values=y_all,\n",
        "                                       model=model_9,\n",
        "                                       into_future=INTO_FUTURE,\n",
        "                                       window_size=WINDOW_SIZE)"
      ],
      "metadata": {
        "id": "NBRVdrrgBunf"
      },
      "execution_count": null,
      "outputs": []
    },
    {
      "cell_type": "markdown",
      "source": [
        "Plot future forecasts"
      ],
      "metadata": {
        "id": "sGuSELJaByKx"
      }
    },
    {
      "cell_type": "code",
      "source": [
        "def get_future_dates(start_date, into_future, offset=1):\n",
        "  \"\"\"\n",
        "  Returns array of datetime values from ranging from start_date to start_date+horizon.\n",
        "\n",
        "  start_date: date to start range (np.datetime64)\n",
        "  into_future: number of days to add onto start date for range (int)\n",
        "  offset: number of days to offset start_date by (default 1)\n",
        "  \"\"\"\n",
        "  start_date = start_date + np.timedelta64(offset, \"D\") # specify start date, \"D\" stands for day\n",
        "  end_date = start_date + np.timedelta64(into_future, \"D\") # specify end date\n",
        "  return np.arange(start_date, end_date, dtype=\"datetime64[D]\") # return a date range between start date and end date\n",
        "     "
      ],
      "metadata": {
        "id": "vSJi0KubB1w9"
      },
      "execution_count": null,
      "outputs": []
    },
    {
      "cell_type": "code",
      "source": [
        "# Last timestep of timesteps (currently in np.datetime64 format)\n",
        "last_timestep = bitcoin_prices.index[-1]\n",
        "last_timestep\n",
        "     "
      ],
      "metadata": {
        "id": "crCFqesOB4lu"
      },
      "execution_count": null,
      "outputs": []
    },
    {
      "cell_type": "code",
      "source": [
        "# Get next two weeks of timesteps\n",
        "next_time_steps = get_future_dates(start_date=last_timestep, \n",
        "                                   into_future=INTO_FUTURE)\n",
        "next_time_steps\n"
      ],
      "metadata": {
        "id": "0ub3MklRB8Jz"
      },
      "execution_count": null,
      "outputs": []
    },
    {
      "cell_type": "code",
      "source": [
        "# Insert last timestep/final price so the graph doesn't look messed\n",
        "next_time_steps = np.insert(next_time_steps, 0, last_timestep)\n",
        "future_forecast = np.insert(future_forecast, 0, btc_price[-1])\n",
        "next_time_steps, future_forecast"
      ],
      "metadata": {
        "id": "Bvqpz7-xB-g3"
      },
      "execution_count": null,
      "outputs": []
    },
    {
      "cell_type": "code",
      "source": [
        "\n",
        "# Plot future price predictions of Bitcoin\n",
        "plt.figure(figsize=(10, 7))\n",
        "plot_time_series(bitcoin_prices.index, btc_price, start=2500, format=\"-\", label=\"Actual BTC Price\")\n",
        "plot_time_series(next_time_steps, future_forecast, format=\"-\", label=\"Predicted BTC Price\")\n",
        "     "
      ],
      "metadata": {
        "id": "344ZyMu5CDwZ"
      },
      "execution_count": null,
      "outputs": []
    }
  ]
}